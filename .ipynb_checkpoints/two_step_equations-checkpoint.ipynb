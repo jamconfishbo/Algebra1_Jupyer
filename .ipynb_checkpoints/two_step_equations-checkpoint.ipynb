{
 "cells": [
  {
   "cell_type": "code",
   "execution_count": null,
   "metadata": {},
   "outputs": [],
   "source": [
    "#instructional video for two step equations"
   ]
  },
  {
   "cell_type": "code",
   "execution_count": null,
   "metadata": {
    "scrolled": false
   },
   "outputs": [
    {
     "data": {
      "text/latex": [
       "$ \\Huge3x+5 = 0$"
      ],
      "text/plain": [
       "<IPython.core.display.Latex object>"
      ]
     },
     "metadata": {},
     "output_type": "display_data"
    },
    {
     "data": {
      "text/latex": [
       "$ \\Large \\text{What do you want to do?} $"
      ],
      "text/plain": [
       "<IPython.core.display.Latex object>"
      ]
     },
     "metadata": {},
     "output_type": "display_data"
    },
    {
     "data": {
      "text/latex": [
       "$ \\Large \\text{a) add} $"
      ],
      "text/plain": [
       "<IPython.core.display.Latex object>"
      ]
     },
     "metadata": {},
     "output_type": "display_data"
    },
    {
     "data": {
      "text/latex": [
       "$ \\Large \\text{b) subtract} $"
      ],
      "text/plain": [
       "<IPython.core.display.Latex object>"
      ]
     },
     "metadata": {},
     "output_type": "display_data"
    },
    {
     "data": {
      "text/latex": [
       "$ \\Large \\text{c) multiply} $"
      ],
      "text/plain": [
       "<IPython.core.display.Latex object>"
      ]
     },
     "metadata": {},
     "output_type": "display_data"
    },
    {
     "data": {
      "text/latex": [
       "$ \\Large \\text{d) divide} $"
      ],
      "text/plain": [
       "<IPython.core.display.Latex object>"
      ]
     },
     "metadata": {},
     "output_type": "display_data"
    },
    {
     "name": "stdout",
     "output_type": "stream",
     "text": [
      "a\n"
     ]
    },
    {
     "data": {
      "text/latex": [
       "$ \\Large \\text{ok what do you want to add to  both sides?} $"
      ],
      "text/plain": [
       "<IPython.core.display.Latex object>"
      ]
     },
     "metadata": {},
     "output_type": "display_data"
    },
    {
     "data": {
      "text/latex": [
       "$\\Huge \\begin{align}3x + 5& =0\\\\ \\color{blue}{+?} & \\color{white}=  \\color{blue}{+?}  \\end{align}$"
      ],
      "text/plain": [
       "<IPython.core.display.Latex object>"
      ]
     },
     "metadata": {},
     "output_type": "display_data"
    },
    {
     "name": "stdout",
     "output_type": "stream",
     "text": [
      "-5\n"
     ]
    },
    {
     "data": {
      "text/latex": [
       "$\\Huge \\color{green}{Good!}$"
      ],
      "text/plain": [
       "<IPython.core.display.Latex object>"
      ]
     },
     "metadata": {},
     "output_type": "display_data"
    },
    {
     "data": {
      "text/latex": [
       "$\\Huge \\begin{align}3x + 5& =0 \\\\ \\color{blue}{+-5} & \\color{white}=  \\color{blue}{+-5}  \\end{align}$"
      ],
      "text/plain": [
       "<IPython.core.display.Latex object>"
      ]
     },
     "metadata": {},
     "output_type": "display_data"
    },
    {
     "data": {
      "text/latex": [
       "$\\Huge \\ \\ \\uparrow$"
      ],
      "text/plain": [
       "<IPython.core.display.Latex object>"
      ]
     },
     "metadata": {},
     "output_type": "display_data"
    },
    {
     "data": {
      "text/latex": [
       "$\\Large \\text{What does the left side reduce to?}$"
      ],
      "text/plain": [
       "<IPython.core.display.Latex object>"
      ]
     },
     "metadata": {},
     "output_type": "display_data"
    },
    {
     "name": "stdout",
     "output_type": "stream",
     "text": [
      "3x\n"
     ]
    },
    {
     "data": {
      "text/latex": [
       "$\\Huge \\color{green}{Good!}$"
      ],
      "text/plain": [
       "<IPython.core.display.Latex object>"
      ]
     },
     "metadata": {},
     "output_type": "display_data"
    },
    {
     "data": {
      "text/latex": [
       "$\\Huge \\begin{align}3x & =0 \\\\ \\color{white}{+-5} & \\color{white}=  \\color{blue}{+-5}  \\end{align}$"
      ],
      "text/plain": [
       "<IPython.core.display.Latex object>"
      ]
     },
     "metadata": {},
     "output_type": "display_data"
    },
    {
     "data": {
      "text/latex": [
       "$\\Huge  \\; \\; \\; \\; \\; \\; \\; \\; \\; \\; \\; \\; \\; \\; \\; \\; \\; \\; \\; \\; \\; \\; \\; \\;\\uparrow$"
      ],
      "text/plain": [
       "<IPython.core.display.Latex object>"
      ]
     },
     "metadata": {},
     "output_type": "display_data"
    },
    {
     "data": {
      "text/latex": [
       "$\\Large \\text{What does the right side reduce to?}$"
      ],
      "text/plain": [
       "<IPython.core.display.Latex object>"
      ]
     },
     "metadata": {},
     "output_type": "display_data"
    },
    {
     "name": "stdout",
     "output_type": "stream",
     "text": [
      "-5\n"
     ]
    },
    {
     "data": {
      "text/latex": [
       "$\\Huge \\color{green}{Good!}$"
      ],
      "text/plain": [
       "<IPython.core.display.Latex object>"
      ]
     },
     "metadata": {},
     "output_type": "display_data"
    },
    {
     "data": {
      "text/latex": [
       "$\\Huge \\begin{align}3x & =-5 \\end{align}$"
      ],
      "text/plain": [
       "<IPython.core.display.Latex object>"
      ]
     },
     "metadata": {},
     "output_type": "display_data"
    },
    {
     "data": {
      "text/latex": [
       "$\\Large \\text{Ok what do you want to do next? }$"
      ],
      "text/plain": [
       "<IPython.core.display.Latex object>"
      ]
     },
     "metadata": {},
     "output_type": "display_data"
    },
    {
     "data": {
      "text/latex": [
       "$ \\Large \\text{a) multiply} $"
      ],
      "text/plain": [
       "<IPython.core.display.Latex object>"
      ]
     },
     "metadata": {},
     "output_type": "display_data"
    },
    {
     "data": {
      "text/latex": [
       "$ \\Large \\text{b) divide} $"
      ],
      "text/plain": [
       "<IPython.core.display.Latex object>"
      ]
     },
     "metadata": {},
     "output_type": "display_data"
    },
    {
     "name": "stdout",
     "output_type": "stream",
     "text": [
      "a\n"
     ]
    },
    {
     "data": {
      "text/latex": [
       "$\\Large \\text{Ok what do you want to multiply by? }$"
      ],
      "text/plain": [
       "<IPython.core.display.Latex object>"
      ]
     },
     "metadata": {},
     "output_type": "display_data"
    },
    {
     "data": {
      "text/latex": [
       "$\\Huge \\begin{align}\\color{blue}{?}*3x & =\\color{blue}{?}*-5 \\end{align}$"
      ],
      "text/plain": [
       "<IPython.core.display.Latex object>"
      ]
     },
     "metadata": {},
     "output_type": "display_data"
    },
    {
     "name": "stdout",
     "output_type": "stream",
     "text": [
      "1/3\n"
     ]
    },
    {
     "data": {
      "text/latex": [
       "$\\Large \\color{green}{Good!}$"
      ],
      "text/plain": [
       "<IPython.core.display.Latex object>"
      ]
     },
     "metadata": {},
     "output_type": "display_data"
    },
    {
     "name": "stdout",
     "output_type": "stream",
     "text": [
      "\n"
     ]
    },
    {
     "data": {
      "text/latex": [
       "$\\Huge \\begin{align}\\frac{1}{3}*3x & =\\frac{1}{3}*-5\\end{align}$"
      ],
      "text/plain": [
       "<IPython.core.display.Latex object>"
      ]
     },
     "metadata": {},
     "output_type": "display_data"
    },
    {
     "data": {
      "text/latex": [
       "$\\Huge \\; \\; \\; \\uparrow$"
      ],
      "text/plain": [
       "<IPython.core.display.Latex object>"
      ]
     },
     "metadata": {},
     "output_type": "display_data"
    },
    {
     "data": {
      "text/latex": [
       "$\\text{what does the left side reduce to?}$"
      ],
      "text/plain": [
       "<IPython.core.display.Latex object>"
      ]
     },
     "metadata": {},
     "output_type": "display_data"
    },
    {
     "name": "stdout",
     "output_type": "stream",
     "text": [
      "x\n"
     ]
    },
    {
     "data": {
      "text/latex": [
       "$\\Large \\color{green}{Good!}$"
      ],
      "text/plain": [
       "<IPython.core.display.Latex object>"
      ]
     },
     "metadata": {},
     "output_type": "display_data"
    },
    {
     "data": {
      "text/latex": [
       "$\\Huge \\begin{align} x & =\\frac{1}{3}*-5\\end{align}$"
      ],
      "text/plain": [
       "<IPython.core.display.Latex object>"
      ]
     },
     "metadata": {},
     "output_type": "display_data"
    },
    {
     "data": {
      "text/latex": [
       "$\\Huge \\; \\; \\; \\; \\; \\; \\; \\; \\; \\; \\; \\; \\; \\; \\; \\uparrow$"
      ],
      "text/plain": [
       "<IPython.core.display.Latex object>"
      ]
     },
     "metadata": {},
     "output_type": "display_data"
    },
    {
     "data": {
      "text/latex": [
       "$\\text{what does the right side reduce to?}$"
      ],
      "text/plain": [
       "<IPython.core.display.Latex object>"
      ]
     },
     "metadata": {},
     "output_type": "display_data"
    },
    {
     "data": {
      "text/latex": [
       "$\\text{It will be a fraction!}$"
      ],
      "text/plain": [
       "<IPython.core.display.Latex object>"
      ]
     },
     "metadata": {},
     "output_type": "display_data"
    },
    {
     "name": "stdout",
     "output_type": "stream",
     "text": [
      "-5/3\n"
     ]
    },
    {
     "data": {
      "text/latex": [
       "$\\Large \\color{green}{Good!}$"
      ],
      "text/plain": [
       "<IPython.core.display.Latex object>"
      ]
     },
     "metadata": {},
     "output_type": "display_data"
    },
    {
     "data": {
      "text/latex": [
       "$\\Huge \\begin{align} x & =\\frac{-5}{3} \\end{align}$"
      ],
      "text/plain": [
       "<IPython.core.display.Latex object>"
      ]
     },
     "metadata": {},
     "output_type": "display_data"
    },
    {
     "data": {
      "text/latex": [
       "$\\Large \\text{is the solution! }$"
      ],
      "text/plain": [
       "<IPython.core.display.Latex object>"
      ]
     },
     "metadata": {},
     "output_type": "display_data"
    },
    {
     "data": {
      "text/latex": [
       "$\\Large \\text{Lets try another problem! }$"
      ],
      "text/plain": [
       "<IPython.core.display.Latex object>"
      ]
     },
     "metadata": {},
     "output_type": "display_data"
    }
   ],
   "source": [
    "from IPython.display import display, Latex\n",
    "import random\n",
    "\n",
    "\n",
    "\n",
    "#for converting string fractions into floating points\n",
    "def convert_to_float(frac_str):\n",
    "    try:\n",
    "        return float(frac_str)\n",
    "    except ValueError:\n",
    "        try:\n",
    "            num, denom = frac_str.split('/')\n",
    "        except ValueError:\n",
    "            return None\n",
    "        try:\n",
    "            leading, num = num.split(' ')\n",
    "        except ValueError:\n",
    "            return float(num) / float(denom)        \n",
    "        if float(leading) < 0:\n",
    "            sign_mult = -1\n",
    "        else:\n",
    "            sign_mult = 1\n",
    "        return float(leading) + sign_mult * (float(num) / float(denom))\n",
    "\n",
    "\n",
    "\n",
    "\n",
    "\n",
    "\n",
    "\n",
    "#equation of the form ax+b =c\n",
    "numproblums = 5\n",
    "for i in range(numproblums):\n",
    "    #randomly asined coeficnts and variables\n",
    "    a = random.randrange(1,10)\n",
    "    b = random.randrange(1,10)\n",
    "    c = random.randrange(10)\n",
    "\n",
    "    #this is the equation\n",
    "    eq = f\"{a}x+{b} = {c}\"\n",
    "    \n",
    "    \n",
    "    #student chooses which step to do first, all steps can lead to correct answer\n",
    "    display(Latex(r\"$ \\Huge\" +eq +r\"$\"))\n",
    "    display(Latex(r\"$ \\Large \\text{What do you want to do?} $\"))\n",
    "    display(Latex(r\"$ \\Large \\text{a) add} $\"))\n",
    "    display(Latex(r\"$ \\Large \\text{b) subtract} $\"))\n",
    "    display(Latex(r\"$ \\Large \\text{c) multiply} $\"))\n",
    "    display(Latex(r\"$ \\Large \\text{d) divide} $\"))\n",
    "\n",
    "    step = str(input())\n",
    "    step = step.lower()\n",
    "        #if they choose addition\n",
    "    if \"a\" in step:\n",
    "        \n",
    "        #ok what do you want to add to both sides?\n",
    "        display(Latex(r\"$ \\Large \\text{ok what do you want to add to  both sides?} $\"))\n",
    "        \n",
    "        k=r\"$\\Huge \\begin{align}\"+ str(a)+r\"x + \"+str(b)+r\"& =\"+str(c)+r\"\\\\ \\color{blue}{+?} & \\color{white}=  \\color{blue}{+?}  \\end{align}$\"\n",
    "        display(Latex(k))\n",
    "        \n",
    "        \n",
    "        #asking user what to add to both sides\n",
    "        add = str(input())\n",
    "        nextstep = False\n",
    "        while(nextstep == False):    \n",
    "            if add == str(-1*b):\n",
    "                nextstep = True\n",
    "                break\n",
    "            \n",
    "            #more advanced feedback later\n",
    "            else:\n",
    "                display(Latex(r\"$ \\Large \\text{Try again! Get rid of the terms furthest from the x} $\"))\n",
    "                t=r\"$\\Huge \\begin{align}\"+ str(a)+r\"x + \"+str(b)+r\"& =\"+str(c)+r\"\\\\ \\color{blue}{+?} & \\color{white}=  \\color{blue}{+?}  \\end{align}$\"\n",
    "                display(Latex(t))\n",
    "                sub = str(input())\n",
    "        \n",
    "        \n",
    "        nextstep = False\n",
    "        display(Latex(r\"$\\Huge \\color{green}{Good!}$\"))\n",
    "        \n",
    "        #for reducing left hand side\n",
    "        while nextstep == False:\n",
    "            display(Latex(r\"$\\Huge \\begin{align}\"+ str(a)+r\"x + \"+str(b)+r\"& =\"+str(c)+r\" \\\\ \\color{blue}{+\"+add+r\"} & \\color{white}=  \\color{blue}{+\"+add+ r\"}  \\end{align}$\"))         \n",
    "            display(Latex(r\"$\\Huge \\ \\ \\uparrow$\"))\n",
    "            display(Latex(r\"$\\Large \\text{What does the left side reduce to?}$\"))\n",
    "        \n",
    "            reduc = str(input())\n",
    "            ## if correct\n",
    "            case1 = str(a)+\"x\"\n",
    "            case2 = str(a)+\"x\"\n",
    "            if a == \"-1\":\n",
    "                case1 = \"-x\"\n",
    "            if a == \"1\":\n",
    "                case2 = \"x\"\n",
    "            \n",
    "            \n",
    "            if(reduc == str(a)+\"x\" or reduc == case1 or reduc == case2):\n",
    "                display(Latex(r\"$\\Huge \\color{green}{Good!}$\"))   \n",
    "                display(Latex(r\"$\\Huge \\begin{align}\"+ str(a)+r\"x & =\"+str(c)+r\" \\\\ \\color{white}{+\"+add+r\"} & \\color{white}=  \\color{blue}{+\"+add+ r\"}  \\end{align}$\"))    \n",
    "                nextstep == True      \n",
    "                break\n",
    "                        \n",
    "            ## if wrong            \n",
    "            else:\n",
    "                display(Latex(r\"$\\Huge \\text{Try again}$\"))\n",
    "        \n",
    "        #for reducing right hand side\n",
    "        \n",
    "        while nextstep == False:    \n",
    "            display(Latex(r\"$\\Huge  \\; \\; \\; \\; \\; \\; \\; \\; \\; \\; \\; \\; \\; \\; \\; \\; \\; \\; \\; \\; \\; \\; \\; \\;\\uparrow$\"))\n",
    "            display(Latex(r\"$\\Large \\text{What does the right side reduce to?}$\"))\n",
    "        \n",
    "            reducright = str(input())\n",
    "            ## if correct\n",
    "            right = (int(c) + int(add))\n",
    "            \n",
    "            if(reducright  == str(right)):\n",
    "                display(Latex(r\"$\\Huge \\color{green}{Good!}$\"))   \n",
    "                display(Latex(r\"$\\Huge \\begin{align}\"+ str(a)+r\"x & =\"+reducright + \" \\end{align}$\"))    \n",
    "                nextstep == True      \n",
    "                break\n",
    "                        \n",
    "            ## if wrong            \n",
    "            else:\n",
    "                display(Latex(r\"$\\Huge \\text{Try again}$\"))\n",
    "                \n",
    "        \n",
    "        \n",
    "        #if the coefficient to x is 1 then user is done\n",
    "        if str(a) == \"1\":\n",
    "            display(Latex(r\"$\\Huge \\begin{align}\"+str(a)+r\"x & =\"+reducright + r\" \\end{align}$\"))\n",
    "            display(Latex(r\"$\\Large \\text{Ok you have isolated x in the equation}$\"))\n",
    "            display(Latex(r\"$\\Large \\text{What number is x?}$\"))\n",
    "\n",
    "            correct = False\n",
    "            while correct == False:\n",
    "                xis = str(input())\n",
    "                if (xis == reducright):\n",
    "                    display(Latex(r\"$\\Large \\text{You Solved the equation!}$\"))\n",
    "                    display(Latex(r\"$\\Large \\text{Lets try another problem!}$\"))\n",
    "                    input()\n",
    "                    correct = True\n",
    "                else:\n",
    "                    display(Latex(r\"$\\Large \\text{Try again!}$\"))\n",
    "                    display(Latex(r\"$\\Huge \\begin{align}\"+str(a)+r\"x & =\"+reducright + r\" \\end{align}$\"))\n",
    "                    \n",
    "            continue\n",
    "        else:\n",
    "            #Now it is one step equation\n",
    "            display(Latex(r\"$\\Large \\text{Ok what do you want to do next? }$\"))  \n",
    "            display(Latex(r\"$ \\Large \\text{a) multiply} $\"))\n",
    "            display(Latex(r\"$ \\Large \\text{b) divide} $\"))\n",
    "            step = str(input())\n",
    "            step = step.lower()\n",
    "\n",
    "            #if user pushes wrong button \n",
    "            while step != \"a\" or step != \"b\":\n",
    "                if step == \"a\" or step == \"b\":\n",
    "                    break\n",
    "                display(Latex(r\"$\\Large \\text{Sorry you have to choose between a) or b)}$\"))\n",
    "                step = str(input())\n",
    "                step = step.lower()\n",
    "\n",
    "\n",
    "\n",
    "            #for multiplication\n",
    "            if step == \"a\":  \n",
    "                #if the coefficient to x is not 1\n",
    "                display(Latex(r\"$\\Large \\text{Ok what do you want to multiply by? }$\"))\n",
    "                display(Latex(r\"$\\Huge \\begin{align}\"+r\"\\color{blue}{?}*\" +str(a)+r\"x & =\"+r\"\\color{blue}{?}*\"+reducright + r\" \\end{align}$\"))        \n",
    "                correct = False\n",
    "                while correct == False:\n",
    "\n",
    "                    div = str(input())\n",
    "\n",
    "\n",
    "                    if div == str(\"1/\"+str(a)) or div == str(\"-1/\"+str(-1*a)):\n",
    "                        correct = True\n",
    "                        display(Latex(r\"$\\Large \\color{green}{Good!}$\"))\n",
    "\n",
    "                    else:\n",
    "                        display(Latex(r\"$\\Large \\text{try again! }$\"))\n",
    "                        display(Latex(r\"$\\Large \\text{***Hint we are trying to cancel the coefficient in front of the x}$\"))\n",
    "\n",
    "                #asks how to reduce the left hand side\n",
    "                input()\n",
    "                display(Latex(r\"$\\Huge \\begin{align}\"+r\"\\frac{1}{\"+str(a)+\"}*\" +str(a)+r\"x & =\"+r\"\\frac{1}{\"+str(a)+r\"}*\"+reducright + r\"\\end{align}$\"))\n",
    "                display(Latex(r\"$\\Huge \\; \\; \\; \\uparrow$\"))\n",
    "                display(Latex(r\"$\\text{what does the left side reduce to?}$\"))\n",
    "\n",
    "                #checking for reduced left side answer\n",
    "\n",
    "                correct = False\n",
    "                while correct == False:\n",
    "                    div = str(input())\n",
    "                    if div == \"x\" or div == \"1x\":\n",
    "                        correct = True\n",
    "                        display(Latex(r\"$\\Large \\color{green}{Good!}$\")) \n",
    "                    else:\n",
    "                        display(Latex(r\"$\\Large \\text{Try again!}$\")) \n",
    "                        display(Latex(r\"$\\Large \\text{**Hint what happens when the numerator and denominator of fraction are the same? Something cancels}$\"))\n",
    "\n",
    "                #asks how to reduce the right hand side\n",
    "\n",
    "\n",
    "                display(Latex(r\"$\\Huge \\begin{align} x & =\"+r\"\\frac{1}{\"+str(a)+r\"}*\"+reducright + r\"\\end{align}$\"))\n",
    "                display(Latex(r\"$\\Huge \\; \\; \\; \\; \\; \\; \\; \\; \\; \\; \\; \\; \\; \\; \\; \\uparrow$\"))\n",
    "                display(Latex(r\"$\\text{what does the right side reduce to?}$\"))\n",
    "\n",
    "                #if the answer is a whole number\n",
    "                if (int(reducright) % int(a)) == 0:\n",
    "                    display(Latex(r\"$\\text{It as a whole number}$\"))\n",
    "                #if the answer is a fraction\n",
    "                else:\n",
    "                    display(Latex(r\"$\\text{It will be a fraction!}$\"))\n",
    "\n",
    "                #checking for reduced right side answer\n",
    "                correct = False\n",
    "\n",
    "                #wait for correct answers (fractional or whole number)\n",
    "                while correct == False:\n",
    "                    #if answer whole number\n",
    "                    if (int(reducright) % int(a)) == 0:\n",
    "                        rightside = int(input())\n",
    "                        #if they got it correct\n",
    "                        if rightside == int(int(reducright)/int(a)):\n",
    "                            display(Latex(r\"$\\Large \\color{green}{Good!}$\"))\n",
    "                            display(Latex(r\"$\\Huge x =\"+str(int(int(reducright)/int(a)))+r\"$\"))\n",
    "                            display(Latex(r\"$\\Large \\text{ is the solution! }$\"))\n",
    "                            display(Latex(r\"$\\Large \\text{Lets try another problem! }$\"))\n",
    "                            input()\n",
    "                            correct = True\n",
    "                        #if they got it wrong\n",
    "                        else:\n",
    "                            display(Latex(r\"$\\Large \\text{Try again!}$\"))\n",
    "                    #if the answer is a fraction\n",
    "                    else:\n",
    "                        rightside = input()\n",
    "\n",
    "                        #if they got it correct\n",
    "                        if convert_to_float(rightside) == float(int(reducright)/int(a)): \n",
    "                            display(Latex(r\"$\\Large \\color{green}{Good!}$\"))\n",
    "                            correct = True\n",
    "                            display(Latex(r\"$\\Huge \\begin{align} x & =\"+r\"\\frac{\"+reducright+r\"}{\"+str(a)+r\"} \\end{align}$\"))\n",
    "                            display(Latex(r\"$\\Large \\text{is the solution! }$\"))\n",
    "                            display(Latex(r\"$\\Large \\text{Lets try another problem! }$\"))\n",
    "                            input()\n",
    "\n",
    "                        #if they got it incorrect\n",
    "                        else:\n",
    "                            display(Latex(r\"$\\Large \\text{Try again!}$\"))\n",
    "                            display(Latex(r\"$\\Huge \\begin{align} x & =\"+r\"(\\frac{1}{\"+str(a)+r\"})*\"+reducright + r\"\\end{align} $\"))\n",
    "                            display(Latex(r\"$\\Huge \\; \\; \\; \\;\\; \\; \\; \\; \\; \\; \\; \\; \\; \\; \\; \\; \\; \\; \\; \\uparrow$\"))\n",
    "                            display(Latex(r\"$ \\Large \\text{what does the right side reduce to?}$\"))\n",
    "        \n",
    "        \n",
    "        \n",
    "        \n",
    "        \n",
    "        \n",
    "        \n",
    "        #if they choose subtraction\n",
    "    if \"b\" in step:\n",
    "        \n",
    "        #ok what do you want to subtract from both sides?\n",
    "        display(Latex(r\"$ \\Large \\text{ok what do you want to subtract from both sides?} $\"))\n",
    "        \n",
    "        k=r\"$\\Huge \\begin{align}\"+ str(a)+r\"x + \"+str(b)+r\"& =\"+str(c)+r\"\\\\ \\color{blue}{-?} & \\color{white}=  \\color{blue}{-?}  \\end{align}$\"\n",
    "        display(Latex(k))\n",
    "        \n",
    "        \n",
    "        #asking user what to subtract from both sides\n",
    "        sub = str(input())\n",
    "        nextstep = False\n",
    "        while(nextstep == False):    \n",
    "            if sub == str(b):\n",
    "                nextstep = True\n",
    "                break\n",
    "            \n",
    "            #more advanced feedback later\n",
    "            else:\n",
    "                display(Latex(r\"$ \\Large \\text{Try again! Get rid of the terms furthest from the x} $\"))\n",
    "                t=r\"$\\Huge \\begin{align}\"+ str(a)+r\"x + \"+str(b)+r\"& =\"+str(c)+r\"\\\\ \\color{blue}{-?} & \\color{white}=  \\color{blue}{-?}  \\end{align}$\"\n",
    "                display(Latex(t))\n",
    "                sub = str(input())\n",
    "        \n",
    "        put = str(b)\n",
    "        nextstep = False\n",
    "        display(Latex(r\"$\\Huge \\color{green}{Good!}$\"))\n",
    "        \n",
    "        #for reducing left hand side\n",
    "        while nextstep == False:\n",
    "            display(Latex(r\"$\\Huge \\begin{align}\"+ str(a)+r\"x + \"+str(b)+r\"& =\"+str(c)+r\" \\\\ \\color{blue}{-\"+put+r\"} & \\color{white}=  \\color{blue}{-\"+put+ r\"}  \\end{align}$\"))         \n",
    "            display(Latex(r\"$\\Huge \\ \\ \\uparrow$\"))\n",
    "            display(Latex(r\"$\\Large \\text{What does the left side reduce to?}$\"))\n",
    "        \n",
    "            reduc = str(input())\n",
    "            ## if correct\n",
    "            if(reduc == str(a)+\"x\"):\n",
    "                display(Latex(r\"$\\Huge \\color{green}{Good!}$\"))   \n",
    "                display(Latex(r\"$\\Huge \\begin{align}\"+ str(a)+r\"x & =\"+str(c)+r\" \\\\ \\color{white}{-\"+put+r\"} & \\color{white}=  \\color{blue}{-\"+put+ r\"}  \\end{align}$\"))    \n",
    "                nextstep == True      \n",
    "                break\n",
    "                        \n",
    "            ## if wrong            \n",
    "            else:\n",
    "                display(Latex(r\"$\\Huge \\text{Try again}$\"))\n",
    "        \n",
    "        #for reducing right hand side\n",
    "        \n",
    "        while nextstep == False:\n",
    "            #just commentex this\n",
    "            #display(Latex(r\"$\\Huge \\begin{align}\"+ str(a)+r\"x & =\"+str(c)+r\" \\\\ \\color{white}{-\"+put+r\"} & \\color{white}=  \\color{blue}{-\"+put+ r\"}  \\end{align}$\"))     \n",
    "            display(Latex(r\"$\\Huge  \\; \\; \\; \\; \\; \\; \\; \\; \\; \\; \\; \\; \\; \\; \\; \\; \\; \\; \\; \\; \\; \\; \\; \\;\\uparrow$\"))\n",
    "            display(Latex(r\"$\\Large \\text{What does the right side reduce to?}$\"))\n",
    "        \n",
    "            reducright = str(input())\n",
    "            ## if correct\n",
    "            right = (int(c) - int(put))\n",
    "            \n",
    "            if(reducright  == str(right)):\n",
    "                display(Latex(r\"$\\Huge \\color{green}{Good!}$\"))   \n",
    "                display(Latex(r\"$\\Huge \\begin{align}\"+ str(a)+r\"x & =\"+reducright + \" \\end{align}$\"))    \n",
    "                nextstep == True      \n",
    "                break\n",
    "                        \n",
    "            ## if wrong            \n",
    "            else:\n",
    "                display(Latex(r\"$\\Huge \\text{Try again}$\"))\n",
    "                \n",
    "        \n",
    "        \n",
    "        #if the coefficient to x is 1 then user is done\n",
    "        if str(a) == \"1\":\n",
    "            display(Latex(r\"$\\Huge \\begin{align}\"+str(a)+r\"x & =\"+reducright + r\" \\end{align}$\"))\n",
    "            display(Latex(r\"$\\Large \\text{Ok you have isolated x in the equation}$\"))\n",
    "            display(Latex(r\"$\\Large \\text{What number is x?}$\"))\n",
    "\n",
    "            correct = False\n",
    "            while correct == False:\n",
    "                xis = str(input())\n",
    "                if (xis == reducright):\n",
    "                    display(Latex(r\"$\\Large \\text{You Solved the equation!}$\"))\n",
    "                    display(Latex(r\"$\\Large \\text{Lets try another problem!}$\"))\n",
    "                    correct = True\n",
    "                    input()\n",
    "                else:\n",
    "                    display(Latex(r\"$\\Large \\text{Try again!}$\"))\n",
    "                    display(Latex(r\"$\\Huge \\begin{align}\"+str(a)+r\"x & =\"+reducright + r\" \\end{align}$\"))\n",
    "\n",
    "            continue\n",
    "        \n",
    "        else:\n",
    "            #Now it is one step equation\n",
    "            display(Latex(r\"$\\Large \\text{Ok what do you want to do next? }$\"))  \n",
    "            display(Latex(r\"$ \\Large \\text{a) multiply} $\"))\n",
    "            display(Latex(r\"$ \\Large \\text{b) divide} $\"))\n",
    "            step = str(input())\n",
    "            step = step.lower()\n",
    "\n",
    "            #if user pushes wrong button \n",
    "            while step != \"a\" or step != \"b\":\n",
    "                if step == \"a\" or step == \"b\":\n",
    "                    break\n",
    "                display(Latex(r\"$\\Large \\text{Sorry you have to choose between a) or b)}$\"))\n",
    "                step = str(input())\n",
    "                step = step.lower()\n",
    "\n",
    "            #for multiplication\n",
    "            if step == \"a\":        \n",
    "                #if the coefficient to x is not 1\n",
    "                display(Latex(r\"$\\Large \\text{Ok what do you want to multiply by? }$\"))\n",
    "                display(Latex(r\"$\\Huge \\begin{align}\"+r\"\\color{blue}{?}*\" +str(a)+r\"x & =\"+r\"\\color{blue}{?}*\"+reducright + r\" \\end{align}$\"))        \n",
    "                correct = False\n",
    "                while correct == False:\n",
    "\n",
    "                    div = str(input())\n",
    "\n",
    "\n",
    "                    if div == str(\"1/\"+str(a)) or div == str(\"-1/\"+str(-1*a)):\n",
    "                        correct = True\n",
    "                        display(Latex(r\"$\\Large \\color{green}{Good!}$\"))\n",
    "\n",
    "                    else:\n",
    "                        display(Latex(r\"$\\Large \\text{try again! }$\"))\n",
    "                        display(Latex(r\"$\\Large \\text{***Hint we are trying to cancel the coefficient in front of the x}$\"))\n",
    "\n",
    "                #asks how to reduce the left hand side\n",
    "                input()\n",
    "                display(Latex(r\"$\\Huge \\begin{align}\"+r\"\\frac{1}{\"+str(a)+\"}*\" +str(a)+r\"x & =\"+r\"\\frac{1}{\"+str(a)+r\"}*\"+reducright + r\"\\end{align}$\"))\n",
    "                display(Latex(r\"$\\Huge \\; \\; \\; \\uparrow$\"))\n",
    "                display(Latex(r\"$\\text{what does the left side reduce to?}$\"))\n",
    "\n",
    "                #checking for reduced left side answer\n",
    "\n",
    "                correct = False\n",
    "                while correct == False:\n",
    "                    div = str(input())\n",
    "                    if div == \"x\" or div == \"1x\":\n",
    "                        correct = True\n",
    "                        display(Latex(r\"$\\Large \\color{green}{Good!}$\")) \n",
    "                    else:\n",
    "                        display(Latex(r\"$\\Large \\text{Try again!}$\")) \n",
    "                        display(Latex(r\"$\\Large \\text{**Hint what happens when the numerator and denominator of fraction are the same? Something cancels}$\"))\n",
    "\n",
    "                #asks how to reduce the right hand side\n",
    "\n",
    "\n",
    "                display(Latex(r\"$\\Huge \\begin{align} x & =\"+r\"\\frac{1}{\"+str(a)+r\"}*\"+reducright + r\"\\end{align}$\"))\n",
    "                display(Latex(r\"$\\Huge \\; \\; \\; \\; \\; \\; \\; \\; \\; \\; \\; \\; \\; \\; \\; \\uparrow$\"))\n",
    "                display(Latex(r\"$\\text{what does the right side reduce to?}$\"))\n",
    "\n",
    "                #if the answer is a whole number\n",
    "                if (int(reducright) % int(a)) == 0:\n",
    "                    display(Latex(r\"$\\text{It as a whole number}$\"))\n",
    "                #if the answer is a fraction\n",
    "                else:\n",
    "                    display(Latex(r\"$\\text{It will be a fraction!}$\"))\n",
    "\n",
    "                #checking for reduced right side answer\n",
    "                correct = False\n",
    "\n",
    "                #wait for correct answers (fractional or whole number)\n",
    "                while correct == False:\n",
    "                    #if answer whole number\n",
    "                    if (int(reducright) % int(a)) == 0:\n",
    "                        rightside = int(input())\n",
    "                        #if they got it correct\n",
    "                        if rightside == int(int(reducright)/int(a)):\n",
    "                            display(Latex(r\"$\\Large \\color{green}{Good!}$\"))\n",
    "                            display(Latex(r\"$\\Huge x =\"+str(int(int(reducright)/int(a)))+r\"$\"))\n",
    "                            display(Latex(r\"$\\Large \\text{ is the solution! }$\"))\n",
    "                            display(Latex(r\"$\\Large \\text{Lets try another problem! }$\"))\n",
    "                            input()\n",
    "                            correct = True\n",
    "                        #if they got it wrong\n",
    "                        else:\n",
    "                            display(Latex(r\"$\\Large \\text{Try again!}$\"))\n",
    "                    #if the answer is a fraction\n",
    "                    else:\n",
    "                        rightside = input()\n",
    "\n",
    "                        #if they got it correct\n",
    "                        if convert_to_float(rightside) == float(int(reducright)/int(a)): \n",
    "                            display(Latex(r\"$\\Large \\color{green}{Good!}$\"))\n",
    "                            correct = True\n",
    "                            display(Latex(r\"$\\Huge \\begin{align} x & =\"+r\"\\frac{\"+reducright+r\"}{\"+str(a)+r\"} \\end{align}$\"))\n",
    "                            display(Latex(r\"$\\Large \\text{is the solution! }$\"))\n",
    "                            display(Latex(r\"$\\Large \\text{Lets try another problem! }$\"))\n",
    "                            input()\n",
    "\n",
    "                        #if they got it incorrect\n",
    "                        else:\n",
    "                            display(Latex(r\"$\\Large \\text{Try again!}$\"))\n",
    "                            display(Latex(r\"$\\Huge \\begin{align} x & =\"+r\"(\\frac{1}{\"+str(a)+r\"})*\"+reducright + r\"\\end{align} $\"))\n",
    "                            display(Latex(r\"$\\Huge \\; \\; \\; \\;\\; \\; \\; \\; \\; \\; \\; \\; \\; \\; \\; \\; \\; \\; \\; \\uparrow$\"))\n",
    "                            display(Latex(r\"$ \\Large \\text{what does the right side reduce to?}$\"))\n",
    "                \n",
    "        #for division\n",
    "        #elif step == \"b\":  \n",
    "        #   display(Latex(r\"$\\Large \\text{Ok what do you want to divide by? }$\"))  \n",
    "            \n",
    "\n",
    "        \n",
    "        \n"
   ]
  },
  {
   "cell_type": "code",
   "execution_count": null,
   "metadata": {},
   "outputs": [],
   "source": []
  }
 ],
 "metadata": {
  "interpreter": {
   "hash": "31f2aee4e71d21fbe5cf8b01ff0e069b9275f58929596ceb00d14d90e3e16cd6"
  },
  "kernelspec": {
   "display_name": "Python 3",
   "language": "python",
   "name": "python3"
  }
 },
 "nbformat": 4,
 "nbformat_minor": 4
}
