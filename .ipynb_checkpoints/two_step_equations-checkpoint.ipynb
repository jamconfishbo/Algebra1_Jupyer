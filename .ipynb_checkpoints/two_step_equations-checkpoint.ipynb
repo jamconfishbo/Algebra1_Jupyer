{
 "cells": [
  {
   "cell_type": "code",
   "execution_count": null,
   "metadata": {},
   "outputs": [],
   "source": [
    "#instructional video for two step equations"
   ]
  },
  {
   "cell_type": "code",
   "execution_count": null,
   "metadata": {
    "scrolled": false
   },
   "outputs": [
    {
     "data": {
      "text/latex": [
       "$ \\Huge4x+4 = 2$"
      ],
      "text/plain": [
       "<IPython.core.display.Latex object>"
      ]
     },
     "metadata": {},
     "output_type": "display_data"
    },
    {
     "data": {
      "text/latex": [
       "$ \\Large \\text{What do you want to do?} $"
      ],
      "text/plain": [
       "<IPython.core.display.Latex object>"
      ]
     },
     "metadata": {},
     "output_type": "display_data"
    },
    {
     "data": {
      "text/latex": [
       "$ \\Large \\text{a) add} $"
      ],
      "text/plain": [
       "<IPython.core.display.Latex object>"
      ]
     },
     "metadata": {},
     "output_type": "display_data"
    },
    {
     "data": {
      "text/latex": [
       "$ \\Large \\text{b) subtract} $"
      ],
      "text/plain": [
       "<IPython.core.display.Latex object>"
      ]
     },
     "metadata": {},
     "output_type": "display_data"
    },
    {
     "data": {
      "text/latex": [
       "$ \\Large \\text{c) multiply} $"
      ],
      "text/plain": [
       "<IPython.core.display.Latex object>"
      ]
     },
     "metadata": {},
     "output_type": "display_data"
    },
    {
     "data": {
      "text/latex": [
       "$ \\Large \\text{d) divide} $"
      ],
      "text/plain": [
       "<IPython.core.display.Latex object>"
      ]
     },
     "metadata": {},
     "output_type": "display_data"
    },
    {
     "name": "stdout",
     "output_type": "stream",
     "text": [
      "b\n"
     ]
    },
    {
     "data": {
      "text/latex": [
       "$ \\Large \\text{ok what do you want to subtract from both sides?} $"
      ],
      "text/plain": [
       "<IPython.core.display.Latex object>"
      ]
     },
     "metadata": {},
     "output_type": "display_data"
    },
    {
     "data": {
      "text/latex": [
       "$\\Huge \\begin{align}4x + 4& =2\\\\ \\color{blue}{-?} & \\color{white}=  \\color{blue}{-?}  \\end{align}$"
      ],
      "text/plain": [
       "<IPython.core.display.Latex object>"
      ]
     },
     "metadata": {},
     "output_type": "display_data"
    },
    {
     "name": "stdout",
     "output_type": "stream",
     "text": [
      "5\n"
     ]
    },
    {
     "data": {
      "text/latex": [
       "$ \\Large \\text{Try again! Get rid of the terms furthest from the x} $"
      ],
      "text/plain": [
       "<IPython.core.display.Latex object>"
      ]
     },
     "metadata": {},
     "output_type": "display_data"
    },
    {
     "data": {
      "text/latex": [
       "$\\Huge \\begin{align}4x + 4& =2\\\\ \\color{blue}{-?} & \\color{white}=  \\color{blue}{-?}  \\end{align}$"
      ],
      "text/plain": [
       "<IPython.core.display.Latex object>"
      ]
     },
     "metadata": {},
     "output_type": "display_data"
    },
    {
     "name": "stdout",
     "output_type": "stream",
     "text": [
      "5\n"
     ]
    },
    {
     "data": {
      "text/latex": [
       "$ \\Large \\text{Try again! Get rid of the terms furthest from the x} $"
      ],
      "text/plain": [
       "<IPython.core.display.Latex object>"
      ]
     },
     "metadata": {},
     "output_type": "display_data"
    },
    {
     "data": {
      "text/latex": [
       "$\\Huge \\begin{align}4x + 4& =2\\\\ \\color{blue}{-?} & \\color{white}=  \\color{blue}{-?}  \\end{align}$"
      ],
      "text/plain": [
       "<IPython.core.display.Latex object>"
      ]
     },
     "metadata": {},
     "output_type": "display_data"
    },
    {
     "name": "stdout",
     "output_type": "stream",
     "text": [
      "4\n"
     ]
    },
    {
     "data": {
      "text/latex": [
       "$\\Huge \\color{green}{Good!}$"
      ],
      "text/plain": [
       "<IPython.core.display.Latex object>"
      ]
     },
     "metadata": {},
     "output_type": "display_data"
    },
    {
     "data": {
      "text/latex": [
       "$\\Huge \\begin{align}4x + 4& =2 \\\\ \\color{blue}{-4} & \\color{white}=  \\color{blue}{-4}  \\end{align}$"
      ],
      "text/plain": [
       "<IPython.core.display.Latex object>"
      ]
     },
     "metadata": {},
     "output_type": "display_data"
    },
    {
     "data": {
      "text/latex": [
       "$\\Huge \\ \\ \\uparrow$"
      ],
      "text/plain": [
       "<IPython.core.display.Latex object>"
      ]
     },
     "metadata": {},
     "output_type": "display_data"
    },
    {
     "data": {
      "text/latex": [
       "$\\Large \\text{What does the left side reduce to?}$"
      ],
      "text/plain": [
       "<IPython.core.display.Latex object>"
      ]
     },
     "metadata": {},
     "output_type": "display_data"
    },
    {
     "name": "stdout",
     "output_type": "stream",
     "text": [
      "\n"
     ]
    },
    {
     "data": {
      "text/latex": [
       "$\\Huge \\text{Try again}$"
      ],
      "text/plain": [
       "<IPython.core.display.Latex object>"
      ]
     },
     "metadata": {},
     "output_type": "display_data"
    },
    {
     "data": {
      "text/latex": [
       "$\\Huge \\begin{align}4x + 4& =2 \\\\ \\color{blue}{-4} & \\color{white}=  \\color{blue}{-4}  \\end{align}$"
      ],
      "text/plain": [
       "<IPython.core.display.Latex object>"
      ]
     },
     "metadata": {},
     "output_type": "display_data"
    },
    {
     "data": {
      "text/latex": [
       "$\\Huge \\ \\ \\uparrow$"
      ],
      "text/plain": [
       "<IPython.core.display.Latex object>"
      ]
     },
     "metadata": {},
     "output_type": "display_data"
    },
    {
     "data": {
      "text/latex": [
       "$\\Large \\text{What does the left side reduce to?}$"
      ],
      "text/plain": [
       "<IPython.core.display.Latex object>"
      ]
     },
     "metadata": {},
     "output_type": "display_data"
    }
   ],
   "source": [
    "from IPython.display import display, Latex\n",
    "import random\n",
    "\n",
    "\n",
    "\n",
    "#for converting string fractions into floating points\n",
    "def convert_to_float(frac_str):\n",
    "    try:\n",
    "        return float(frac_str)\n",
    "    except ValueError:\n",
    "        try:\n",
    "            num, denom = frac_str.split('/')\n",
    "        except ValueError:\n",
    "            return None\n",
    "        try:\n",
    "            leading, num = num.split(' ')\n",
    "        except ValueError:\n",
    "            return float(num) / float(denom)        \n",
    "        if float(leading) < 0:\n",
    "            sign_mult = -1\n",
    "        else:\n",
    "            sign_mult = 1\n",
    "        return float(leading) + sign_mult * (float(num) / float(denom))\n",
    "\n",
    "\n",
    "\n",
    "\n",
    "\n",
    "\n",
    "\n",
    "#equation of the form ax+b =c\n",
    "numproblums = 5\n",
    "for i in range(numproblums):\n",
    "    #randomly asined coeficnts and variables\n",
    "    a = random.randrange(1,10)\n",
    "    b = random.randrange(1,10)\n",
    "    c = random.randrange(10)\n",
    "\n",
    "    #this is the equation\n",
    "    eq = f\"{a}x+{b} = {c}\"\n",
    "    \n",
    "    \n",
    "    #student chooses which step to do first, all steps can lead to correct answer\n",
    "    display(Latex(r\"$ \\Huge\" +eq +r\"$\"))\n",
    "    display(Latex(r\"$ \\Large \\text{What do you want to do?} $\"))\n",
    "    display(Latex(r\"$ \\Large \\text{a) add} $\"))\n",
    "    display(Latex(r\"$ \\Large \\text{b) subtract} $\"))\n",
    "    display(Latex(r\"$ \\Large \\text{c) multiply} $\"))\n",
    "    display(Latex(r\"$ \\Large \\text{d) divide} $\"))\n",
    "\n",
    "    step = str(input())\n",
    "    step = step.lower()\n",
    "        \n",
    "        #if they choose addition\n",
    "    if \"a\" in step:\n",
    "        \n",
    "        #ok what do you want to add to both sides?\n",
    "        display(Latex(r\"$ \\Large \\text{ok what do you want to add to  both sides?} $\"))\n",
    "        \n",
    "        k=r\"$\\Huge \\begin{align}\"+ str(a)+r\"x + \"+str(b)+r\"& =\"+str(c)+r\"\\\\ \\color{blue}{+?} & \\color{white}=  \\color{blue}{+?}  \\end{align}$\"\n",
    "        display(Latex(k))\n",
    "        \n",
    "        \n",
    "        #asking user what to add to both sides\n",
    "        add = str(input())\n",
    "        nextstep = False\n",
    "        while(nextstep == False):    \n",
    "            if add == str(-1*b):\n",
    "                nextstep = True\n",
    "                break\n",
    "            \n",
    "            #more advanced feedback later\n",
    "            else:\n",
    "                display(Latex(r\"$ \\Large \\text{Try again! Get rid of the terms furthest from the x} $\"))\n",
    "                t=r\"$\\Huge \\begin{align}\"+ str(a)+r\"x + \"+str(b)+r\"& =\"+str(c)+r\"\\\\ \\color{blue}{+?} & =  \\color{blue}{+?}  \\end{align}$\"\n",
    "                display(Latex(t))\n",
    "                sub = str(input())\n",
    "        \n",
    "        \n",
    "        nextstep = False\n",
    "        display(Latex(r\"$\\Huge \\color{green}{Good!}$\"))\n",
    "        \n",
    "        #for reducing left hand side\n",
    "        while nextstep == False:\n",
    "            display(Latex(r\"$\\Huge \\begin{align}\"+ str(a)+r\"x + \"+str(b)+r\"& =\"+str(c)+r\" \\\\ \\color{blue}{+\"+add+r\"} & \\color{white}=  \\color{blue}{+\"+add+ r\"}  \\end{align}$\"))         \n",
    "            display(Latex(r\"$\\Huge \\ \\ \\uparrow$\"))\n",
    "            display(Latex(r\"$\\Large \\text{What does the left side reduce to?}$\"))\n",
    "        \n",
    "            reduc = str(input())\n",
    "            ## if correct\n",
    "            case1 = str(a)+\"x\"\n",
    "            case2 = str(a)+\"x\"\n",
    "            if a == \"-1\":\n",
    "                case1 = \"-x\"\n",
    "            if a == \"1\":\n",
    "                case2 = \"x\"\n",
    "            \n",
    "            \n",
    "            if(reduc == str(a)+\"x\" or reduc == case1 or reduc == case2):\n",
    "                display(Latex(r\"$\\Huge \\color{green}{Good!}$\"))   \n",
    "                display(Latex(r\"$\\Huge \\begin{align}\"+ str(a)+r\"x & =\"+str(c)+r\" \\\\ \\color{white}{+\"+add+r\"} & \\color{white}=  \\color{blue}{+\"+add+ r\"}  \\end{align}$\"))    \n",
    "                nextstep == True      \n",
    "                break\n",
    "                        \n",
    "            ## if wrong            \n",
    "            else:\n",
    "                display(Latex(r\"$\\Huge \\text{Try again}$\"))\n",
    "        \n",
    "        #for reducing right hand side\n",
    "        \n",
    "        while nextstep == False:    \n",
    "            display(Latex(r\"$\\Huge  \\; \\; \\; \\; \\; \\; \\; \\; \\; \\; \\; \\; \\; \\; \\; \\; \\; \\; \\; \\; \\; \\; \\; \\;\\uparrow$\"))\n",
    "            display(Latex(r\"$\\Large \\text{What does the right side reduce to?}$\"))\n",
    "        \n",
    "            reducright = str(input())\n",
    "            ## if correct\n",
    "            right = (int(c) + int(add))\n",
    "            \n",
    "            if(reducright  == str(right)):\n",
    "                display(Latex(r\"$\\Huge \\color{green}{Good!}$\"))   \n",
    "                display(Latex(r\"$\\Huge \\begin{align}\"+ str(a)+r\"x & =\"+reducright + \" \\end{align}$\"))    \n",
    "                nextstep == True      \n",
    "                break\n",
    "                        \n",
    "            ## if wrong            \n",
    "            else:\n",
    "                display(Latex(r\"$\\Huge \\text{Try again}$\"))\n",
    "                display(Latex(r\"$\\Huge \\begin{align}\"+ str(a)+r\"x & =\"+str(c)+r\" \\\\ \\color{white}{+\"+add+r\"} & \\color{white}=  \\color{blue}{+\"+add+ r\"}  \\end{align}$\"))    \n",
    "\n",
    "                \n",
    "        \n",
    "        \n",
    "        #if the coefficient to x is 1 then user is done\n",
    "        if str(a) == \"1\":\n",
    "            display(Latex(r\"$\\Huge \\begin{align}\"+str(a)+r\"x & =\"+reducright + r\" \\end{align}$\"))\n",
    "            display(Latex(r\"$\\Large \\text{Ok you have isolated x in the equation}$\"))\n",
    "            display(Latex(r\"$\\Large \\text{What number is x?}$\"))\n",
    "\n",
    "            correct = False\n",
    "            while correct == False:\n",
    "                xis = str(input())\n",
    "                if (xis == reducright):\n",
    "                    display(Latex(r\"$\\Large \\text{You Solved the equation!}$\"))\n",
    "                    display(Latex(r\"$\\Large \\text{Lets try another problem!}$\"))\n",
    "                    input()\n",
    "                    correct = True\n",
    "                else:\n",
    "                    display(Latex(r\"$\\Large \\text{Try again!}$\"))\n",
    "                    display(Latex(r\"$\\Huge \\begin{align}\"+str(a)+r\"x & =\"+reducright + r\" \\end{align}$\"))\n",
    "                    \n",
    "            continue\n",
    "        else:\n",
    "            #Now it is one step equation\n",
    "            display(Latex(r\"$\\Large \\text{Ok what do you want to do next? }$\"))  \n",
    "            display(Latex(r\"$ \\Large \\text{a) multiply} $\"))\n",
    "            display(Latex(r\"$ \\Large \\text{b) divide} $\"))\n",
    "            step = str(input())\n",
    "            step = step.lower()\n",
    "\n",
    "            #if user pushes wrong button \n",
    "            while step != \"a\" or step != \"b\":\n",
    "                if step == \"a\" or step == \"b\":\n",
    "                    break\n",
    "                display(Latex(r\"$\\Large \\text{Sorry you have to choose between a) or b)}$\"))\n",
    "                step = str(input())\n",
    "                step = step.lower()\n",
    "\n",
    "\n",
    "\n",
    "            #for multiplication\n",
    "            if step == \"a\":  \n",
    "                #if the coefficient to x is not 1\n",
    "                display(Latex(r\"$\\Large \\text{Ok what do you want to multiply by? }$\"))\n",
    "                display(Latex(r\"$\\Huge \\begin{align}\"+r\"\\color{blue}{?}*\" +str(a)+r\"x & =\"+r\"\\color{blue}{?}*\"+reducright + r\" \\end{align}$\"))        \n",
    "                correct = False\n",
    "                while correct == False:\n",
    "\n",
    "                    div = str(input())\n",
    "\n",
    "\n",
    "                    if div == str(\"1/\"+str(a)) or div == str(\"-1/\"+str(-1*a)):\n",
    "                        correct = True\n",
    "                        display(Latex(r\"$\\Large \\color{green}{Good!}$\"))\n",
    "\n",
    "                    else:\n",
    "                        display(Latex(r\"$\\Large \\text{try again! }$\"))             \n",
    "                        display(Latex(r\"$\\Huge \\begin{align}\"+r\"\\color{blue}{?}*\" +str(a)+r\"x & =\"+r\"\\color{blue}{?}*\"+reducright + r\" \\end{align}$\"))        \n",
    "\n",
    "                        display(Latex(r\"$ \\text{***Hint we are trying to cancel the coefficient in front of the x}$\"))\n",
    "\n",
    "                #asks how to reduce the left hand side\n",
    "                input()\n",
    "                display(Latex(r\"$\\Huge \\begin{align}\"+r\"\\frac{1}{\"+str(a)+\"}*\" +str(a)+r\"x & =\"+r\"\\frac{1}{\"+str(a)+r\"}*\"+reducright + r\"\\end{align}$\"))\n",
    "                display(Latex(r\"$\\Huge \\; \\; \\; \\uparrow$\"))\n",
    "                display(Latex(r\"$\\text{what does the left side reduce to?}$\"))\n",
    "\n",
    "                #checking for reduced left side answer\n",
    "\n",
    "                correct = False\n",
    "                while correct == False:\n",
    "                    div = str(input())\n",
    "                    if div == \"x\" or div == \"1x\":\n",
    "                        correct = True\n",
    "                        display(Latex(r\"$\\Large \\color{green}{Good!}$\")) \n",
    "                    else:\n",
    "                        display(Latex(r\"$\\Large \\text{Try again!}$\"))\n",
    "                        display(Latex(r\"$\\Huge \\begin{align}\"+r\"\\frac{1}{\"+str(a)+\"}*\" +str(a)+r\"x & =\"+r\"\\frac{1}{\"+str(a)+r\"}*\"+reducright + r\"\\end{align}$\"))\n",
    "                        display(Latex(r\"$ \\text{**Hint what happens when the numerator and denominator of fraction are the same? Something cancels}$\"))\n",
    "\n",
    "                #asks how to reduce the right hand side\n",
    "                display(Latex(r\"$\\Huge \\begin{align} x & =\"+r\"\\frac{1}{\"+str(a)+r\"}*\"+reducright + r\"\\end{align}$\"))\n",
    "                display(Latex(r\"$\\Huge \\; \\; \\; \\; \\; \\; \\; \\; \\; \\; \\; \\; \\; \\; \\; \\uparrow$\"))\n",
    "                display(Latex(r\"$\\text{what does the right side reduce to?}$\"))\n",
    "\n",
    "                #if the answer is a whole number\n",
    "                if (int(reducright) % int(a)) == 0:\n",
    "                    display(Latex(r\"$\\text{It's a whole number}$\"))\n",
    "                #if the answer is a fraction\n",
    "                else:\n",
    "                    display(Latex(r\"$\\text{It will be a fraction!}$\"))\n",
    "\n",
    "                #checking for reduced right side answer\n",
    "                correct = False\n",
    "\n",
    "                #wait for correct answers (fractional or whole number)\n",
    "                while correct == False:\n",
    "                    #if answer whole number\n",
    "                    if (int(reducright) % int(a)) == 0:\n",
    "                        rightside = int(input())\n",
    "                        #if they got it correct\n",
    "                        if rightside == int(int(reducright)/int(a)):\n",
    "                            display(Latex(r\"$\\Large \\color{green}{Good!}$\"))\n",
    "                            display(Latex(r\"$\\Huge x =\"+str(int(int(reducright)/int(a)))+r\"$\"))\n",
    "                            display(Latex(r\"$\\Large \\text{ is the solution! }$\"))\n",
    "                            display(Latex(r\"$\\Large \\text{Lets try another problem! }$\"))\n",
    "                            input()\n",
    "                            correct = True\n",
    "                        #if they got it wrong\n",
    "                        else:\n",
    "                            display(Latex(r\"$\\Large \\text{Try again!}$\"))\n",
    "                            display(Latex(r\"$\\Huge \\begin{align} x & =\"+r\"\\frac{1}{\"+str(a)+r\"}*\"+reducright + r\"\\end{align}$\"))\n",
    "\n",
    "                    #if the answer is a fraction\n",
    "                    else:\n",
    "                        rightside = input()\n",
    "\n",
    "                        #if they got it correct\n",
    "                        if convert_to_float(rightside) == float(int(reducright)/int(a)): \n",
    "                            display(Latex(r\"$\\Large \\color{green}{Good!}$\"))\n",
    "                            correct = True\n",
    "                            display(Latex(r\"$\\Huge \\begin{align} x & =\"+r\"\\frac{\"+reducright+r\"}{\"+str(a)+r\"} \\end{align}$\"))\n",
    "                            display(Latex(r\"$\\Large \\text{is the solution! }$\"))\n",
    "                            display(Latex(r\"$\\Large \\text{Lets try another problem! }$\"))\n",
    "                            input()\n",
    "\n",
    "                        #if they got it incorrect\n",
    "                        else:\n",
    "                            display(Latex(r\"$\\Large \\text{Try again!}$\"))\n",
    "                            display(Latex(r\"$\\Huge \\begin{align} x & =\"+r\"(\\frac{1}{\"+str(a)+r\"})*\"+reducright + r\"\\end{align} $\"))\n",
    "                            display(Latex(r\"$\\Huge \\; \\; \\; \\;\\; \\; \\; \\; \\; \\; \\; \\; \\; \\; \\; \\; \\; \\; \\; \\uparrow$\"))\n",
    "                            display(Latex(r\"$ \\Large \\text{what does the right side reduce to?}$\"))\n",
    "        \n",
    "        \n",
    "        \n",
    "        #for division\n",
    "            if step == \"b\":\n",
    "                \n",
    "                #if the coefficient to x is not 1\n",
    "                display(Latex(r\"$\\Large \\text{Ok what do you want to divide by? }$\"))\n",
    "                \n",
    "                display(Latex(r\"$\\Huge \\begin{align} \\frac{\"+str(a)+r\"x}{\\color{blue}{?}} & = \"+r\"\\frac{\"+reducright+r\"}{\\color{blue}{?}} \\end{align}$\"))\n",
    "                \n",
    "                correct = False\n",
    "                while correct == False:\n",
    "\n",
    "                    div = str(input())\n",
    "\n",
    "\n",
    "                    if div == str(a) or div == str(\"-1\"+str(-1*a)):\n",
    "                        correct = True\n",
    "                        display(Latex(r\"$\\Large \\color{green}{Good!}$\"))\n",
    "\n",
    "                    else:\n",
    "                        display(Latex(r\"$\\Large \\text{try again! }$\"))\n",
    "                        display(Latex(r\"$\\Huge \\begin{align} \\frac{\"+str(a)+r\"x}{\\color{blue}{?}} & = \"+r\"\\frac{\"+reducright+r\"}{\\color{blue}{?}} \\end{align}$\"))\n",
    "                        display(Latex(r\"$\\Large \\text{***Hint we are trying to cancel the coefficient in front of the x}$\"))\n",
    "\n",
    "                #asks how to reduce the left hand side\n",
    "                input()\n",
    "                \n",
    "                \n",
    "                display(Latex(r\"$\\Huge \\begin{align} \\frac{\"+str(a)+r\"x}{\"+str(a)+r\"} & = \"+r\"\\frac{\"+reducright+r\"}{\"+str(a)+r\"} \\end{align}$\"))\n",
    "                display(Latex(r\"$\\Huge \\; \\; \\; \\uparrow$\"))\n",
    "                display(Latex(r\"$\\text{what does the left side reduce to?}$\"))\n",
    "\n",
    "                #checking for reduced left side answer\n",
    "\n",
    "                correct = False\n",
    "                while correct == False:\n",
    "                    div = str(input())\n",
    "                    if div == \"x\" or div == \"1x\":\n",
    "                        correct = True\n",
    "                        display(Latex(r\"$\\Large \\color{green}{Good!}$\")) \n",
    "                    else:\n",
    "                        display(Latex(r\"$\\Large \\text{Try again!}$\"))\n",
    "                        display(Latex(r\"$\\Huge \\begin{align} \\frac{\"+str(a)+r\"x}{\"+str(a)+r\"} & = \"+r\"\\frac{\"+reducright+r\"}{\"+str(a)+r\"} \\end{align}$\"))\n",
    "                        display(Latex(r\"$\\Huge \\; \\; \\; \\uparrow$\"))\n",
    "                        display(Latex(r\"$\\text{what does the left side reduce to?}$\"))\n",
    "                        display(Latex(r\"$\\Large \\text{**Hint what happens when the numerator and denominator of fraction are the same? Something cancels}$\"))\n",
    "\n",
    "                #asks how to reduce the right hand side\n",
    "\n",
    "                display(Latex(r\"$\\Huge \\begin{align} x & =\"+r\"\\frac{\"+reducright+r\"}{\"+str(a)+r\"}\\end{align}$\"))\n",
    "                display(Latex(r\"$\\Huge \\; \\; \\; \\; \\; \\;\\; \\; \\; \\; \\; \\; \\; \\; \\; \\; \\; \\; \\; \\; \\; \\; \\; \\; \\uparrow$\"))\n",
    "                display(Latex(r\"$\\text{what does the right side reduce to?}$\"))\n",
    "\n",
    "                #if the answer is a whole number\n",
    "                if (int(reducright) % int(a)) == 0:\n",
    "                    display(Latex(r\"$\\text{It as a whole number}$\"))\n",
    "                #if the answer is a fraction\n",
    "                else:\n",
    "                    display(Latex(r\"$\\text{It will be a fraction!}$\"))\n",
    "\n",
    "                #checking for reduced right side answer\n",
    "                correct = False\n",
    "\n",
    "                #wait for correct answers (fractional or whole number)\n",
    "                while correct == False:\n",
    "                    #if answer whole number\n",
    "                    if (int(reducright) % int(a)) == 0:\n",
    "                        rightside = int(input())\n",
    "                        #if they got it correct\n",
    "                        if rightside == int(int(reducright)/int(a)):\n",
    "                            display(Latex(r\"$\\Large \\color{green}{Good!}$\"))\n",
    "                            display(Latex(r\"$\\Huge x =\"+str(int(int(reducright)/int(a)))+r\"$\"))\n",
    "                            display(Latex(r\"$\\Large \\text{ is the solution! }$\"))\n",
    "                            display(Latex(r\"$\\Large \\text{Lets try another problem! }$\"))\n",
    "                            input()\n",
    "                            correct = True\n",
    "                        #if they got it wrong\n",
    "                        else:\n",
    "                            display(Latex(r\"$\\Large \\text{Try again!}$\"))\n",
    "                            display(Latex(r\"$\\Huge \\begin{align} x & =\"+r\"\\frac{\"+reducright+r\"}{\"+str(a)+r\"}\\end{align}$\"))\n",
    "                            display(Latex(r\"$\\Huge \\; \\; \\; \\; \\; \\;\\; \\; \\; \\; \\; \\; \\; \\; \\; \\; \\; \\; \\; \\; \\; \\; \\; \\; \\uparrow$\"))\n",
    "                            display(Latex(r\"$\\text{what does the right side reduce to?}$\"))\n",
    "\n",
    "                            \n",
    "                    #if the answer is a fraction\n",
    "                    else:\n",
    "                        rightside = input()\n",
    "\n",
    "                        #if they got it correct\n",
    "                        if convert_to_float(rightside) == float(int(reducright)/int(a)): \n",
    "                            display(Latex(r\"$\\Large \\color{green}{Good!}$\"))\n",
    "                            correct = True\n",
    "                            display(Latex(r\"$\\Huge \\begin{align} x & =\"+r\"\\frac{\"+reducright+r\"}{\"+str(a)+r\"} \\end{align}$\"))\n",
    "                            display(Latex(r\"$\\Large \\text{is the solution! }$\"))\n",
    "                            display(Latex(r\"$\\Large \\text{Lets try another problem! }$\"))\n",
    "                            input()\n",
    "\n",
    "                        #if they got it incorrect\n",
    "                        else:\n",
    "                            display(Latex(r\"$\\Large \\text{Try again!}$\"))\n",
    "                            display(Latex(r\"$\\Huge \\begin{align} x & =\"+r\"(\\frac{1}{\"+str(a)+r\"})*\"+reducright + r\"\\end{align} $\"))\n",
    "                            display(Latex(r\"$\\Huge \\; \\; \\; \\;\\; \\; \\; \\; \\; \\; \\; \\; \\; \\; \\; \\; \\; \\; \\; \\uparrow$\"))\n",
    "                            display(Latex(r\"$ \\Large \\text{what does the right side reduce to?}$\"))\n",
    "        \n",
    "        \n",
    "        \n",
    "        #if they choose subtraction\n",
    "    if \"b\" in step:\n",
    "        \n",
    "        #ok what do you want to subtract from both sides?\n",
    "        display(Latex(r\"$ \\Large \\text{ok what do you want to subtract from both sides?} $\"))\n",
    "        \n",
    "        k=r\"$\\Huge \\begin{align}\"+ str(a)+r\"x + \"+str(b)+r\"& =\"+str(c)+r\"\\\\ \\color{blue}{-?} & \\color{white}=  \\color{blue}{-?}  \\end{align}$\"\n",
    "        display(Latex(k))\n",
    "        \n",
    "        \n",
    "        #asking user what to subtract from both sides\n",
    "        sub = str(input())\n",
    "        nextstep = False\n",
    "        while(nextstep == False):    \n",
    "            if sub == str(b):\n",
    "                nextstep = True\n",
    "                break\n",
    "            \n",
    "            #more advanced feedback later\n",
    "            else:\n",
    "                display(Latex(r\"$ \\Large \\text{Try again! Get rid of the terms furthest from the x} $\"))\n",
    "                t=r\"$\\Huge \\begin{align}\"+ str(a)+r\"x + \"+str(b)+r\"& =\"+str(c)+r\"\\\\ \\color{blue}{-?} & \\color{white}=  \\color{blue}{-?}  \\end{align}$\"\n",
    "                display(Latex(t))\n",
    "                sub = str(input())\n",
    "        \n",
    "        put = str(b)\n",
    "        nextstep = False\n",
    "        display(Latex(r\"$\\Huge \\color{green}{Good!}$\"))\n",
    "        \n",
    "        #for reducing left hand side\n",
    "        while nextstep == False:\n",
    "            display(Latex(r\"$\\Huge \\begin{align}\"+ str(a)+r\"x + \"+str(b)+r\"& =\"+str(c)+r\" \\\\ \\color{blue}{-\"+put+r\"} & \\color{white}=  \\color{blue}{-\"+put+ r\"}  \\end{align}$\"))         \n",
    "            display(Latex(r\"$\\Huge \\ \\ \\uparrow$\"))\n",
    "            display(Latex(r\"$\\Large \\text{What does the left side reduce to?}$\"))\n",
    "        \n",
    "            reduc = str(input())\n",
    "            ## if correct\n",
    "            if(reduc == str(a)+\"x\"):\n",
    "                display(Latex(r\"$\\Huge \\color{green}{Good!}$\"))   \n",
    "                display(Latex(r\"$\\Huge \\begin{align}\"+ str(a)+r\"x & =\"+str(c)+r\" \\\\ \\color{white}{-\"+put+r\"} & \\color{white}=  \\color{blue}{-\"+put+ r\"}  \\end{align}$\"))    \n",
    "                nextstep == True      \n",
    "                break\n",
    "                        \n",
    "            ## if wrong            \n",
    "            else:\n",
    "                display(Latex(r\"$\\Huge \\text{Try again}$\"))\n",
    "        \n",
    "        #for reducing right hand side\n",
    "        \n",
    "        while nextstep == False:\n",
    "            #just commentex this\n",
    "            #display(Latex(r\"$\\Huge \\begin{align}\"+ str(a)+r\"x & =\"+str(c)+r\" \\\\ \\color{white}{-\"+put+r\"} & \\color{white}=  \\color{blue}{-\"+put+ r\"}  \\end{align}$\"))     \n",
    "            display(Latex(r\"$\\Huge  \\; \\; \\; \\; \\; \\; \\; \\; \\; \\; \\; \\; \\; \\; \\; \\; \\; \\; \\; \\; \\; \\; \\; \\;\\uparrow$\"))\n",
    "            display(Latex(r\"$\\Large \\text{What does the right side reduce to?}$\"))\n",
    "        \n",
    "            reducright = str(input())\n",
    "            ## if correct\n",
    "            right = (int(c) - int(put))\n",
    "            \n",
    "            if(reducright  == str(right)):\n",
    "                display(Latex(r\"$\\Huge \\color{green}{Good!}$\"))   \n",
    "                display(Latex(r\"$\\Huge \\begin{align}\"+ str(a)+r\"x & =\"+reducright + \" \\end{align}$\"))    \n",
    "                nextstep == True      \n",
    "                break\n",
    "                        \n",
    "            ## if wrong            \n",
    "            else:\n",
    "                display(Latex(r\"$\\Huge \\text{Try again}$\"))\n",
    "                display(Latex(r\"$\\Huge \\begin{align}\"+ str(a)+r\"x & =\"+str(c)+r\" \\\\ \\color{white}{-\"+put+r\"} & \\color{white}=  \\color{blue}{-\"+put+ r\"}  \\end{align}$\"))    \n",
    "\n",
    "                \n",
    "        \n",
    "        \n",
    "        #if the coefficient to x is 1 then user is done\n",
    "        if str(a) == \"1\":\n",
    "            display(Latex(r\"$\\Huge \\begin{align}\"+str(a)+r\"x & =\"+reducright + r\" \\end{align}$\"))\n",
    "            display(Latex(r\"$\\Large \\text{Ok you have isolated x in the equation}$\"))\n",
    "            display(Latex(r\"$\\Large \\text{What number is x?}$\"))\n",
    "\n",
    "            correct = False\n",
    "            while correct == False:\n",
    "                xis = str(input())\n",
    "                if (xis == reducright):\n",
    "                    display(Latex(r\"$\\Large \\text{You Solved the equation!}$\"))\n",
    "                    display(Latex(r\"$\\Large \\text{Lets try another problem!}$\"))\n",
    "                    correct = True\n",
    "                    input()\n",
    "                else:\n",
    "                    display(Latex(r\"$\\Large \\text{Try again!}$\"))\n",
    "                    display(Latex(r\"$\\Huge \\begin{align}\"+str(a)+r\"x & =\"+reducright + r\" \\end{align}$\"))\n",
    "\n",
    "            continue\n",
    "        \n",
    "        else:\n",
    "            #Now it is one step equation\n",
    "            display(Latex(r\"$\\Large \\text{Ok what do you want to do next? }$\"))  \n",
    "            display(Latex(r\"$ \\Large \\text{a) multiply} $\"))\n",
    "            display(Latex(r\"$ \\Large \\text{b) divide} $\"))\n",
    "            step = str(input())\n",
    "            step = step.lower()\n",
    "\n",
    "            #if user pushes wrong button \n",
    "            while step != \"a\" or step != \"b\":\n",
    "                if step == \"a\" or step == \"b\":\n",
    "                    break\n",
    "                display(Latex(r\"$\\Large \\text{Sorry you have to choose between a) or b)}$\"))\n",
    "                step = str(input())\n",
    "                step = step.lower()\n",
    "\n",
    "            #for multiplication\n",
    "            if step == \"a\":        \n",
    "                #if the coefficient to x is not 1\n",
    "                display(Latex(r\"$\\Large \\text{Ok what do you want to multiply by? }$\"))\n",
    "                display(Latex(r\"$\\Huge \\begin{align}\"+r\"\\color{blue}{?}*\" +str(a)+r\"x & =\"+r\"\\color{blue}{?}*\"+reducright + r\" \\end{align}$\"))        \n",
    "                correct = False\n",
    "                while correct == False:\n",
    "\n",
    "                    div = str(input())\n",
    "\n",
    "\n",
    "                    if div == str(\"1/\"+str(a)) or div == str(\"-1/\"+str(-1*a)):\n",
    "                        correct = True\n",
    "                        display(Latex(r\"$\\Large \\color{green}{Good!}$\"))\n",
    "\n",
    "                    else:\n",
    "                        display(Latex(r\"$\\Large \\text{try again! }$\"))\n",
    "                        display(Latex(r\"$\\Large \\text{Ok what do you want to multiply by? }$\"))\n",
    "                        display(Latex(r\"$\\Huge \\begin{align}\"+r\"\\color{blue}{?}*\" +str(a)+r\"x & =\"+r\"\\color{blue}{?}*\"+reducright + r\" \\end{align}$\"))        \n",
    "                        display(Latex(r\"$\\Large \\text{***Hint we are trying to cancel the coefficient in front of the x}$\"))\n",
    "                        \n",
    "                #asks how to reduce the left hand side\n",
    "                input()\n",
    "                display(Latex(r\"$\\Huge \\begin{align}\"+r\"\\frac{1}{\"+str(a)+\"}*\" +str(a)+r\"x & =\"+r\"\\frac{1}{\"+str(a)+r\"}*\"+reducright + r\"\\end{align}$\"))\n",
    "                display(Latex(r\"$\\Huge \\; \\; \\; \\uparrow$\"))\n",
    "                display(Latex(r\"$\\text{what does the left side reduce to?}$\"))\n",
    "\n",
    "                #checking for reduced left side answer\n",
    "\n",
    "                correct = False\n",
    "                while correct == False:\n",
    "                    div = str(input())\n",
    "                    if div == \"x\" or div == \"1x\":\n",
    "                        correct = True\n",
    "                        display(Latex(r\"$\\Large \\color{green}{Good!}$\")) \n",
    "                    else:\n",
    "                        display(Latex(r\"$\\Large \\text{Try again!}$\")) \n",
    "                        display(Latex(r\"$\\Large \\text{**Hint what happens when the numerator and denominator of fraction are the same? Something cancels}$\"))\n",
    "\n",
    "                #asks how to reduce the right hand side\n",
    "\n",
    "\n",
    "                display(Latex(r\"$\\Huge \\begin{align} x & =\"+r\"\\frac{1}{\"+str(a)+r\"}*\"+reducright + r\"\\end{align}$\"))\n",
    "                display(Latex(r\"$\\Huge \\; \\; \\; \\; \\; \\; \\; \\; \\; \\; \\; \\; \\; \\; \\; \\uparrow$\"))\n",
    "                display(Latex(r\"$\\text{what does the right side reduce to?}$\"))\n",
    "\n",
    "                #if the answer is a whole number\n",
    "                if (int(reducright) % int(a)) == 0:\n",
    "                    display(Latex(r\"$\\text{It as a whole number}$\"))\n",
    "                #if the answer is a fraction\n",
    "                else:\n",
    "                    display(Latex(r\"$\\text{It will be a fraction!}$\"))\n",
    "\n",
    "                #checking for reduced right side answer\n",
    "                correct = False\n",
    "\n",
    "                #wait for correct answers (fractional or whole number)\n",
    "                while correct == False:\n",
    "                    #if answer whole number\n",
    "                    if (int(reducright) % int(a)) == 0:\n",
    "                        rightside = int(input())\n",
    "                        #if they got it correct\n",
    "                        if rightside == int(int(reducright)/int(a)):\n",
    "                            display(Latex(r\"$\\Large \\color{green}{Good!}$\"))\n",
    "                            display(Latex(r\"$\\Huge x =\"+str(int(int(reducright)/int(a)))+r\"$\"))\n",
    "                            display(Latex(r\"$\\Large \\text{ is the solution! }$\"))\n",
    "                            display(Latex(r\"$\\Large \\text{Lets try another problem! }$\"))\n",
    "                            input()\n",
    "                            correct = True\n",
    "                        #if they got it wrong\n",
    "                        else:\n",
    "                            display(Latex(r\"$\\Large \\text{Try again!}$\"))\n",
    "                            display(Latex(r\"$\\Huge \\begin{align} x & =\"+r\"\\frac{1}{\"+str(a)+r\"}*\"+reducright + r\"\\end{align}$\"))\n",
    "                            display(Latex(r\"$\\Huge \\; \\; \\; \\; \\; \\; \\; \\; \\; \\; \\; \\; \\; \\; \\; \\uparrow$\"))\n",
    "                            display(Latex(r\"$\\text{what does the right side reduce to?}$\"))\n",
    "                    \n",
    "                    \n",
    "                    #if the answer is a fraction\n",
    "                    else:\n",
    "                        rightside = input()\n",
    "\n",
    "                        #if they got it correct\n",
    "                        if convert_to_float(rightside) == float(int(reducright)/int(a)): \n",
    "                            display(Latex(r\"$\\Large \\color{green}{Good!}$\"))\n",
    "                            correct = True\n",
    "                            display(Latex(r\"$\\Huge \\begin{align} x & =\"+r\"\\frac{\"+reducright+r\"}{\"+str(a)+r\"} \\end{align}$\"))\n",
    "                            display(Latex(r\"$\\Large \\text{is the solution! }$\"))\n",
    "                            display(Latex(r\"$\\Large \\text{Lets try another problem! }$\"))\n",
    "                            input()\n",
    "\n",
    "                        #if they got it incorrect\n",
    "                        else:\n",
    "                            display(Latex(r\"$\\Large \\text{Try again!}$\"))\n",
    "                            display(Latex(r\"$\\Huge \\begin{align} x & =\"+r\"(\\frac{1}{\"+str(a)+r\"})*\"+reducright + r\"\\end{align} $\"))\n",
    "                            display(Latex(r\"$\\Huge \\; \\; \\; \\;\\; \\; \\; \\; \\; \\; \\; \\; \\; \\; \\; \\; \\; \\; \\; \\uparrow$\"))\n",
    "                            display(Latex(r\"$ \\Large \\text{what does the right side reduce to?}$\"))\n",
    "                \n",
    "        #for division\n",
    "            if step == \"b\":\n",
    "                \n",
    "                #if the coefficient to x is not 1\n",
    "                display(Latex(r\"$\\Large \\text{Ok what do you want to divide by? }$\"))\n",
    "                \n",
    "                display(Latex(r\"$\\Huge \\begin{align} \\frac{\"+str(a)+r\"x}{\\color{blue}{?}} & = \"+r\"\\frac{\"+reducright+r\"}{\\color{blue}{?}} \\end{align}$\"))\n",
    "                \n",
    "                correct = False\n",
    "                while correct == False:\n",
    "\n",
    "                    div = str(input())\n",
    "\n",
    "\n",
    "                    if div == str(a) or div == str(\"-1\"+str(-1*a)):\n",
    "                        correct = True\n",
    "                        display(Latex(r\"$\\Large \\color{green}{Good!}$\"))\n",
    "\n",
    "                    else:\n",
    "                        display(Latex(r\"$\\Large \\text{try again! }$\"))\n",
    "                        display(Latex(r\"$\\Huge \\begin{align} \\frac{\"+str(a)+r\"x}{\\color{blue}{?}} & = \"+r\"\\frac{\"+reducright+r\"}{\\color{blue}{?}} \\end{align}$\"))\n",
    "                        display(Latex(r\"$\\Large \\text{***Hint we are trying to cancel the coefficient in front of the x}$\"))\n",
    "\n",
    "                #asks how to reduce the left hand side\n",
    "                input()\n",
    "                \n",
    "                \n",
    "                display(Latex(r\"$\\Huge \\begin{align} \\frac{\"+str(a)+r\"x}{\"+str(a)+r\"} & = \"+r\"\\frac{\"+reducright+r\"}{\"+str(a)+r\"} \\end{align}$\"))\n",
    "                ###display(Latex(r\"$\\Huge \\begin{align}\"+r\"\\frac{1}{\"+str(a)+\"}*\" +str(a)+r\"x & =\"+r\"\\frac{1}{\"+str(a)+r\"}*\"+reducright + r\"\\end{align}$\"))\n",
    "                display(Latex(r\"$\\Huge \\; \\; \\; \\uparrow$\"))\n",
    "                display(Latex(r\"$\\text{what does the left side reduce to?}$\"))\n",
    "\n",
    "                #checking for reduced left side answer\n",
    "\n",
    "                correct = False\n",
    "                while correct == False:\n",
    "                    div = str(input())\n",
    "                    if div == \"x\" or div == \"1x\":\n",
    "                        correct = True\n",
    "                        display(Latex(r\"$\\Large \\color{green}{Good!}$\")) \n",
    "                    else:\n",
    "                        display(Latex(r\"$\\Large \\text{Try again!}$\"))  \n",
    "                        display(Latex(r\"$\\Huge \\begin{align} \\frac{\"+str(a)+r\"x}{\"+str(a)+r\"} & = \"+r\"\\frac{\"+reducright+r\"}{\"+str(a)+r\"} \\end{align}$\"))\n",
    "                        display(Latex(r\"$\\Huge \\; \\; \\; \\uparrow$\"))\n",
    "                        display(Latex(r\"$\\text{what does the left side reduce to?}$\"))\n",
    "                        display(Latex(r\"$\\Large \\text{**Hint what happens when the numerator and denominator of fraction are the same? Something cancels}$\"))\n",
    "\n",
    "                #asks how to reduce the right hand side\n",
    "\n",
    "                display(Latex(r\"$\\Huge \\begin{align} x & =\"+r\"\\frac{\"+reducright+r\"}{\"+str(a)+r\"}\\end{align}$\"))\n",
    "                display(Latex(r\"$\\Huge \\; \\; \\; \\; \\; \\;\\; \\; \\; \\; \\; \\; \\; \\; \\; \\; \\; \\; \\; \\; \\; \\; \\; \\; \\uparrow$\"))\n",
    "                display(Latex(r\"$\\text{what does the right side reduce to?}$\"))\n",
    "\n",
    "                #if the answer is a whole number\n",
    "                if (int(reducright) % int(a)) == 0:\n",
    "                    display(Latex(r\"$\\text{It as a whole number}$\"))\n",
    "                #if the answer is a fraction\n",
    "                else:\n",
    "                    display(Latex(r\"$\\text{It will be a fraction!}$\"))\n",
    "\n",
    "                #checking for reduced right side answer\n",
    "                correct = False\n",
    "\n",
    "                #wait for correct answers (fractional or whole number)\n",
    "                while correct == False:\n",
    "                    #if answer whole number\n",
    "                    if (int(reducright) % int(a)) == 0:\n",
    "                        rightside = int(input())\n",
    "                        #if they got it correct\n",
    "                        if rightside == int(int(reducright)/int(a)):\n",
    "                            display(Latex(r\"$\\Large \\color{green}{Good!}$\"))\n",
    "                            display(Latex(r\"$\\Huge x =\"+str(int(int(reducright)/int(a)))+r\"$\"))\n",
    "                            display(Latex(r\"$\\Large \\text{ is the solution! }$\"))\n",
    "                            display(Latex(r\"$\\Large \\text{Lets try another problem! }$\"))\n",
    "                            input()\n",
    "                            correct = True\n",
    "                        #if they got it wrong\n",
    "                        else:\n",
    "                            display(Latex(r\"$\\Large \\text{Try again!}$\"))\n",
    "                            display(Latex(r\"$\\Huge \\begin{align} x & =\"+r\"\\frac{\"+reducright+r\"}{\"+str(a)+r\"}\\end{align}$\"))\n",
    "                            display(Latex(r\"$\\Huge \\; \\; \\; \\; \\; \\;\\; \\; \\; \\; \\; \\; \\; \\; \\; \\; \\; \\; \\; \\; \\; \\; \\; \\; \\uparrow$\"))\n",
    "                            display(Latex(r\"$\\text{what does the right side reduce to?}$\"))\n",
    "                    #if the answer is a fraction\n",
    "                    else:\n",
    "                        rightside = input()\n",
    "\n",
    "                        #if they got it correct\n",
    "                        if convert_to_float(rightside) == float(int(reducright)/int(a)): \n",
    "                            display(Latex(r\"$\\Large \\color{green}{Good!}$\"))\n",
    "                            correct = True\n",
    "                            display(Latex(r\"$\\Huge \\begin{align} x & =\"+r\"\\frac{\"+reducright+r\"}{\"+str(a)+r\"} \\end{align}$\"))\n",
    "                            display(Latex(r\"$\\Large \\text{is the solution! }$\"))\n",
    "                            display(Latex(r\"$\\Large \\text{Lets try another problem! }$\"))\n",
    "                            input()\n",
    "\n",
    "                        #if they got it incorrect\n",
    "                        else:\n",
    "                            display(Latex(r\"$\\Large \\text{Try again!}$\"))\n",
    "                            display(Latex(r\"$\\Huge \\begin{align} x & =\"+r\"(\\frac{1}{\"+str(a)+r\"})*\"+reducright + r\"\\end{align} $\"))\n",
    "                            display(Latex(r\"$\\Huge \\; \\; \\; \\;\\; \\; \\; \\; \\; \\; \\; \\; \\; \\; \\; \\; \\; \\; \\; \\uparrow$\"))\n",
    "                            display(Latex(r\"$ \\Large \\text{what does the right side reduce to?}$\"))\n",
    "                            \n",
    "                            \n",
    "                            \n",
    "        "
   ]
  },
  {
   "cell_type": "code",
   "execution_count": 4,
   "metadata": {},
   "outputs": [
    {
     "data": {
      "text/latex": [
       "$ \\Huge7x+8=1$"
      ],
      "text/plain": [
       "<IPython.core.display.Latex object>"
      ]
     },
     "metadata": {},
     "output_type": "display_data"
    },
    {
     "data": {
      "text/latex": [
       "$ \\Large \\text{What do you want to do?} $"
      ],
      "text/plain": [
       "<IPython.core.display.Latex object>"
      ]
     },
     "metadata": {},
     "output_type": "display_data"
    },
    {
     "data": {
      "text/latex": [
       "$ \\Large \\text{a) add} $"
      ],
      "text/plain": [
       "<IPython.core.display.Latex object>"
      ]
     },
     "metadata": {},
     "output_type": "display_data"
    },
    {
     "data": {
      "text/latex": [
       "$ \\Large \\text{b) subtract} $"
      ],
      "text/plain": [
       "<IPython.core.display.Latex object>"
      ]
     },
     "metadata": {},
     "output_type": "display_data"
    },
    {
     "data": {
      "text/latex": [
       "$ \\Large \\text{c) multiply} $"
      ],
      "text/plain": [
       "<IPython.core.display.Latex object>"
      ]
     },
     "metadata": {},
     "output_type": "display_data"
    },
    {
     "data": {
      "text/latex": [
       "$ \\Large \\text{d) divide} $"
      ],
      "text/plain": [
       "<IPython.core.display.Latex object>"
      ]
     },
     "metadata": {},
     "output_type": "display_data"
    },
    {
     "name": "stdout",
     "output_type": "stream",
     "text": [
      "a\n"
     ]
    },
    {
     "data": {
      "text/latex": [
       "$ \\Large \\text{ok what do you want to add to  both sides?} $"
      ],
      "text/plain": [
       "<IPython.core.display.Latex object>"
      ]
     },
     "metadata": {},
     "output_type": "display_data"
    },
    {
     "ename": "NameError",
     "evalue": "name 'a' is not defined",
     "output_type": "error",
     "traceback": [
      "\u001b[0;31m---------------------------------------------------------------------------\u001b[0m",
      "\u001b[0;31mNameError\u001b[0m                                 Traceback (most recent call last)",
      "\u001b[0;32m<ipython-input-4-286fba107c91>\u001b[0m in \u001b[0;36m<module>\u001b[0;34m\u001b[0m\n\u001b[1;32m    238\u001b[0m \u001b[0;34m\u001b[0m\u001b[0m\n\u001b[1;32m    239\u001b[0m \u001b[0;34m\u001b[0m\u001b[0m\n\u001b[0;32m--> 240\u001b[0;31m \u001b[0mstartquestions\u001b[0m\u001b[0;34m(\u001b[0m\u001b[0;36m1\u001b[0m\u001b[0;34m)\u001b[0m\u001b[0;34m\u001b[0m\u001b[0;34m\u001b[0m\u001b[0m\n\u001b[0m",
      "\u001b[0;32m<ipython-input-4-286fba107c91>\u001b[0m in \u001b[0;36mstartquestions\u001b[0;34m(n)\u001b[0m\n\u001b[1;32m    234\u001b[0m \u001b[0;32mdef\u001b[0m \u001b[0mstartquestions\u001b[0m\u001b[0;34m(\u001b[0m\u001b[0mn\u001b[0m\u001b[0;34m)\u001b[0m\u001b[0;34m:\u001b[0m\u001b[0;34m\u001b[0m\u001b[0;34m\u001b[0m\u001b[0m\n\u001b[1;32m    235\u001b[0m     \u001b[0;32mfor\u001b[0m \u001b[0mi\u001b[0m \u001b[0;32min\u001b[0m \u001b[0mrange\u001b[0m\u001b[0;34m(\u001b[0m\u001b[0mn\u001b[0m\u001b[0;34m)\u001b[0m\u001b[0;34m:\u001b[0m\u001b[0;34m\u001b[0m\u001b[0;34m\u001b[0m\u001b[0m\n\u001b[0;32m--> 236\u001b[0;31m         \u001b[0mdoquestion\u001b[0m\u001b[0;34m(\u001b[0m\u001b[0;34m)\u001b[0m\u001b[0;34m\u001b[0m\u001b[0;34m\u001b[0m\u001b[0m\n\u001b[0m\u001b[1;32m    237\u001b[0m \u001b[0;34m\u001b[0m\u001b[0m\n\u001b[1;32m    238\u001b[0m \u001b[0;34m\u001b[0m\u001b[0m\n",
      "\u001b[0;32m<ipython-input-4-286fba107c91>\u001b[0m in \u001b[0;36mdoquestion\u001b[0;34m()\u001b[0m\n\u001b[1;32m     59\u001b[0m             \u001b[0mcont1\u001b[0m \u001b[0;34m=\u001b[0m \u001b[0;32mFalse\u001b[0m\u001b[0;34m\u001b[0m\u001b[0;34m\u001b[0m\u001b[0m\n\u001b[1;32m     60\u001b[0m             \u001b[0;32mwhile\u001b[0m \u001b[0mcont1\u001b[0m \u001b[0;34m==\u001b[0m \u001b[0;32mFalse\u001b[0m\u001b[0;34m:\u001b[0m\u001b[0;34m\u001b[0m\u001b[0;34m\u001b[0m\u001b[0m\n\u001b[0;32m---> 61\u001b[0;31m                 \u001b[0meq\u001b[0m \u001b[0;34m=\u001b[0m \u001b[0madd\u001b[0m\u001b[0;34m(\u001b[0m\u001b[0meq\u001b[0m\u001b[0;34m,\u001b[0m\u001b[0;36m1\u001b[0m\u001b[0;34m)\u001b[0m\u001b[0;34m\u001b[0m\u001b[0;34m\u001b[0m\u001b[0m\n\u001b[0m\u001b[1;32m     62\u001b[0m                 \u001b[0mdisplay\u001b[0m\u001b[0;34m(\u001b[0m\u001b[0mLatex\u001b[0m\u001b[0;34m(\u001b[0m\u001b[0;34mr\"$ \\Huge\"\u001b[0m \u001b[0;34m+\u001b[0m\u001b[0meq\u001b[0m \u001b[0;34m+\u001b[0m\u001b[0;34mr\"$\"\u001b[0m\u001b[0;34m)\u001b[0m\u001b[0;34m)\u001b[0m\u001b[0;34m\u001b[0m\u001b[0;34m\u001b[0m\u001b[0m\n\u001b[1;32m     63\u001b[0m                 \u001b[0mdisplay\u001b[0m\u001b[0;34m(\u001b[0m\u001b[0mLatex\u001b[0m\u001b[0;34m(\u001b[0m\u001b[0;34mr\"$ \\Large \\text{What do you want to do next?} $\"\u001b[0m\u001b[0;34m)\u001b[0m\u001b[0;34m)\u001b[0m\u001b[0;34m\u001b[0m\u001b[0;34m\u001b[0m\u001b[0m\n",
      "\u001b[0;32m<ipython-input-4-286fba107c91>\u001b[0m in \u001b[0;36madd\u001b[0;34m(eq, step)\u001b[0m\n\u001b[1;32m    137\u001b[0m         \u001b[0mdisplay\u001b[0m\u001b[0;34m(\u001b[0m\u001b[0mLatex\u001b[0m\u001b[0;34m(\u001b[0m\u001b[0;34mr\"$ \\Large \\text{ok what do you want to add to  both sides?} $\"\u001b[0m\u001b[0;34m)\u001b[0m\u001b[0;34m)\u001b[0m\u001b[0;34m\u001b[0m\u001b[0;34m\u001b[0m\u001b[0m\n\u001b[1;32m    138\u001b[0m \u001b[0;34m\u001b[0m\u001b[0m\n\u001b[0;32m--> 139\u001b[0;31m         \u001b[0mk\u001b[0m\u001b[0;34m=\u001b[0m\u001b[0;34mr\"$\\Huge \\begin{align}\"\u001b[0m\u001b[0;34m+\u001b[0m \u001b[0mstr\u001b[0m\u001b[0;34m(\u001b[0m\u001b[0ma\u001b[0m\u001b[0;34m)\u001b[0m\u001b[0;34m+\u001b[0m\u001b[0;34mr\"x + \"\u001b[0m\u001b[0;34m+\u001b[0m\u001b[0mstr\u001b[0m\u001b[0;34m(\u001b[0m\u001b[0mb\u001b[0m\u001b[0;34m)\u001b[0m\u001b[0;34m+\u001b[0m\u001b[0;34mr\"& =\"\u001b[0m\u001b[0;34m+\u001b[0m\u001b[0mstr\u001b[0m\u001b[0;34m(\u001b[0m\u001b[0mc\u001b[0m\u001b[0;34m)\u001b[0m\u001b[0;34m+\u001b[0m\u001b[0;34mr\"\\\\ \\color{blue}{+?} & \\color{white}=  \\color{blue}{+?}  \\end{align}$\"\u001b[0m\u001b[0;34m\u001b[0m\u001b[0;34m\u001b[0m\u001b[0m\n\u001b[0m\u001b[1;32m    140\u001b[0m         \u001b[0mdisplay\u001b[0m\u001b[0;34m(\u001b[0m\u001b[0mLatex\u001b[0m\u001b[0;34m(\u001b[0m\u001b[0mk\u001b[0m\u001b[0;34m)\u001b[0m\u001b[0;34m)\u001b[0m\u001b[0;34m\u001b[0m\u001b[0;34m\u001b[0m\u001b[0m\n\u001b[1;32m    141\u001b[0m \u001b[0;34m\u001b[0m\u001b[0m\n",
      "\u001b[0;31mNameError\u001b[0m: name 'a' is not defined"
     ]
    }
   ],
   "source": [
    "from IPython.display import display, Latex\n",
    "import random\n",
    "\n",
    "\n",
    "\n",
    "#for converting string fractions into floating points\n",
    "def convert_to_float(frac_str):\n",
    "    try:\n",
    "        return float(frac_str)\n",
    "    except ValueError:\n",
    "        try:\n",
    "            num, denom = frac_str.split('/')\n",
    "        except ValueError:\n",
    "            return None\n",
    "        try:\n",
    "            leading, num = num.split(' ')\n",
    "        except ValueError:\n",
    "            return float(num) / float(denom)        \n",
    "        if float(leading) < 0:\n",
    "            sign_mult = -1\n",
    "        else:\n",
    "            sign_mult = 1\n",
    "        return float(leading) + sign_mult * (float(num) / float(denom))\n",
    "\n",
    "#eq is a tuple of tuples, first component left side of equal sign, sencond component right side    \n",
    "def latexify(eq):\n",
    "    \n",
    "    exceptions = [\"cos\", \"sin\", \"tan\", \"cotan\", \"e^\", \"arcsin\",\"arccos\", \"arctan\", \"sec\",\"csc\", \"int\", \"sum\", \"prod\", \"lim\", \"inf\"]\n",
    "    \n",
    "    #for i in len(eq)\n",
    "    \n",
    "\n",
    "    \n",
    "    \n",
    "def doquestion():\n",
    "    #randomly asined coeficnts and variables\n",
    "    a = random.randrange(1,10)\n",
    "    b = random.randrange(1,10)\n",
    "    c = random.randrange(10)\n",
    "\n",
    "    #this is the equation\n",
    "    #eq = f\"{a}x+{b} = {c}\"\n",
    "    eq= ((str(a)+\"x\",str(b)),(str(c),))\n",
    "   \n",
    "    cont = False\n",
    "    while cont == False:\n",
    "        #student chooses which step to do first, all steps can lead to correct answer\n",
    "        display(Latex(r\"$ \\Huge\" +eq[0][0]+\"+\"+eq[0][1]+\"=\"+eq[1][0] +r\"$\"))\n",
    "        display(Latex(r\"$ \\Large \\text{What do you want to do?} $\"))\n",
    "        display(Latex(r\"$ \\Large \\text{a) add} $\"))\n",
    "        display(Latex(r\"$ \\Large \\text{b) subtract} $\"))\n",
    "        display(Latex(r\"$ \\Large \\text{c) multiply} $\"))\n",
    "        display(Latex(r\"$ \\Large \\text{d) divide} $\"))\n",
    "\n",
    "        step = str(input())\n",
    "        step = step.lower()\n",
    "        if step == \"a\":\n",
    "            cont = True\n",
    "            cont1 = False\n",
    "            while cont1 == False: \n",
    "                eq = add(eq,1)  \n",
    "                display(Latex(r\"$ \\Huge\" +eq +r\"$\"))\n",
    "                display(Latex(r\"$ \\Large \\text{What do you want to do next?} $\"))\n",
    "                display(Latex(r\"$ \\Large \\text{a) multiply} $\"))\n",
    "                display(Latex(r\"$ \\Large \\text{b) divide} $\"))\n",
    "                step = str(input())\n",
    "                step = step.lower()\n",
    "                if step == \"a\":\n",
    "                    eq = mult(eq,2)\n",
    "                if step == \"b\":\n",
    "                    eq = div(eq,2)\n",
    "                else:\n",
    "                    display(Latex(r\"$ \\Large \\text{Try again!} $\"))     \n",
    "\n",
    "        elif step == \"b\":\n",
    "            cont = True\n",
    "            cont1 = False\n",
    "            while cont1 == False: \n",
    "                eq = sub(eq,1)  \n",
    "                display(Latex(r\"$ \\Huge\" +eq +r\"$\"))\n",
    "                display(Latex(r\"$ \\Large \\text{What do you want to do next?} $\"))\n",
    "                display(Latex(r\"$ \\Large \\text{a) multiply} $\"))\n",
    "                display(Latex(r\"$ \\Large \\text{b) divide} $\"))\n",
    "                step = str(input())\n",
    "                step = step.lower()\n",
    "                if step == \"a\":\n",
    "                    eq = mult(eq,2)\n",
    "                if step == \"b\":\n",
    "                    eq = div(eq,2)\n",
    "                else:\n",
    "                    display(Latex(r\"$ \\Large \\text{Try again!} $\"))\n",
    "\n",
    "        elif step ==\"c\":\n",
    "            cont = True\n",
    "            cont1 = False\n",
    "            while cont1 == False: \n",
    "                eq = mult(eq,1)  \n",
    "                display(Latex(r\"$ \\Huge\" +eq +r\"$\"))\n",
    "                display(Latex(r\"$ \\Large \\text{What do you want to do next?} $\"))\n",
    "                display(Latex(r\"$ \\Large \\text{a) add} $\"))\n",
    "                display(Latex(r\"$ \\Large \\text{b) subtract} $\"))\n",
    "                step = str(input())\n",
    "                step = step.lower()\n",
    "                if step == \"a\":\n",
    "                    eq = add(eq,2)\n",
    "                if step == \"b\":\n",
    "                    eq = sub(eq,2)\n",
    "                else:\n",
    "                    display(Latex(r\"$ \\Large \\text{Try again!} $\"))\n",
    "\n",
    "        elif step == \"d\":\n",
    "            cont = True\n",
    "            cont1 = False\n",
    "            while cont1 == False: \n",
    "                eq = div(eq,1)  \n",
    "                display(Latex(r\"$ \\Huge\" +eq +r\"$\"))\n",
    "                display(Latex(r\"$ \\Large \\text{What do you want to do next?} $\"))\n",
    "                display(Latex(r\"$ \\Large \\text{a) add} $\"))\n",
    "                display(Latex(r\"$ \\Large \\text{b) subtract} $\"))\n",
    "                step = str(input())\n",
    "                step = step.lower()\n",
    "                if step == \"a\":\n",
    "                    eq = add(eq,2)\n",
    "                if step == \"b\":\n",
    "                    eq = sub(eq,2)\n",
    "                else:\n",
    "                    display(Latex(r\"$ \\Large \\text{Try again!} $\"))\n",
    "        else:\n",
    "            display(Latex(r\"$ \\Large \\text{Try again!} $\"))\n",
    "    \n",
    "        \n",
    "\n",
    "def add(eq, step):\n",
    "    step = step\n",
    "    if step == 1:\n",
    "        #ok what do you want to add to both sides?\n",
    "        display(Latex(r\"$ \\Large \\text{ok what do you want to add to  both sides?} $\"))\n",
    "        \n",
    "        k=r\"$\\Huge \\begin{align}\"+eq[0][0]+\"+\"+eq[0][1]+\"=\"+eq[1][0]+r\"\\\\ \\color{blue}{+?} & \\color{white}=  \\color{blue}{+?}  \\end{align}$\"\n",
    "        display(Latex(k))\n",
    "        \n",
    "        \n",
    "        #asking user what to add to both sides\n",
    "        add = str(input())\n",
    "        nextstep = False\n",
    "        while(nextstep == False):    \n",
    "            if add == str(-1*b):\n",
    "                nextstep = True\n",
    "                break\n",
    "            \n",
    "            #more advanced feedback later\n",
    "            else:\n",
    "                display(Latex(r\"$ \\Large \\text{Try again! Get rid of the terms furthest from the x} $\"))\n",
    "                t=r\"$\\Huge \\begin{align}\"+ str(a)+r\"x + \"+str(b)+r\"& =\"+str(c)+r\"\\\\ \\color{blue}{+?} & =  \\color{blue}{+?}  \\end{align}$\"\n",
    "                display(Latex(t))\n",
    "                sub = str(input())\n",
    "        \n",
    "        \n",
    "        nextstep = False\n",
    "        display(Latex(r\"$\\Huge \\color{green}{Good!}$\"))\n",
    "        \n",
    "        #for reducing left hand side\n",
    "        while nextstep == False:\n",
    "            display(Latex(r\"$\\Huge \\begin{align}\"+ str(a)+r\"x + \"+str(b)+r\"& =\"+str(c)+r\" \\\\ \\color{blue}{+\"+add+r\"} & \\color{white}=  \\color{blue}{+\"+add+ r\"}  \\end{align}$\"))         \n",
    "            display(Latex(r\"$\\Huge \\ \\ \\uparrow$\"))\n",
    "            display(Latex(r\"$\\Large \\text{What does the left side reduce to?}$\"))\n",
    "        \n",
    "            reduc = str(input())\n",
    "            ## if correct\n",
    "            case1 = str(a)+\"x\"\n",
    "            case2 = str(a)+\"x\"\n",
    "            if a == \"-1\":\n",
    "                case1 = \"-x\"\n",
    "            if a == \"1\":\n",
    "                case2 = \"x\"\n",
    "            \n",
    "            \n",
    "            if(reduc == str(a)+\"x\" or reduc == case1 or reduc == case2):\n",
    "                display(Latex(r\"$\\Huge \\color{green}{Good!}$\"))   \n",
    "                display(Latex(r\"$\\Huge \\begin{align}\"+ str(a)+r\"x & =\"+str(c)+r\" \\\\ \\color{white}{+\"+add+r\"} & \\color{white}=  \\color{blue}{+\"+add+ r\"}  \\end{align}$\"))    \n",
    "                nextstep == True      \n",
    "                break\n",
    "                        \n",
    "            ## if wrong            \n",
    "            else:\n",
    "                display(Latex(r\"$\\Huge \\text{Try again}$\"))\n",
    "        \n",
    "        #for reducing right hand side\n",
    "        \n",
    "        while nextstep == False:    \n",
    "            display(Latex(r\"$\\Huge  \\; \\; \\; \\; \\; \\; \\; \\; \\; \\; \\; \\; \\; \\; \\; \\; \\; \\; \\; \\; \\; \\; \\; \\;\\uparrow$\"))\n",
    "            display(Latex(r\"$\\Large \\text{What does the right side reduce to?}$\"))\n",
    "        \n",
    "            reducright = str(input())\n",
    "            ## if correct\n",
    "            right = (int(c) + int(add))\n",
    "            \n",
    "            if(reducright  == str(right)):\n",
    "                display(Latex(r\"$\\Huge \\color{green}{Good!}$\"))   \n",
    "                display(Latex(r\"$\\Huge \\begin{align}\"+ str(a)+r\"x & =\"+reducright + \" \\end{align}$\"))    \n",
    "                nextstep == True      \n",
    "                break\n",
    "                        \n",
    "            ## if wrong            \n",
    "            else:\n",
    "                display(Latex(r\"$\\Huge \\text{Try again}$\"))\n",
    "                display(Latex(r\"$\\Huge \\begin{align}\"+ str(a)+r\"x & =\"+str(c)+r\" \\\\ \\color{white}{+\"+add+r\"} & \\color{white}=  \\color{blue}{+\"+add+ r\"}  \\end{align}$\"))    \n",
    "\n",
    "                \n",
    "    \n",
    "    \n",
    "    \n",
    "    \n",
    "    \n",
    "\n",
    "    \n",
    "def sub(eq, step):\n",
    "    step = step\n",
    "    pass\n",
    "    \n",
    "    \n",
    "def mult(eq,step):\n",
    "    step = step\n",
    "    pass\n",
    "    \n",
    "def div(eq,step):\n",
    "    step = step\n",
    "    pass\n",
    "\n",
    "\n",
    "    \n",
    "n = 5 #n is the number of questions\n",
    "#this is the main function that runs all of the questions\n",
    "def startquestions(n):\n",
    "    for i in range(n):\n",
    "        doquestion()\n",
    "    \n",
    "    \n",
    "    \n",
    "startquestions(1)    "
   ]
  },
  {
   "cell_type": "code",
   "execution_count": 25,
   "metadata": {},
   "outputs": [
    {
     "data": {
      "text/latex": [
       "$\\Huge \\begin{align} 3x^4+2y^3 & = \\sin^2(\\pi)\\\\3 &=  5 \\end{align}$"
      ],
      "text/plain": [
       "<IPython.core.display.Latex object>"
      ]
     },
     "metadata": {},
     "output_type": "display_data"
    }
   ],
   "source": [
    "display(Latex(r\"$\\Huge \\begin{align} 3x^4+2y^3 & = \\sin^2(\\pi)\\\\3 &=  5 \\end{align}$\"))"
   ]
  },
  {
   "cell_type": "code",
   "execution_count": 116,
   "metadata": {},
   "outputs": [
    {
     "data": {
      "text/latex": [
       "$ \\Huge \\begin{align} 3x+4+5y& =1t+3 \\end{align}$"
      ],
      "text/plain": [
       "<IPython.core.display.Latex object>"
      ]
     },
     "metadata": {},
     "output_type": "display_data"
    }
   ],
   "source": [
    "def latexify(eq):\n",
    "    \n",
    "    #exceptions = [\"cos\", \"sin\", \"tan\", \"cotan\", \"e^\", \"arcsin\",\"arccos\", \"arctan\", \"sec\",\"csc\", \"int\", \"sum\", \"prod\", \"lim\", \"inf\"]\n",
    "    str = \"\"\n",
    "    for i in range(2):\n",
    "        for k in range(len(eq[i])):\n",
    "            \n",
    "            if k == 0:\n",
    "                 str = str +eq[i][k]\n",
    "            else:\n",
    "                str = str + \"+\"+eq[i][k]\n",
    "\n",
    "        if i ==1:\n",
    "            continue\n",
    "        str = str + \"& =\"\n",
    "\n",
    "    return str\n",
    "\n",
    "\n",
    "\n",
    "pp = latexify(((\"3x\",\"4\",\"5y\"),(\"1t\",\"3\")))\n",
    "display(Latex(r\"$ \\Huge \\begin{align} \"+pp+r\" \\end{align}$\"))"
   ]
  },
  {
   "cell_type": "code",
   "execution_count": 117,
   "metadata": {},
   "outputs": [
    {
     "data": {
      "text/latex": [
       "$ \\Huge \\begin{align} 3x+4+5y& =1t+3 \\\\  & \\ \\ \\ \\ \\ \\ \\ 5 \\end{align}$"
      ],
      "text/plain": [
       "<IPython.core.display.Latex object>"
      ]
     },
     "metadata": {},
     "output_type": "display_data"
    }
   ],
   "source": [
    "display(Latex(r\"$ \\Huge \\begin{align} \"+pp+r\" \\\\  & \\ \\ \\ \\ \\ \\ \\ 5 \\end{align}$\"))"
   ]
  },
  {
   "cell_type": "code",
   "execution_count": null,
   "metadata": {},
   "outputs": [],
   "source": []
  },
  {
   "cell_type": "code",
   "execution_count": null,
   "metadata": {},
   "outputs": [],
   "source": []
  },
  {
   "cell_type": "code",
   "execution_count": 96,
   "metadata": {},
   "outputs": [
    {
     "name": "stdout",
     "output_type": "stream",
     "text": [
      "4\n"
     ]
    }
   ],
   "source": [
    "def extractcoeff(str):\n",
    "    \n",
    "    if len(str) ==1:\n",
    "        if str[0] == \"0\" or  str[0] == \"1\" or  str[0] == \"2\" or  str[0] == \"3\" or  str[0] == \"4\" or  str[0] == \"5\" or  str[0] == \"6\" or  str[0] == \"7\" or  str[0]  == \"8\" or  str[0] == \"9\":\n",
    "            return str\n",
    "        #assuming its a variable with one for the coefficient\n",
    "        else:\n",
    "            return \"1\"\n",
    "           \n",
    "    k = 0\n",
    "    coeff = \"\"\n",
    "    while str[k] == \"0\" or  str[k] == \"1\" or  str[k] == \"2\" or  str[k] == \"3\" or  str[k] == \"4\" or  str[k] == \"5\" or  str[k] == \"6\" or  str[k] == \"7\" or  str[k]  == \"8\" or  str[k] == \"9\" or  str[k] == \"/\": \n",
    "        coeff = coeff+ str[k]\n",
    "        k= k+1\n",
    "        \n",
    "        #special case for the last char  in the string\n",
    "        if k == len(str)-1:\n",
    "            if str[k] == \"0\" or  str[k] == \"1\" or  str[k] == \"2\" or  str[k] == \"3\" or  str[k] == \"4\" or  str[k] == \"5\" or  str[k] == \"6\" or  str[k] == \"7\" or  str[k]  == \"8\" or  str[k] == \"9\": \n",
    "                coeff = coeff+ str[k]\n",
    "                break\n",
    "            else:\n",
    "                break\n",
    "            \n",
    "    return coeff\n",
    "\n",
    "t = ((\"54443x^2\",\"4\",\"5y\"),(\"1t\",\"3\"))\n",
    "print(extractcoeff(t[0][1]))\n",
    "#t[1][0]"
   ]
  },
  {
   "cell_type": "code",
   "execution_count": 1,
   "metadata": {},
   "outputs": [
    {
     "data": {
      "text/latex": [
       "$ \\Huge \\begin{align}3x+6 & =0 \\end{align}$"
      ],
      "text/plain": [
       "<IPython.core.display.Latex object>"
      ]
     },
     "metadata": {},
     "output_type": "display_data"
    },
    {
     "data": {
      "text/latex": [
       "$ \\Large \\text{What do you want to do?} $"
      ],
      "text/plain": [
       "<IPython.core.display.Latex object>"
      ]
     },
     "metadata": {},
     "output_type": "display_data"
    },
    {
     "data": {
      "text/latex": [
       "$ \\Large \\text{a) add} $"
      ],
      "text/plain": [
       "<IPython.core.display.Latex object>"
      ]
     },
     "metadata": {},
     "output_type": "display_data"
    },
    {
     "data": {
      "text/latex": [
       "$ \\Large \\text{b) subtract} $"
      ],
      "text/plain": [
       "<IPython.core.display.Latex object>"
      ]
     },
     "metadata": {},
     "output_type": "display_data"
    },
    {
     "data": {
      "text/latex": [
       "$ \\Large \\text{c) multiply} $"
      ],
      "text/plain": [
       "<IPython.core.display.Latex object>"
      ]
     },
     "metadata": {},
     "output_type": "display_data"
    },
    {
     "data": {
      "text/latex": [
       "$ \\Large \\text{d) divide} $"
      ],
      "text/plain": [
       "<IPython.core.display.Latex object>"
      ]
     },
     "metadata": {},
     "output_type": "display_data"
    },
    {
     "name": "stdout",
     "output_type": "stream",
     "text": [
      "b\n"
     ]
    },
    {
     "data": {
      "text/latex": [
       "$ \\Large \\text{ok what do you want to subtract from  both sides?} $"
      ],
      "text/plain": [
       "<IPython.core.display.Latex object>"
      ]
     },
     "metadata": {},
     "output_type": "display_data"
    },
    {
     "data": {
      "text/latex": [
       "$\\Huge \\begin{align}3x+6 & =0\\\\ \\color{blue}{-?} & \\ \\ \\ \\ \\ \\ \\  \\color{blue}{-?}  \\end{align}$"
      ],
      "text/plain": [
       "<IPython.core.display.Latex object>"
      ]
     },
     "metadata": {},
     "output_type": "display_data"
    },
    {
     "name": "stdout",
     "output_type": "stream",
     "text": [
      "6\n"
     ]
    },
    {
     "data": {
      "text/latex": [
       "$\\Huge \\color{green}{Good!}$"
      ],
      "text/plain": [
       "<IPython.core.display.Latex object>"
      ]
     },
     "metadata": {},
     "output_type": "display_data"
    },
    {
     "data": {
      "text/latex": [
       "$\\Huge \\begin{align}3x+6 & =0 \\\\ \\color{blue}{-6} & \\ \\ \\ \\ \\ \\ \\  \\color{blue}{-6}  \\end{align}$"
      ],
      "text/plain": [
       "<IPython.core.display.Latex object>"
      ]
     },
     "metadata": {},
     "output_type": "display_data"
    },
    {
     "data": {
      "text/latex": [
       "$\\Huge \\ \\ \\uparrow$"
      ],
      "text/plain": [
       "<IPython.core.display.Latex object>"
      ]
     },
     "metadata": {},
     "output_type": "display_data"
    },
    {
     "data": {
      "text/latex": [
       "$\\Large \\text{What does the left side reduce to?}$"
      ],
      "text/plain": [
       "<IPython.core.display.Latex object>"
      ]
     },
     "metadata": {},
     "output_type": "display_data"
    },
    {
     "name": "stdout",
     "output_type": "stream",
     "text": [
      "3r\n"
     ]
    },
    {
     "data": {
      "text/latex": [
       "$\\Huge \\text{Try again}$"
      ],
      "text/plain": [
       "<IPython.core.display.Latex object>"
      ]
     },
     "metadata": {},
     "output_type": "display_data"
    },
    {
     "data": {
      "text/latex": [
       "$\\Huge \\begin{align}3x+6 & =0 \\\\ \\color{blue}{-6} & \\ \\ \\ \\ \\ \\ \\  \\color{blue}{-6}  \\end{align}$"
      ],
      "text/plain": [
       "<IPython.core.display.Latex object>"
      ]
     },
     "metadata": {},
     "output_type": "display_data"
    },
    {
     "data": {
      "text/latex": [
       "$\\Huge \\ \\ \\uparrow$"
      ],
      "text/plain": [
       "<IPython.core.display.Latex object>"
      ]
     },
     "metadata": {},
     "output_type": "display_data"
    },
    {
     "data": {
      "text/latex": [
       "$\\Large \\text{What does the left side reduce to?}$"
      ],
      "text/plain": [
       "<IPython.core.display.Latex object>"
      ]
     },
     "metadata": {},
     "output_type": "display_data"
    },
    {
     "name": "stdout",
     "output_type": "stream",
     "text": [
      "3x\n"
     ]
    },
    {
     "data": {
      "text/latex": [
       "$\\Huge \\color{green}{Good!}$"
      ],
      "text/plain": [
       "<IPython.core.display.Latex object>"
      ]
     },
     "metadata": {},
     "output_type": "display_data"
    },
    {
     "data": {
      "text/latex": [
       "$\\Huge \\begin{align}3x & =0 \\\\  & \\ \\ \\ \\ \\ \\ \\  \\color{blue}{-6}  \\end{align}$"
      ],
      "text/plain": [
       "<IPython.core.display.Latex object>"
      ]
     },
     "metadata": {},
     "output_type": "display_data"
    },
    {
     "data": {
      "text/latex": [
       "$\\Huge  \\; \\; \\; \\; \\; \\; \\; \\; \\; \\; \\; \\; \\; \\; \\; \\; \\; \\; \\; \\; \\; \\; \\; \\;\\uparrow$"
      ],
      "text/plain": [
       "<IPython.core.display.Latex object>"
      ]
     },
     "metadata": {},
     "output_type": "display_data"
    },
    {
     "data": {
      "text/latex": [
       "$\\Large \\text{What does the right side reduce to?}$"
      ],
      "text/plain": [
       "<IPython.core.display.Latex object>"
      ]
     },
     "metadata": {},
     "output_type": "display_data"
    },
    {
     "name": "stdout",
     "output_type": "stream",
     "text": [
      "-5\n"
     ]
    },
    {
     "data": {
      "text/latex": [
       "$\\Huge \\text{Try again}$"
      ],
      "text/plain": [
       "<IPython.core.display.Latex object>"
      ]
     },
     "metadata": {},
     "output_type": "display_data"
    },
    {
     "ename": "TypeError",
     "evalue": "can only concatenate str (not \"function\") to str",
     "output_type": "error",
     "traceback": [
      "\u001b[0;31m---------------------------------------------------------------------------\u001b[0m",
      "\u001b[0;31mTypeError\u001b[0m                                 Traceback (most recent call last)",
      "\u001b[0;32m<ipython-input-1-527b98773a39>\u001b[0m in \u001b[0;36m<module>\u001b[0;34m\u001b[0m\n\u001b[1;32m    324\u001b[0m \u001b[0mn\u001b[0m \u001b[0;34m=\u001b[0m\u001b[0;36m1\u001b[0m\u001b[0;34m\u001b[0m\u001b[0;34m\u001b[0m\u001b[0m\n\u001b[1;32m    325\u001b[0m \u001b[0;34m\u001b[0m\u001b[0m\n\u001b[0;32m--> 326\u001b[0;31m \u001b[0mstartquestions\u001b[0m\u001b[0;34m(\u001b[0m\u001b[0mn\u001b[0m\u001b[0;34m)\u001b[0m\u001b[0;34m\u001b[0m\u001b[0;34m\u001b[0m\u001b[0m\n\u001b[0m",
      "\u001b[0;32m<ipython-input-1-527b98773a39>\u001b[0m in \u001b[0;36mstartquestions\u001b[0;34m(n)\u001b[0m\n\u001b[1;32m    321\u001b[0m \u001b[0;32mdef\u001b[0m \u001b[0mstartquestions\u001b[0m\u001b[0;34m(\u001b[0m\u001b[0mn\u001b[0m\u001b[0;34m)\u001b[0m\u001b[0;34m:\u001b[0m\u001b[0;34m\u001b[0m\u001b[0;34m\u001b[0m\u001b[0m\n\u001b[1;32m    322\u001b[0m     \u001b[0;32mfor\u001b[0m \u001b[0mi\u001b[0m \u001b[0;32min\u001b[0m \u001b[0mrange\u001b[0m\u001b[0;34m(\u001b[0m\u001b[0mn\u001b[0m\u001b[0;34m)\u001b[0m\u001b[0;34m:\u001b[0m\u001b[0;34m\u001b[0m\u001b[0;34m\u001b[0m\u001b[0m\n\u001b[0;32m--> 323\u001b[0;31m         \u001b[0mdoquestion\u001b[0m\u001b[0;34m(\u001b[0m\u001b[0;34m)\u001b[0m\u001b[0;34m\u001b[0m\u001b[0;34m\u001b[0m\u001b[0m\n\u001b[0m\u001b[1;32m    324\u001b[0m \u001b[0mn\u001b[0m \u001b[0;34m=\u001b[0m\u001b[0;36m1\u001b[0m\u001b[0;34m\u001b[0m\u001b[0;34m\u001b[0m\u001b[0m\n\u001b[1;32m    325\u001b[0m \u001b[0;34m\u001b[0m\u001b[0m\n",
      "\u001b[0;32m<ipython-input-1-527b98773a39>\u001b[0m in \u001b[0;36mdoquestion\u001b[0;34m()\u001b[0m\n\u001b[1;32m     81\u001b[0m             \u001b[0mcont1\u001b[0m \u001b[0;34m=\u001b[0m \u001b[0;32mFalse\u001b[0m\u001b[0;34m\u001b[0m\u001b[0;34m\u001b[0m\u001b[0m\n\u001b[1;32m     82\u001b[0m             \u001b[0;32mwhile\u001b[0m \u001b[0mcont1\u001b[0m \u001b[0;34m==\u001b[0m \u001b[0;32mFalse\u001b[0m\u001b[0;34m:\u001b[0m\u001b[0;34m\u001b[0m\u001b[0;34m\u001b[0m\u001b[0m\n\u001b[0;32m---> 83\u001b[0;31m                 \u001b[0meq\u001b[0m \u001b[0;34m=\u001b[0m \u001b[0msub\u001b[0m\u001b[0;34m(\u001b[0m\u001b[0meq\u001b[0m\u001b[0;34m)\u001b[0m\u001b[0;34m\u001b[0m\u001b[0;34m\u001b[0m\u001b[0m\n\u001b[0m\u001b[1;32m     84\u001b[0m                 \u001b[0mdisplay\u001b[0m\u001b[0;34m(\u001b[0m\u001b[0mLatex\u001b[0m\u001b[0;34m(\u001b[0m\u001b[0;34mr\"$ \\Huge \\begin{align}\"\u001b[0m \u001b[0;34m+\u001b[0m\u001b[0mlatexify\u001b[0m\u001b[0;34m(\u001b[0m\u001b[0meq\u001b[0m\u001b[0;34m)\u001b[0m \u001b[0;34m+\u001b[0m\u001b[0;34mr\" \\end{align}$\"\u001b[0m\u001b[0;34m)\u001b[0m\u001b[0;34m)\u001b[0m\u001b[0;34m\u001b[0m\u001b[0;34m\u001b[0m\u001b[0m\n\u001b[1;32m     85\u001b[0m                 \u001b[0mdisplay\u001b[0m\u001b[0;34m(\u001b[0m\u001b[0mLatex\u001b[0m\u001b[0;34m(\u001b[0m\u001b[0;34mr\"$ \\Large \\text{What do you want to do next?} $\"\u001b[0m\u001b[0;34m)\u001b[0m\u001b[0;34m)\u001b[0m\u001b[0;34m\u001b[0m\u001b[0;34m\u001b[0m\u001b[0m\n",
      "\u001b[0;32m<ipython-input-1-527b98773a39>\u001b[0m in \u001b[0;36msub\u001b[0;34m(eq)\u001b[0m\n\u001b[1;32m    312\u001b[0m         \u001b[0;32melse\u001b[0m\u001b[0;34m:\u001b[0m\u001b[0;34m\u001b[0m\u001b[0;34m\u001b[0m\u001b[0m\n\u001b[1;32m    313\u001b[0m             \u001b[0mdisplay\u001b[0m\u001b[0;34m(\u001b[0m\u001b[0mLatex\u001b[0m\u001b[0;34m(\u001b[0m\u001b[0;34mr\"$\\Huge \\text{Try again}$\"\u001b[0m\u001b[0;34m)\u001b[0m\u001b[0;34m)\u001b[0m\u001b[0;34m\u001b[0m\u001b[0;34m\u001b[0m\u001b[0m\n\u001b[0;32m--> 314\u001b[0;31m             \u001b[0mdisplay\u001b[0m\u001b[0;34m(\u001b[0m\u001b[0mLatex\u001b[0m\u001b[0;34m(\u001b[0m\u001b[0;34mr\"$\\Huge \\begin{align}\"\u001b[0m\u001b[0;34m+\u001b[0m \u001b[0mlatexify\u001b[0m\u001b[0;34m(\u001b[0m\u001b[0meq\u001b[0m\u001b[0;34m)\u001b[0m\u001b[0;34m+\u001b[0m\u001b[0;34mr\" \\\\  & \\ \\ \\ \\ \\ \\ \\  \\color{blue}{+\"\u001b[0m\u001b[0;34m+\u001b[0m\u001b[0madd\u001b[0m\u001b[0;34m+\u001b[0m \u001b[0;34mr\"}  \\end{align}$\"\u001b[0m\u001b[0;34m)\u001b[0m\u001b[0;34m)\u001b[0m\u001b[0;34m\u001b[0m\u001b[0;34m\u001b[0m\u001b[0m\n\u001b[0m\u001b[1;32m    315\u001b[0m \u001b[0;32mdef\u001b[0m \u001b[0mmult\u001b[0m\u001b[0;34m(\u001b[0m\u001b[0meq\u001b[0m\u001b[0;34m)\u001b[0m\u001b[0;34m:\u001b[0m\u001b[0;34m\u001b[0m\u001b[0;34m\u001b[0m\u001b[0m\n\u001b[1;32m    316\u001b[0m     \u001b[0;32mpass\u001b[0m\u001b[0;34m\u001b[0m\u001b[0;34m\u001b[0m\u001b[0m\n",
      "\u001b[0;31mTypeError\u001b[0m: can only concatenate str (not \"function\") to str"
     ]
    }
   ],
   "source": [
    "from IPython.display import display, Latex\n",
    "from fractions import Fraction\n",
    "import random\n",
    "\n",
    "#for converting string fractions into floating points\n",
    "def convert_to_float(frac_str):\n",
    "    try:\n",
    "        return float(frac_str)\n",
    "    except ValueError:\n",
    "        try:\n",
    "            num, denom = frac_str.split('/')\n",
    "        except ValueError:\n",
    "            return None\n",
    "        try:\n",
    "            leading, num = num.split(' ')\n",
    "        except ValueError:\n",
    "            return float(num) / float(denom)        \n",
    "        if float(leading) < 0:\n",
    "            sign_mult = -1\n",
    "        else:\n",
    "            sign_mult = 1\n",
    "        return float(leading) + sign_mult * (float(num) / float(denom))\n",
    "#eq is a tuple of tuples, first component left side of equal sign, sencond component right side    \n",
    "def latexify(eq):  \n",
    "    #exceptions = [\"cos\", \"sin\", \"tan\", \"cotan\", \"e^\", \"arcsin\",\"arccos\", \"arctan\", \"sec\",\"csc\", \"int\", \"sum\", \"prod\", \"lim\", \"inf\"]\n",
    "    str = \"\"\n",
    "    for i in range(2):\n",
    "        for k in range(len(eq[i])):        \n",
    "            if k == 0:\n",
    "                 str = str +eq[i][k]\n",
    "            else:\n",
    "                str = str + \"+\"+eq[i][k]\n",
    "        if i ==1:\n",
    "            continue\n",
    "        str = str + \" & =\"\n",
    "    return str    \n",
    "def doquestion():\n",
    "    #randomly asined coeficnts and variables\n",
    "    a = random.randrange(1,10)\n",
    "    b = random.randrange(1,10)\n",
    "    c = random.randrange(10)\n",
    "\n",
    "    #this is the equation\n",
    "    #eq = f\"{a}x+{b} = {c}\"\n",
    "    eq= ((str(a)+\"x\",str(b)),(str(c),))\n",
    "   \n",
    "    cont = False\n",
    "    while cont == False:\n",
    "        #student chooses which step to do first, all steps can lead to correct answer\n",
    "        \n",
    "        #displays options\n",
    "        display(Latex(r\"$ \\Huge \\begin{align}\" +latexify(eq) +r\" \\end{align}$\"))\n",
    "        display(Latex(r\"$ \\Large \\text{What do you want to do?} $\"))\n",
    "        display(Latex(r\"$ \\Large \\text{a) add} $\"))\n",
    "        display(Latex(r\"$ \\Large \\text{b) subtract} $\"))\n",
    "        display(Latex(r\"$ \\Large \\text{c) multiply} $\"))\n",
    "        display(Latex(r\"$ \\Large \\text{d) divide} $\"))\n",
    "\n",
    "        step = str(input())\n",
    "        step = step.lower()\n",
    "        if step == \"a\":\n",
    "            cont = True\n",
    "            cont1 = False\n",
    "            while cont1 == False: \n",
    "                eq = add(eq)  \n",
    "                display(Latex(r\"$ \\Huge \\begin{align}\" +latexify(eq) +r\" \\end{align} $\"))\n",
    "                display(Latex(r\"$ \\Large \\text{What do you want to do next?} $\"))\n",
    "                display(Latex(r\"$ \\Large \\text{a) multiply} $\"))\n",
    "                display(Latex(r\"$ \\Large \\text{b) divide} $\"))\n",
    "                step = str(input())\n",
    "                step = step.lower()\n",
    "                if step == \"a\":\n",
    "                    eq = mult(eq)\n",
    "                if step == \"b\":\n",
    "                    eq = div(eq)\n",
    "                else:\n",
    "                    display(Latex(r\"$ \\Large \\text{Try again!} $\"))     \n",
    "\n",
    "        elif step == \"b\":\n",
    "            cont = True\n",
    "            cont1 = False\n",
    "            while cont1 == False: \n",
    "                eq = sub(eq)  \n",
    "                display(Latex(r\"$ \\Huge \\begin{align}\" +latexify(eq) +r\" \\end{align}$\"))\n",
    "                display(Latex(r\"$ \\Large \\text{What do you want to do next?} $\"))\n",
    "                display(Latex(r\"$ \\Large \\text{a) multiply} $\"))\n",
    "                display(Latex(r\"$ \\Large \\text{b) divide} $\"))\n",
    "                step = str(input())\n",
    "                step = step.lower()\n",
    "                if step == \"a\":\n",
    "                    eq = mult(eq)\n",
    "                if step == \"b\":\n",
    "                    eq = div(eq)\n",
    "                else:\n",
    "                    display(Latex(r\"$ \\Large \\text{Try again!} $\"))\n",
    "\n",
    "        elif step ==\"c\":\n",
    "            cont = True\n",
    "            cont1 = False\n",
    "            while cont1 == False: \n",
    "                eq = mult(eq)  \n",
    "                display(Latex(r\"$ \\Huge \\begin{align}\" +latexify(eq)+r\"\\end{align} $\"))\n",
    "                display(Latex(r\"$ \\Large \\text{What do you want to do next?} $\"))\n",
    "                display(Latex(r\"$ \\Large \\text{a) add} $\"))\n",
    "                display(Latex(r\"$ \\Large \\text{b) subtract} $\"))\n",
    "                step = str(input())\n",
    "                step = step.lower()\n",
    "                if step == \"a\":\n",
    "                    eq = add(eq)\n",
    "                if step == \"b\":\n",
    "                    eq = sub(eq)\n",
    "                else:\n",
    "                    display(Latex(r\"$ \\Large \\text{Try again!} $\"))\n",
    "\n",
    "        elif step == \"d\":\n",
    "            cont = True\n",
    "            cont1 = False\n",
    "            while cont1 == False: \n",
    "                eq = div(eq)  \n",
    "                display(Latex(r\"$ \\Huge \\begin{align}\" +latexify(eq) +r\" \\end{align}$\"))\n",
    "                display(Latex(r\"$ \\Large \\text{What do you want to do next?} $\"))\n",
    "                display(Latex(r\"$ \\Large \\text{a) add} $\"))\n",
    "                display(Latex(r\"$ \\Large \\text{b) subtract} $\"))\n",
    "                step = str(input())\n",
    "                step = step.lower()\n",
    "                if step == \"a\":\n",
    "                    eq = add(eq)\n",
    "                if step == \"b\":\n",
    "                    eq = sub(eq)\n",
    "                else:\n",
    "                    display(Latex(r\"$ \\Large \\text{Try again!} $\"))\n",
    "        else:\n",
    "            display(Latex(r\"$ \\Large \\text{Try again!} $\"))\n",
    "    display(Latex(r\"$\\Large \\text{Good Job! Lets try another problem!}\"))\n",
    "def extractcoeff(str): \n",
    "    if len(str) ==1:\n",
    "        if str[0] == \"0\" or  str[0] == \"1\" or  str[0] == \"2\" or  str[0] == \"3\" or  str[0] == \"4\" or  str[0] == \"5\" or  str[0] == \"6\" or  str[0] == \"7\" or  str[0]  == \"8\" or  str[0] == \"9\":\n",
    "            return str\n",
    "        #assuming its a variable with one for the coefficient\n",
    "        else:\n",
    "            return \"1\"\n",
    "           \n",
    "    k = 0\n",
    "    coeff = \"\"\n",
    "    while str[k] == \"0\" or  str[k] == \"1\" or  str[k] == \"2\" or  str[k] == \"3\" or  str[k] == \"4\" or  str[k] == \"5\" or  str[k] == \"6\" or  str[k] == \"7\" or  str[k]  == \"8\" or  str[k] == \"9\" or  str[k] == \"/\": \n",
    "        coeff = coeff+ str[k]\n",
    "        k= k+1\n",
    "        \n",
    "        #special case for the last char  in the string\n",
    "        if k == len(str)-1:\n",
    "            if str[k] == \"0\" or  str[k] == \"1\" or  str[k] == \"2\" or  str[k] == \"3\" or  str[k] == \"4\" or  str[k] == \"5\" or  str[k] == \"6\" or  str[k] == \"7\" or  str[k]  == \"8\" or  str[k] == \"9\": \n",
    "                coeff = coeff+ str[k]\n",
    "                break\n",
    "            else:\n",
    "                break\n",
    "    return coeff\n",
    "def add(eq):\n",
    "    #ok what do you want to add to both sides?\n",
    "    display(Latex(r\"$ \\Large \\text{ok what do you want to add to  both sides?} $\"))\n",
    "    \n",
    "    k=r\"$\\Huge \\begin{align}\"+latexify(eq)+r\"\\\\ \\color{blue}{+?} & \\ \\ \\ \\ \\ \\ \\  \\color{blue}{+?}  \\end{align}$\"\n",
    "    display(Latex(k))\n",
    "    \n",
    "    \n",
    "    # user input what to add to both sides\n",
    "    add = str(input())\n",
    "    nextstep = False\n",
    "    while(nextstep == False):    \n",
    "        if add == str(-1*Fraction(extractcoeff(eq[0][1]))):\n",
    "            nextstep = True\n",
    "            break\n",
    "        \n",
    "        #more advanced feedback later\n",
    "        else:\n",
    "            display(Latex(r\"$ \\Large \\text{Try again! Get rid of the terms furthest from the x} $\"))\n",
    "            t=r\"$\\Huge \\begin{align}\"+ latexify(eq)+r\"\\\\ \\color{blue}{+?} & \\ \\ \\ \\ \\ \\ \\  \\color{blue}{+?}  \\end{align}$\"\n",
    "            display(Latex(t))\n",
    "            sub = str(input())\n",
    "    \n",
    "    \n",
    "    nextstep = False\n",
    "    display(Latex(r\"$\\Huge \\color{green}{Good!}$\"))\n",
    "    \n",
    "    #for reducing left hand side\n",
    "    while nextstep == False:\n",
    "        display(Latex(r\"$\\Huge \\begin{align}\"+ latexify(eq)+r\" \\\\ \\color{blue}{+\"+add+r\"} & \\ \\ \\ \\ \\ \\ \\  \\color{blue}{+\"+add+ r\"}  \\end{align}$\"))         \n",
    "        display(Latex(r\"$\\Huge \\ \\ \\uparrow$\"))\n",
    "        display(Latex(r\"$\\Large \\text{What does the left side reduce to?}$\"))\n",
    "    \n",
    "        reduc = str(input())\n",
    "        ## if correct\n",
    "        case1 = eq[0][0]\n",
    "        case2 = eq[0][0]\n",
    "        if extractcoeff(eq[0][0]) == \"-1\":\n",
    "            case1 = \"-x\"\n",
    "        if extractcoeff(eq[0][0]) == \"1\":\n",
    "            case2 = \"x\"\n",
    "        \n",
    "        \n",
    "        if(reduc == extractcoeff(eq[0][0])+\"x\" or reduc == case1 or reduc == case2):\n",
    "            eq= ((eq[0][0],),(eq[1][0],))\n",
    "            \n",
    "            display(Latex(r\"$\\Huge \\color{green}{Good!}$\"))   \n",
    "            display(Latex(r\"$\\Huge \\begin{align}\"+ latexify(eq)+r\" \\\\  & \\ \\ \\ \\ \\ \\ \\  \\color{blue}{+\"+add+ r\"}  \\end{align}$\"))    \n",
    "            nextstep == True      \n",
    "            break\n",
    "                    \n",
    "        ## if wrong            \n",
    "        else:\n",
    "            display(Latex(r\"$\\Huge \\text{Try again}$\"))\n",
    "    \n",
    "    #for reducing right hand side\n",
    "    \n",
    "    while nextstep == False:    \n",
    "        display(Latex(r\"$\\Huge  \\; \\; \\; \\; \\; \\; \\; \\; \\; \\; \\; \\; \\; \\; \\; \\; \\; \\; \\; \\; \\; \\; \\; \\;\\uparrow$\"))\n",
    "        display(Latex(r\"$\\Large \\text{What does the right side reduce to?}$\"))\n",
    "    \n",
    "        reducright = str(input())\n",
    "        ## if correct\n",
    "        right = Fraction(Fraction(extractcoeff(eq[1][0])) + Fraction(add))\n",
    "        \n",
    "        #if they answer correctly\n",
    "        if(reducright  == str(right)):\n",
    "\n",
    "            eq = ((eq[0][0],), (str(right),))\n",
    "            display(Latex(r\"$\\Huge \\color{green}{Good!}$\"))   \n",
    "            display(Latex(r\"$\\Huge \\begin{align}\"+ latexify(eq)+ \" \\end{align}$\"))    \n",
    "            nextstep == True\n",
    "            return eq      \n",
    "            break\n",
    "                    \n",
    "        ## if wrong            \n",
    "        else:\n",
    "            display(Latex(r\"$\\Huge \\text{Try again}$\"))\n",
    "            display(Latex(r\"$\\Huge \\begin{align}\"+ latexify(eq)+r\" \\\\  & \\ \\ \\ \\ \\ \\ \\  \\color{blue}{+\"+add+ r\"}  \\end{align}$\"))       \n",
    "def sub(eq):\n",
    "    #ok what do you want to add to both sides?\n",
    "    display(Latex(r\"$ \\Large \\text{ok what do you want to subtract from  both sides?} $\"))\n",
    "    \n",
    "    k=r\"$\\Huge \\begin{align}\"+latexify(eq)+r\"\\\\ \\color{blue}{-?} & \\ \\ \\ \\ \\ \\ \\  \\color{blue}{-?}  \\end{align}$\"\n",
    "    display(Latex(k))\n",
    "    \n",
    "    \n",
    "    # user input what to subtract from both sides\n",
    "    sub = str(input())\n",
    "    nextstep = False\n",
    "    while(nextstep == False):    \n",
    "        if sub == str(Fraction(extractcoeff(eq[0][1]))):\n",
    "            nextstep = True\n",
    "            break\n",
    "        \n",
    "        #more advanced feedback later\n",
    "        else:\n",
    "            display(Latex(r\"$ \\Large \\text{Try again! Get rid of the terms furthest from the x} $\"))\n",
    "            t=r\"$\\Huge \\begin{align}\"+ latexify(eq)+r\"\\\\ \\color{blue}{-?} & \\ \\ \\ \\ \\ \\ \\  \\color{blue}{-?}  \\end{align}$\"\n",
    "            display(Latex(t))\n",
    "            sub = str(input())\n",
    "    \n",
    "    \n",
    "    nextstep = False\n",
    "    display(Latex(r\"$\\Huge \\color{green}{Good!}$\"))\n",
    "    \n",
    "    #for reducing left hand side\n",
    "    while nextstep == False:\n",
    "        display(Latex(r\"$\\Huge \\begin{align}\"+ latexify(eq)+r\" \\\\ \\color{blue}{-\"+sub+r\"} & \\ \\ \\ \\ \\ \\ \\  \\color{blue}{-\"+sub+ r\"}  \\end{align}$\"))         \n",
    "        display(Latex(r\"$\\Huge \\ \\ \\uparrow$\"))\n",
    "        display(Latex(r\"$\\Large \\text{What does the left side reduce to?}$\"))\n",
    "    \n",
    "        reduc = str(input())\n",
    "        ## if correct\n",
    "        case1 = eq[0][0]\n",
    "        case2 = eq[0][0]\n",
    "        if extractcoeff(eq[0][0]) == \"-1\":\n",
    "            case1 = \"-x\"\n",
    "        if extractcoeff(eq[0][0]) == \"1\":\n",
    "            case2 = \"x\"\n",
    "        ### continue editing from here\n",
    "        \n",
    "        if(reduc == extractcoeff(eq[0][0])+\"x\" or reduc == case1 or reduc == case2):\n",
    "            eq= ((eq[0][0],),(eq[1][0],))\n",
    "            \n",
    "            display(Latex(r\"$\\Huge \\color{green}{Good!}$\"))   \n",
    "            display(Latex(r\"$\\Huge \\begin{align}\"+ latexify(eq)+r\" \\\\  & \\ \\ \\ \\ \\ \\ \\  \\color{blue}{-\"+sub+ r\"}  \\end{align}$\"))    \n",
    "            nextstep == True      \n",
    "            break\n",
    "                    \n",
    "        ## if wrong            \n",
    "        else:\n",
    "            display(Latex(r\"$\\Huge \\text{Try again}$\"))\n",
    "    \n",
    "    #for reducing right hand side\n",
    "    \n",
    "    while nextstep == False:    \n",
    "        display(Latex(r\"$\\Huge  \\; \\; \\; \\; \\; \\; \\; \\; \\; \\; \\; \\; \\; \\; \\; \\; \\; \\; \\; \\; \\; \\; \\; \\;\\uparrow$\"))\n",
    "        display(Latex(r\"$\\Large \\text{What does the right side reduce to?}$\"))\n",
    "    \n",
    "        reducright = str(input())\n",
    "        ## if correct\n",
    "        right = Fraction(Fraction(extractcoeff(eq[1][0])) - Fraction(sub))\n",
    "        \n",
    "        #if they answer correctly\n",
    "        if(reducright  == str(right)):\n",
    "\n",
    "            eq = ((eq[0][0],), (str(right),))\n",
    "            display(Latex(r\"$\\Huge \\color{green}{Good!}$\"))   \n",
    "            display(Latex(r\"$\\Huge \\begin{align}\"+ latexify(eq)+ \" \\end{align}$\"))    \n",
    "            nextstep == True\n",
    "            return eq      \n",
    "            break\n",
    "                    \n",
    "        ## if wrong            \n",
    "        else:\n",
    "            display(Latex(r\"$\\Huge \\text{Try again}$\"))\n",
    "            display(Latex(r\"$\\Huge \\begin{align}\"+ latexify(eq)+r\" \\\\  & \\ \\ \\ \\ \\ \\ \\  \\color{blue}{-\"+sub+ r\"}  \\end{align}$\"))   \n",
    "def mult(eq):\n",
    "    pass    \n",
    "def div(eq):\n",
    "    pass\n",
    "#n is the number of questions\n",
    "#this is the main function that runs all of the questions\n",
    "def startquestions(n):\n",
    "    for i in range(n):\n",
    "        doquestion()\n",
    "n =1    \n",
    "\n",
    "startquestions(n)"
   ]
  },
  {
   "cell_type": "code",
   "execution_count": null,
   "metadata": {},
   "outputs": [],
   "source": []
  }
 ],
 "metadata": {
  "interpreter": {
   "hash": "31f2aee4e71d21fbe5cf8b01ff0e069b9275f58929596ceb00d14d90e3e16cd6"
  },
  "kernelspec": {
   "display_name": "Python 3",
   "language": "python",
   "name": "python3"
  },
  "language_info": {
   "codemirror_mode": {
    "name": "ipython",
    "version": 3
   },
   "file_extension": ".py",
   "mimetype": "text/x-python",
   "name": "python",
   "nbconvert_exporter": "python",
   "pygments_lexer": "ipython3",
   "version": "3.8.8"
  }
 },
 "nbformat": 4,
 "nbformat_minor": 4
}
