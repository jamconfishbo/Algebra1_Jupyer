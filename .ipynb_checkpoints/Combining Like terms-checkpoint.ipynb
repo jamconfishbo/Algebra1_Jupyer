{
 "cells": [
  {
   "cell_type": "code",
   "execution_count": null,
   "metadata": {},
   "outputs": [
    {
     "data": {
      "text/latex": [
       "$ \\Large \\text{combine the like terms:} $"
      ],
      "text/plain": [
       "<IPython.core.display.Latex object>"
      ]
     },
     "metadata": {},
     "output_type": "display_data"
    },
    {
     "data": {
      "text/latex": [
       "$\\Huge 4x +6x + 7y + 0y= $"
      ],
      "text/plain": [
       "<IPython.core.display.Latex object>"
      ]
     },
     "metadata": {},
     "output_type": "display_data"
    },
    {
     "name": "stdout",
     "output_type": "stream",
     "text": [
      "7y+10x\n"
     ]
    },
    {
     "data": {
      "text/latex": [
       "$\\Huge 4x +6x + 7y + 0y= 7y+10x $"
      ],
      "text/plain": [
       "<IPython.core.display.Latex object>"
      ]
     },
     "metadata": {},
     "output_type": "display_data"
    },
    {
     "data": {
      "text/latex": [
       "$ \\text{Good job! move on to next question.} $"
      ],
      "text/plain": [
       "<IPython.core.display.Latex object>"
      ]
     },
     "metadata": {},
     "output_type": "display_data"
    },
    {
     "data": {
      "text/latex": [
       "$ \\text{push any botton for next problem.} $"
      ],
      "text/plain": [
       "<IPython.core.display.Latex object>"
      ]
     },
     "metadata": {},
     "output_type": "display_data"
    },
    {
     "name": "stdout",
     "output_type": "stream",
     "text": [
      "\n"
     ]
    },
    {
     "data": {
      "text/latex": [
       "$ \\Large \\text{combine the like terms:} $"
      ],
      "text/plain": [
       "<IPython.core.display.Latex object>"
      ]
     },
     "metadata": {},
     "output_type": "display_data"
    },
    {
     "data": {
      "text/latex": [
       "$\\Huge 1x +1x + 0y + 0y= $"
      ],
      "text/plain": [
       "<IPython.core.display.Latex object>"
      ]
     },
     "metadata": {},
     "output_type": "display_data"
    }
   ],
   "source": [
    "from IPython.display import display, Latex\n",
    "import random\n",
    "\n",
    "\n",
    "\n",
    "\n",
    "\n",
    "\n",
    "#assigns 7 random problems with positive numbers\n",
    "for i in range(7):\n",
    "    a = random.randrange(10)\n",
    "    b = random.randrange(10)\n",
    "    c = random.randrange(10)\n",
    "    d = random.randrange(10)\n",
    "    term = f'$\\Huge {a}x +{b}x + {c}y + {d}y= $'\n",
    "    display(Latex(r\"$ \\Large \\text{combine the like terms:} $\"))\n",
    "    display(Latex(term))\n",
    "\n",
    "    correct = False\n",
    "    while correct == False:    \n",
    "        t = str(input())\n",
    "        xco = str(a+b)\n",
    "        yco = str(c+d)\n",
    "        \n",
    "            \n",
    "        pos1 = xco+\"x+\"+yco+\"y\"\n",
    "        pos2 = yco+\"y+\"+ xco+\"x\"          \n",
    "        pos3 = xco+\"(x)+\"+yco+\"(y)\"\n",
    "        pos4 = yco+\"(y)+\"+ xco+\"(x)\"\n",
    "        pos5 = \"(\"+xco+\")\"+\"x+\"+\"(\"+yco+\")\"+\"y\"\n",
    "        pos6 = \"(\"+yco+\")\"+\"y+\"+ \"(\"+xco+\")\"+\"x\"\n",
    "            \n",
    "            \n",
    "        if(t == pos1 or t == pos2 or t == pos3 or t == pos4 or t == pos5 or t == pos5):\n",
    "            correct = True\n",
    "            \n",
    "        else:\n",
    "           display(Latex(r\"$ \\text{oops try again} $\")) \n",
    "    \n",
    "    display(Latex(f'$\\Huge {a}x +{b}x + {c}y + {d}y= {t} $'))    \n",
    "    display(Latex(r\"$ \\text{Good job! move on to next question.} $\"))\n",
    "    display(Latex(r\"$ \\text{push any botton for next problem.} $\"))\n",
    "    input()\n",
    "    correct = False\n"
   ]
  },
  {
   "cell_type": "code",
   "execution_count": null,
   "metadata": {},
   "outputs": [],
   "source": []
  }
 ],
 "metadata": {
  "kernelspec": {
   "display_name": "Python 3",
   "language": "python",
   "name": "python3"
  },
  "language_info": {
   "codemirror_mode": {
    "name": "ipython",
    "version": 3
   },
   "file_extension": ".py",
   "mimetype": "text/x-python",
   "name": "python",
   "nbconvert_exporter": "python",
   "pygments_lexer": "ipython3",
   "version": "3.7.6"
  }
 },
 "nbformat": 4,
 "nbformat_minor": 5
}
