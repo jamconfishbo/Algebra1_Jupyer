{
 "cells": [
  {
   "cell_type": "code",
   "execution_count": 2,
   "metadata": {},
   "outputs": [],
   "source": [
    "from IPython.display import display, Latex\n",
    "\n",
    "\n",
    "#a class that can allow user to more easily manipulate math expressions and reprint them in latex\n",
    "\n",
    "class LW:\n",
    "    ## takes in string and prints basic algebraic equation in Latex (could already have latex input)\n",
    "    ## continue to edit as you make more comlicated equations\n",
    "    def printequation(str):\n",
    "\n",
    "            #if str is already in latex syntax\n",
    "        if \"$\" in str or r\"\\[\" in str:\n",
    "            display(Latex(str))\n",
    "            return\n",
    "\n",
    "            #puts it into latex syntax and displays\n",
    "        else:   \n",
    "\n",
    "            #if the equation is linear\n",
    "\n",
    "            numvars = vars(str)[0]\n",
    "\n",
    "\n",
    "    #search for number of variables and returns the varible\n",
    "    def vars(str):\n",
    "        str = str.lower()\n",
    "\n",
    "        exceptions = [\"cos\", \"sin\", \"tan\", \"cotan\", \"e^\", \"arcsin\",\"arccos\", \"arctan\", \"sec\",\"csc\", \"int\", \"sum\", \"prod\", \"lim\", \"inf\"]\n",
    "        for k in exceptions:\n",
    "            str = str.replace(k,\"\")\n",
    "\n",
    "        alphabet = [\"a\",\"b\",\"c\",\"d\",\"e\",\"f\",\"g\",\"h\",\"i\", \"j\",\"k\",\"l\",\"m\", \"n\", \"o\", \"p\", \"q\",\"r\",\"s\",\"t\",\"u\",\"v\",\"w\",\"x\",\"y\",\"z\"]\n",
    "        numvars = 0\n",
    "        vars = []\n",
    "        for i in alphabet:\n",
    "            if i in str:\n",
    "                numvars = numvars+1\n",
    "                vars.append(i)\n",
    "        return numvars, vars\n"
   ]
  },
  {
   "cell_type": "code",
   "execution_count": 4,
   "metadata": {},
   "outputs": [
    {
     "data": {
      "text/plain": [
       "['x', 'y', 'z']"
      ]
     },
     "execution_count": 4,
     "metadata": {},
     "output_type": "execute_result"
    }
   ],
   "source": [
    "str = \"e^3x+sin(yy)+3z\"\n",
    "\n",
    "LW.vars(str)[1]"
   ]
  },
  {
   "cell_type": "code",
   "execution_count": null,
   "metadata": {},
   "outputs": [],
   "source": []
  }
 ],
 "metadata": {
  "kernelspec": {
   "display_name": "Python 3",
   "language": "python",
   "name": "python3"
  },
  "language_info": {
   "codemirror_mode": {
    "name": "ipython",
    "version": 3
   },
   "file_extension": ".py",
   "mimetype": "text/x-python",
   "name": "python",
   "nbconvert_exporter": "python",
   "pygments_lexer": "ipython3",
   "version": "3.7.6"
  }
 },
 "nbformat": 4,
 "nbformat_minor": 5
}
