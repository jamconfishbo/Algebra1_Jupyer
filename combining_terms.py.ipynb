{
 "cells": [
  {
   "cell_type": "code",
   "execution_count": null,
   "id": "a264cc43",
   "metadata": {},
   "outputs": [
    {
     "data": {
      "text/latex": [
       "$ \\Large \\text{combine these terms:} $"
      ],
      "text/plain": [
       "<IPython.core.display.Latex object>"
      ]
     },
     "metadata": {},
     "output_type": "display_data"
    },
    {
     "data": {
      "text/latex": [
       "$\\Huge 0x +3x= $"
      ],
      "text/plain": [
       "<IPython.core.display.Latex object>"
      ]
     },
     "metadata": {},
     "output_type": "display_data"
    },
    {
     "name": "stdout",
     "output_type": "stream",
     "text": [
      "3x\n"
     ]
    },
    {
     "data": {
      "text/latex": [
       "$\\Huge 0x +3x=3x $"
      ],
      "text/plain": [
       "<IPython.core.display.Latex object>"
      ]
     },
     "metadata": {},
     "output_type": "display_data"
    },
    {
     "data": {
      "text/latex": [
       "$ \\text{Good job! move on to next question.} $"
      ],
      "text/plain": [
       "<IPython.core.display.Latex object>"
      ]
     },
     "metadata": {},
     "output_type": "display_data"
    },
    {
     "data": {
      "text/latex": [
       "$ \\text{push any botton for next problem.} $"
      ],
      "text/plain": [
       "<IPython.core.display.Latex object>"
      ]
     },
     "metadata": {},
     "output_type": "display_data"
    },
    {
     "name": "stdout",
     "output_type": "stream",
     "text": [
      "s\n"
     ]
    },
    {
     "data": {
      "text/latex": [
       "$ \\Large \\text{combine these terms:} $"
      ],
      "text/plain": [
       "<IPython.core.display.Latex object>"
      ]
     },
     "metadata": {},
     "output_type": "display_data"
    },
    {
     "data": {
      "text/latex": [
       "$\\Huge 9x +7x= $"
      ],
      "text/plain": [
       "<IPython.core.display.Latex object>"
      ]
     },
     "metadata": {},
     "output_type": "display_data"
    },
    {
     "name": "stdout",
     "output_type": "stream",
     "text": [
      "16y\n"
     ]
    },
    {
     "data": {
      "text/latex": [
       "$ \\text{oops try again} $"
      ],
      "text/plain": [
       "<IPython.core.display.Latex object>"
      ]
     },
     "metadata": {},
     "output_type": "display_data"
    },
    {
     "name": "stdout",
     "output_type": "stream",
     "text": [
      "16x\n"
     ]
    },
    {
     "data": {
      "text/latex": [
       "$\\Huge 9x +7x=16x $"
      ],
      "text/plain": [
       "<IPython.core.display.Latex object>"
      ]
     },
     "metadata": {},
     "output_type": "display_data"
    },
    {
     "data": {
      "text/latex": [
       "$ \\text{Good job! move on to next question.} $"
      ],
      "text/plain": [
       "<IPython.core.display.Latex object>"
      ]
     },
     "metadata": {},
     "output_type": "display_data"
    },
    {
     "data": {
      "text/latex": [
       "$ \\text{push any botton for next problem.} $"
      ],
      "text/plain": [
       "<IPython.core.display.Latex object>"
      ]
     },
     "metadata": {},
     "output_type": "display_data"
    },
    {
     "name": "stdout",
     "output_type": "stream",
     "text": [
      "e\n"
     ]
    },
    {
     "data": {
      "text/latex": [
       "$ \\Large \\text{combine these terms:} $"
      ],
      "text/plain": [
       "<IPython.core.display.Latex object>"
      ]
     },
     "metadata": {},
     "output_type": "display_data"
    },
    {
     "data": {
      "text/latex": [
       "$\\Huge 5x +1x= $"
      ],
      "text/plain": [
       "<IPython.core.display.Latex object>"
      ]
     },
     "metadata": {},
     "output_type": "display_data"
    },
    {
     "name": "stdout",
     "output_type": "stream",
     "text": [
      "6x\n"
     ]
    },
    {
     "data": {
      "text/latex": [
       "$\\Huge 5x +1x=6x $"
      ],
      "text/plain": [
       "<IPython.core.display.Latex object>"
      ]
     },
     "metadata": {},
     "output_type": "display_data"
    },
    {
     "data": {
      "text/latex": [
       "$ \\text{Good job! move on to next question.} $"
      ],
      "text/plain": [
       "<IPython.core.display.Latex object>"
      ]
     },
     "metadata": {},
     "output_type": "display_data"
    },
    {
     "data": {
      "text/latex": [
       "$ \\text{push any botton for next problem.} $"
      ],
      "text/plain": [
       "<IPython.core.display.Latex object>"
      ]
     },
     "metadata": {},
     "output_type": "display_data"
    },
    {
     "name": "stdout",
     "output_type": "stream",
     "text": [
      "s\n"
     ]
    },
    {
     "data": {
      "text/latex": [
       "$ \\Large \\text{combine these terms:} $"
      ],
      "text/plain": [
       "<IPython.core.display.Latex object>"
      ]
     },
     "metadata": {},
     "output_type": "display_data"
    },
    {
     "data": {
      "text/latex": [
       "$\\Huge 3x +0x= $"
      ],
      "text/plain": [
       "<IPython.core.display.Latex object>"
      ]
     },
     "metadata": {},
     "output_type": "display_data"
    },
    {
     "name": "stdout",
     "output_type": "stream",
     "text": [
      "3x\n"
     ]
    },
    {
     "data": {
      "text/latex": [
       "$\\Huge 3x +0x=3x $"
      ],
      "text/plain": [
       "<IPython.core.display.Latex object>"
      ]
     },
     "metadata": {},
     "output_type": "display_data"
    },
    {
     "data": {
      "text/latex": [
       "$ \\text{Good job! move on to next question.} $"
      ],
      "text/plain": [
       "<IPython.core.display.Latex object>"
      ]
     },
     "metadata": {},
     "output_type": "display_data"
    },
    {
     "data": {
      "text/latex": [
       "$ \\text{push any botton for next problem.} $"
      ],
      "text/plain": [
       "<IPython.core.display.Latex object>"
      ]
     },
     "metadata": {},
     "output_type": "display_data"
    },
    {
     "name": "stdout",
     "output_type": "stream",
     "text": [
      "s\n"
     ]
    },
    {
     "data": {
      "text/latex": [
       "$ \\Large \\text{combine these terms:} $"
      ],
      "text/plain": [
       "<IPython.core.display.Latex object>"
      ]
     },
     "metadata": {},
     "output_type": "display_data"
    },
    {
     "data": {
      "text/latex": [
       "$\\Huge 7x +4x= $"
      ],
      "text/plain": [
       "<IPython.core.display.Latex object>"
      ]
     },
     "metadata": {},
     "output_type": "display_data"
    },
    {
     "name": "stdout",
     "output_type": "stream",
     "text": [
      "11x\n"
     ]
    },
    {
     "data": {
      "text/latex": [
       "$\\Huge 7x +4x=11x $"
      ],
      "text/plain": [
       "<IPython.core.display.Latex object>"
      ]
     },
     "metadata": {},
     "output_type": "display_data"
    },
    {
     "data": {
      "text/latex": [
       "$ \\text{Good job! move on to next question.} $"
      ],
      "text/plain": [
       "<IPython.core.display.Latex object>"
      ]
     },
     "metadata": {},
     "output_type": "display_data"
    },
    {
     "data": {
      "text/latex": [
       "$ \\text{push any botton for next problem.} $"
      ],
      "text/plain": [
       "<IPython.core.display.Latex object>"
      ]
     },
     "metadata": {},
     "output_type": "display_data"
    },
    {
     "name": "stdout",
     "output_type": "stream",
     "text": [
      "11x\n"
     ]
    },
    {
     "data": {
      "text/latex": [
       "$ \\Large \\text{combine these terms:} $"
      ],
      "text/plain": [
       "<IPython.core.display.Latex object>"
      ]
     },
     "metadata": {},
     "output_type": "display_data"
    },
    {
     "data": {
      "text/latex": [
       "$\\Huge 9x +5x= $"
      ],
      "text/plain": [
       "<IPython.core.display.Latex object>"
      ]
     },
     "metadata": {},
     "output_type": "display_data"
    },
    {
     "name": "stdout",
     "output_type": "stream",
     "text": [
      "14x\n"
     ]
    },
    {
     "data": {
      "text/latex": [
       "$\\Huge 9x +5x=14x $"
      ],
      "text/plain": [
       "<IPython.core.display.Latex object>"
      ]
     },
     "metadata": {},
     "output_type": "display_data"
    },
    {
     "data": {
      "text/latex": [
       "$ \\text{Good job! move on to next question.} $"
      ],
      "text/plain": [
       "<IPython.core.display.Latex object>"
      ]
     },
     "metadata": {},
     "output_type": "display_data"
    },
    {
     "data": {
      "text/latex": [
       "$ \\text{push any botton for next problem.} $"
      ],
      "text/plain": [
       "<IPython.core.display.Latex object>"
      ]
     },
     "metadata": {},
     "output_type": "display_data"
    },
    {
     "name": "stdout",
     "output_type": "stream",
     "text": [
      "\n"
     ]
    },
    {
     "data": {
      "text/latex": [
       "$ \\Large \\text{combine these terms:} $"
      ],
      "text/plain": [
       "<IPython.core.display.Latex object>"
      ]
     },
     "metadata": {},
     "output_type": "display_data"
    },
    {
     "data": {
      "text/latex": [
       "$\\Huge 2x +0x= $"
      ],
      "text/plain": [
       "<IPython.core.display.Latex object>"
      ]
     },
     "metadata": {},
     "output_type": "display_data"
    },
    {
     "name": "stdout",
     "output_type": "stream",
     "text": [
      "2x\n"
     ]
    },
    {
     "data": {
      "text/latex": [
       "$\\Huge 2x +0x=2x $"
      ],
      "text/plain": [
       "<IPython.core.display.Latex object>"
      ]
     },
     "metadata": {},
     "output_type": "display_data"
    },
    {
     "data": {
      "text/latex": [
       "$ \\text{Good job! move on to next question.} $"
      ],
      "text/plain": [
       "<IPython.core.display.Latex object>"
      ]
     },
     "metadata": {},
     "output_type": "display_data"
    },
    {
     "data": {
      "text/latex": [
       "$ \\text{push any botton for next problem.} $"
      ],
      "text/plain": [
       "<IPython.core.display.Latex object>"
      ]
     },
     "metadata": {},
     "output_type": "display_data"
    }
   ],
   "source": [
    "from IPython.display import display, Latex\n",
    "import random\n",
    "\n",
    "#assigns 7 random problems with positive numbers\n",
    "for i in range(7):\n",
    "    a = random.randrange(10)\n",
    "    b = random.randrange(10)\n",
    "    display(Latex(r\"$ \\Large \\text{combine these terms:} $\"))\n",
    "    display(Latex(f'$\\Huge {a}x +{b}x= $'))\n",
    "    #Latex(r\"$\\Large \\text{What is your answer?}$\")\n",
    "\n",
    "    correct = False\n",
    "    while correct == False:    \n",
    "        t = str(input())\n",
    "        ans = str(a+b)\n",
    "               \n",
    "        if(t == ans+\"x\" or t == \"(\"+ans+\")\"+\"x\" or t == ans+\"(x)\" ):\n",
    "            correct = True\n",
    "            \n",
    "        else:\n",
    "           display(Latex(r\"$ \\text{oops try again} $\")) \n",
    "    \n",
    "    display(Latex(f'$\\Huge {a}x +{b}x={ans}x $'))    \n",
    "    display(Latex(r\"$ \\text{Good job! move on to next question.} $\"))\n",
    "    display(Latex(r\"$ \\text{push any botton for next problem.} $\"))\n",
    "    input()\n",
    "    correct = False\n"
   ]
  },
  {
   "cell_type": "code",
   "execution_count": 9,
   "id": "ad99e816",
   "metadata": {},
   "outputs": [
    {
     "data": {
      "text/latex": [
       "$ \\Large \\text{combine these terms:} $"
      ],
      "text/plain": [
       "<IPython.core.display.Latex object>"
      ]
     },
     "metadata": {},
     "output_type": "display_data"
    },
    {
     "data": {
      "text/latex": [
       "$\\Huge 9x +-1x $"
      ],
      "text/plain": [
       "<IPython.core.display.Latex object>"
      ]
     },
     "metadata": {},
     "output_type": "display_data"
    },
    {
     "name": "stdout",
     "output_type": "stream",
     "text": [
      "8x\n"
     ]
    },
    {
     "data": {
      "text/latex": [
       "$ \\text{Good job! move on to next question:} $"
      ],
      "text/plain": [
       "<IPython.core.display.Latex object>"
      ]
     },
     "metadata": {},
     "output_type": "display_data"
    },
    {
     "data": {
      "text/latex": [
       "$ \\Large \\text{combine these terms:} $"
      ],
      "text/plain": [
       "<IPython.core.display.Latex object>"
      ]
     },
     "metadata": {},
     "output_type": "display_data"
    },
    {
     "data": {
      "text/latex": [
       "$\\Huge 8x +-4x $"
      ],
      "text/plain": [
       "<IPython.core.display.Latex object>"
      ]
     },
     "metadata": {},
     "output_type": "display_data"
    },
    {
     "name": "stdout",
     "output_type": "stream",
     "text": [
      "4x\n"
     ]
    },
    {
     "data": {
      "text/latex": [
       "$ \\text{Good job! move on to next question:} $"
      ],
      "text/plain": [
       "<IPython.core.display.Latex object>"
      ]
     },
     "metadata": {},
     "output_type": "display_data"
    },
    {
     "data": {
      "text/latex": [
       "$ \\Large \\text{combine these terms:} $"
      ],
      "text/plain": [
       "<IPython.core.display.Latex object>"
      ]
     },
     "metadata": {},
     "output_type": "display_data"
    },
    {
     "data": {
      "text/latex": [
       "$\\Huge 7x +-10x $"
      ],
      "text/plain": [
       "<IPython.core.display.Latex object>"
      ]
     },
     "metadata": {},
     "output_type": "display_data"
    },
    {
     "name": "stdout",
     "output_type": "stream",
     "text": [
      "-3x\n"
     ]
    },
    {
     "data": {
      "text/latex": [
       "$ \\text{Good job! move on to next question:} $"
      ],
      "text/plain": [
       "<IPython.core.display.Latex object>"
      ]
     },
     "metadata": {},
     "output_type": "display_data"
    },
    {
     "data": {
      "text/latex": [
       "$ \\Large \\text{combine these terms:} $"
      ],
      "text/plain": [
       "<IPython.core.display.Latex object>"
      ]
     },
     "metadata": {},
     "output_type": "display_data"
    },
    {
     "data": {
      "text/latex": [
       "$\\Huge -6x +1x $"
      ],
      "text/plain": [
       "<IPython.core.display.Latex object>"
      ]
     },
     "metadata": {},
     "output_type": "display_data"
    },
    {
     "name": "stdout",
     "output_type": "stream",
     "text": [
      "-5x\n"
     ]
    },
    {
     "data": {
      "text/latex": [
       "$ \\text{Good job! move on to next question:} $"
      ],
      "text/plain": [
       "<IPython.core.display.Latex object>"
      ]
     },
     "metadata": {},
     "output_type": "display_data"
    },
    {
     "data": {
      "text/latex": [
       "$ \\Large \\text{combine these terms:} $"
      ],
      "text/plain": [
       "<IPython.core.display.Latex object>"
      ]
     },
     "metadata": {},
     "output_type": "display_data"
    },
    {
     "data": {
      "text/latex": [
       "$\\Huge 8x +-2x $"
      ],
      "text/plain": [
       "<IPython.core.display.Latex object>"
      ]
     },
     "metadata": {},
     "output_type": "display_data"
    },
    {
     "name": "stdout",
     "output_type": "stream",
     "text": [
      "6x\n"
     ]
    },
    {
     "data": {
      "text/latex": [
       "$ \\text{Good job! move on to next question:} $"
      ],
      "text/plain": [
       "<IPython.core.display.Latex object>"
      ]
     },
     "metadata": {},
     "output_type": "display_data"
    },
    {
     "data": {
      "text/latex": [
       "$ \\Large \\text{combine these terms:} $"
      ],
      "text/plain": [
       "<IPython.core.display.Latex object>"
      ]
     },
     "metadata": {},
     "output_type": "display_data"
    },
    {
     "data": {
      "text/latex": [
       "$\\Huge -8x +-1x $"
      ],
      "text/plain": [
       "<IPython.core.display.Latex object>"
      ]
     },
     "metadata": {},
     "output_type": "display_data"
    },
    {
     "name": "stdout",
     "output_type": "stream",
     "text": [
      "-9x\n"
     ]
    },
    {
     "data": {
      "text/latex": [
       "$ \\text{Good job! move on to next question:} $"
      ],
      "text/plain": [
       "<IPython.core.display.Latex object>"
      ]
     },
     "metadata": {},
     "output_type": "display_data"
    },
    {
     "data": {
      "text/latex": [
       "$ \\Large \\text{combine these terms:} $"
      ],
      "text/plain": [
       "<IPython.core.display.Latex object>"
      ]
     },
     "metadata": {},
     "output_type": "display_data"
    },
    {
     "data": {
      "text/latex": [
       "$\\Huge 4x +-1x $"
      ],
      "text/plain": [
       "<IPython.core.display.Latex object>"
      ]
     },
     "metadata": {},
     "output_type": "display_data"
    },
    {
     "name": "stdout",
     "output_type": "stream",
     "text": [
      "3x\n"
     ]
    },
    {
     "data": {
      "text/latex": [
       "$ \\text{Good job! move on to next question:} $"
      ],
      "text/plain": [
       "<IPython.core.display.Latex object>"
      ]
     },
     "metadata": {},
     "output_type": "display_data"
    }
   ],
   "source": [
    "#assigns 7 random problems with negative numbers\n",
    "for i in range(7):\n",
    "    a = random.randrange(-10,10)\n",
    "    while a == 0:\n",
    "        a = random.randrange(-10,10)\n",
    "        \n",
    "    b = random.randrange(-10,10)\n",
    "    while b == 0:\n",
    "        b = random.randrange(-10,10)\n",
    "    \n",
    "    display(Latex(r\"$ \\Large \\text{combine these terms:} $\"))\n",
    "    display(Latex(f'$\\Huge {a}x +{b}x $'))\n",
    "    #Latex(r\"$\\Large \\text{What is your answer?}$\")\n",
    "\n",
    "    correct = False\n",
    "    while correct == False:    \n",
    "        t = str(input())\n",
    "        ans = str(a+b)\n",
    "               \n",
    "        if(t == ans+\"x\" or t == \"(\"+ans+\")\"+\"x\" or t == ans+\"(x)\" ):\n",
    "            correct = True\n",
    "            \n",
    "        else:\n",
    "           display(Latex(r\"$ \\text{oops try again} $\")) \n",
    "        \n",
    "    display(Latex(f'$\\Huge {a}x +{b}x={ans}x $'))\n",
    "    display(Latex(r\"$ \\text{Good job! move on to next question:} $\"))\n",
    "    display(Latex(r\"$ \\text{push any botton for next problem.} $\"))\n",
    "    input()\n",
    "    correct = False\n"
   ]
  },
  {
   "cell_type": "code",
   "execution_count": 10,
   "id": "d2ee149e",
   "metadata": {},
   "outputs": [
    {
     "data": {
      "text/latex": [
       "$ \\Large \\text{combine these terms:} $"
      ],
      "text/plain": [
       "<IPython.core.display.Latex object>"
      ]
     },
     "metadata": {},
     "output_type": "display_data"
    },
    {
     "data": {
      "text/latex": [
       "$\\Huge 0x +4x $"
      ],
      "text/plain": [
       "<IPython.core.display.Latex object>"
      ]
     },
     "metadata": {},
     "output_type": "display_data"
    },
    {
     "name": "stdout",
     "output_type": "stream",
     "text": [
      "4x\n"
     ]
    },
    {
     "data": {
      "text/latex": [
       "$ \\text{Good job! move on to next question:} $"
      ],
      "text/plain": [
       "<IPython.core.display.Latex object>"
      ]
     },
     "metadata": {},
     "output_type": "display_data"
    },
    {
     "data": {
      "text/latex": [
       "$ \\Large \\text{combine these terms:} $"
      ],
      "text/plain": [
       "<IPython.core.display.Latex object>"
      ]
     },
     "metadata": {},
     "output_type": "display_data"
    },
    {
     "data": {
      "text/latex": [
       "$\\Huge -5x +2x $"
      ],
      "text/plain": [
       "<IPython.core.display.Latex object>"
      ]
     },
     "metadata": {},
     "output_type": "display_data"
    },
    {
     "name": "stdout",
     "output_type": "stream",
     "text": [
      "-3x\n"
     ]
    },
    {
     "data": {
      "text/latex": [
       "$ \\text{Good job! move on to next question:} $"
      ],
      "text/plain": [
       "<IPython.core.display.Latex object>"
      ]
     },
     "metadata": {},
     "output_type": "display_data"
    },
    {
     "data": {
      "text/latex": [
       "$ \\Large \\text{combine these terms:} $"
      ],
      "text/plain": [
       "<IPython.core.display.Latex object>"
      ]
     },
     "metadata": {},
     "output_type": "display_data"
    },
    {
     "data": {
      "text/latex": [
       "$\\Huge -5x +8x $"
      ],
      "text/plain": [
       "<IPython.core.display.Latex object>"
      ]
     },
     "metadata": {},
     "output_type": "display_data"
    },
    {
     "name": "stdout",
     "output_type": "stream",
     "text": [
      "3x\n"
     ]
    },
    {
     "data": {
      "text/latex": [
       "$ \\text{Good job! move on to next question:} $"
      ],
      "text/plain": [
       "<IPython.core.display.Latex object>"
      ]
     },
     "metadata": {},
     "output_type": "display_data"
    },
    {
     "data": {
      "text/latex": [
       "$ \\Large \\text{combine these terms:} $"
      ],
      "text/plain": [
       "<IPython.core.display.Latex object>"
      ]
     },
     "metadata": {},
     "output_type": "display_data"
    },
    {
     "data": {
      "text/latex": [
       "$\\Huge -7x +7x $"
      ],
      "text/plain": [
       "<IPython.core.display.Latex object>"
      ]
     },
     "metadata": {},
     "output_type": "display_data"
    },
    {
     "name": "stdout",
     "output_type": "stream",
     "text": [
      "0x\n"
     ]
    },
    {
     "data": {
      "text/latex": [
       "$ \\text{Good job! move on to next question:} $"
      ],
      "text/plain": [
       "<IPython.core.display.Latex object>"
      ]
     },
     "metadata": {},
     "output_type": "display_data"
    },
    {
     "data": {
      "text/latex": [
       "$ \\Large \\text{combine these terms:} $"
      ],
      "text/plain": [
       "<IPython.core.display.Latex object>"
      ]
     },
     "metadata": {},
     "output_type": "display_data"
    },
    {
     "data": {
      "text/latex": [
       "$\\Huge 7x +-8x $"
      ],
      "text/plain": [
       "<IPython.core.display.Latex object>"
      ]
     },
     "metadata": {},
     "output_type": "display_data"
    },
    {
     "name": "stdout",
     "output_type": "stream",
     "text": [
      "-1x\n"
     ]
    },
    {
     "data": {
      "text/latex": [
       "$ \\text{Good job! move on to next question:} $"
      ],
      "text/plain": [
       "<IPython.core.display.Latex object>"
      ]
     },
     "metadata": {},
     "output_type": "display_data"
    },
    {
     "data": {
      "text/latex": [
       "$ \\Large \\text{combine these terms:} $"
      ],
      "text/plain": [
       "<IPython.core.display.Latex object>"
      ]
     },
     "metadata": {},
     "output_type": "display_data"
    },
    {
     "data": {
      "text/latex": [
       "$\\Huge 1x +5x $"
      ],
      "text/plain": [
       "<IPython.core.display.Latex object>"
      ]
     },
     "metadata": {},
     "output_type": "display_data"
    },
    {
     "name": "stdout",
     "output_type": "stream",
     "text": [
      "6x\n"
     ]
    },
    {
     "data": {
      "text/latex": [
       "$ \\text{Good job! move on to next question:} $"
      ],
      "text/plain": [
       "<IPython.core.display.Latex object>"
      ]
     },
     "metadata": {},
     "output_type": "display_data"
    },
    {
     "data": {
      "text/latex": [
       "$ \\Large \\text{combine these terms:} $"
      ],
      "text/plain": [
       "<IPython.core.display.Latex object>"
      ]
     },
     "metadata": {},
     "output_type": "display_data"
    },
    {
     "data": {
      "text/latex": [
       "$\\Huge 5x +7x $"
      ],
      "text/plain": [
       "<IPython.core.display.Latex object>"
      ]
     },
     "metadata": {},
     "output_type": "display_data"
    },
    {
     "name": "stdout",
     "output_type": "stream",
     "text": [
      "13x\n"
     ]
    },
    {
     "data": {
      "text/latex": [
       "$ \\text{oops try again} $"
      ],
      "text/plain": [
       "<IPython.core.display.Latex object>"
      ]
     },
     "metadata": {},
     "output_type": "display_data"
    },
    {
     "name": "stdout",
     "output_type": "stream",
     "text": [
      "12x\n"
     ]
    },
    {
     "data": {
      "text/latex": [
       "$ \\text{Good job! move on to next question:} $"
      ],
      "text/plain": [
       "<IPython.core.display.Latex object>"
      ]
     },
     "metadata": {},
     "output_type": "display_data"
    }
   ],
   "source": [
    "#assigns 7 random problems with negative numbers and zero\n",
    "for i in range(7):\n",
    "    a = random.randrange(-10,10)\n",
    "        \n",
    "    b = random.randrange(-10,10)\n",
    "    \n",
    "    display(Latex(r\"$ \\Large \\text{combine these terms:} $\"))\n",
    "    display(Latex(f'$\\Huge {a}x +{b}x $'))\n",
    "    #Latex(r\"$\\Large \\text{What is your answer?}$\")\n",
    "\n",
    "    correct = False\n",
    "    while correct == False:    \n",
    "        t = str(input())\n",
    "        ans = str(a+b)\n",
    "               \n",
    "        if(t == ans+\"x\" or t == \"(\"+ans+\")\"+\"x\" or t == ans+\"(x)\" ):\n",
    "            correct = True\n",
    "            \n",
    "        else:\n",
    "           display(Latex(r\"$ \\text{oops try again} $\")) \n",
    "        \n",
    "    display(Latex(f'$\\Huge {a}x +{b}x={ans}x $'))\n",
    "    display(Latex(r\"$ \\text{Good job! move on to next question:} $\"))\n",
    "    display(Latex(r\"$ \\text{push any botton for next problem.} $\"))\n",
    "    input()\n",
    "    correct = False\n"
   ]
  },
  {
   "cell_type": "code",
   "execution_count": null,
   "id": "f95a948b",
   "metadata": {},
   "outputs": [],
   "source": []
  },
  {
   "cell_type": "code",
   "execution_count": null,
   "id": "15955159",
   "metadata": {},
   "outputs": [],
   "source": []
  },
  {
   "cell_type": "code",
   "execution_count": null,
   "id": "8a34167f",
   "metadata": {},
   "outputs": [],
   "source": []
  },
  {
   "cell_type": "code",
   "execution_count": null,
   "id": "b4745604",
   "metadata": {},
   "outputs": [],
   "source": [
    "from IPython.display import HTML\n",
    "\n",
    "# Youtube\n",
    "HTML('<iframe width=\"840\" height=\"472\" src=\"https://www.youtube.com/embed/S_f2qV2_U00?rel=0&amp;controls=0&amp;showinfo=0\" frameborder=\"0\" allowfullscreen></iframe>')"
   ]
  }
 ],
 "metadata": {
  "kernelspec": {
   "display_name": "Python 3",
   "language": "python",
   "name": "python3"
  },
  "language_info": {
   "codemirror_mode": {
    "name": "ipython",
    "version": 3
   },
   "file_extension": ".py",
   "mimetype": "text/x-python",
   "name": "python",
   "nbconvert_exporter": "python",
   "pygments_lexer": "ipython3",
   "version": "3.8.8"
  }
 },
 "nbformat": 4,
 "nbformat_minor": 5
}
