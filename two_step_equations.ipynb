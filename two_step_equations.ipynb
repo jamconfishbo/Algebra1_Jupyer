{
 "cells": [
  {
   "cell_type": "code",
   "execution_count": null,
   "source": [
    "#instructional video for two step equations"
   ],
   "outputs": [],
   "metadata": {}
  },
  {
   "cell_type": "code",
   "execution_count": 1,
   "source": [
    "from IPython.display import display, Latex\n",
    "import random\n",
    "\n",
    "\n",
    "\n",
    "#for converting string fractions into floating points\n",
    "def convert_to_float(frac_str):\n",
    "    try:\n",
    "        return float(frac_str)\n",
    "    except ValueError:\n",
    "        try:\n",
    "            num, denom = frac_str.split('/')\n",
    "        except ValueError:\n",
    "            return None\n",
    "        try:\n",
    "            leading, num = num.split(' ')\n",
    "        except ValueError:\n",
    "            return float(num) / float(denom)        \n",
    "        if float(leading) < 0:\n",
    "            sign_mult = -1\n",
    "        else:\n",
    "            sign_mult = 1\n",
    "        return float(leading) + sign_mult * (float(num) / float(denom))\n",
    "\n",
    "\n",
    "\n",
    "\n",
    "\n",
    "\n",
    "\n",
    "#equation of the form ax+b =c\n",
    "numproblums = 5\n",
    "for i in range(numproblums):\n",
    "    #randomly asined coeficnts and variables\n",
    "    a = random.randrange(1,10)\n",
    "    b = random.randrange(1,10)\n",
    "    c = random.randrange(10)\n",
    "\n",
    "    #this is the equation\n",
    "    eq = f\"{a}x+{b} = {c}\"\n",
    "    \n",
    "    \n",
    "    #student chooses which step to do first, all steps can lead to correct answer\n",
    "    display(Latex(r\"$ \\Huge\" +eq +r\"$\"))\n",
    "    display(Latex(r\"$ \\Large \\text{What do you want to do?} $\"))\n",
    "    display(Latex(r\"$ \\Large \\text{a) add} $\"))\n",
    "    display(Latex(r\"$ \\Large \\text{b) subtract} $\"))\n",
    "    display(Latex(r\"$ \\Large \\text{c) multiply} $\"))\n",
    "    display(Latex(r\"$ \\Large \\text{d) divide} $\"))\n",
    "\n",
    "    step = str(input())\n",
    "    step = step.lower()\n",
    "        \n",
    "        #if they choose addition\n",
    "    if \"a\" in step:\n",
    "        \n",
    "        #ok what do you want to add to both sides?\n",
    "        display(Latex(r\"$ \\Large \\text{ok what do you want to add to  both sides?} $\"))\n",
    "        \n",
    "        k=r\"$\\Huge \\begin{align}\"+ str(a)+r\"x + \"+str(b)+r\"& =\"+str(c)+r\"\\\\ \\color{blue}{+?} & \\color{white}=  \\color{blue}{+?}  \\end{align}$\"\n",
    "        display(Latex(k))\n",
    "        \n",
    "        \n",
    "        #asking user what to add to both sides\n",
    "        add = str(input())\n",
    "        nextstep = False\n",
    "        while(nextstep == False):    \n",
    "            if add == str(-1*b):\n",
    "                nextstep = True\n",
    "                break\n",
    "            \n",
    "            #more advanced feedback later\n",
    "            else:\n",
    "                display(Latex(r\"$ \\Large \\text{Try again! Get rid of the terms furthest from the x} $\"))\n",
    "                t=r\"$\\Huge \\begin{align}\"+ str(a)+r\"x + \"+str(b)+r\"& =\"+str(c)+r\"\\\\ \\color{blue}{+?} & =  \\color{blue}{+?}  \\end{align}$\"\n",
    "                display(Latex(t))\n",
    "                sub = str(input())\n",
    "        \n",
    "        \n",
    "        nextstep = False\n",
    "        display(Latex(r\"$\\Huge \\color{green}{Good!}$\"))\n",
    "        \n",
    "        #for reducing left hand side\n",
    "        while nextstep == False:\n",
    "            display(Latex(r\"$\\Huge \\begin{align}\"+ str(a)+r\"x + \"+str(b)+r\"& =\"+str(c)+r\" \\\\ \\color{blue}{+\"+add+r\"} & \\color{white}=  \\color{blue}{+\"+add+ r\"}  \\end{align}$\"))         \n",
    "            display(Latex(r\"$\\Huge \\ \\ \\uparrow$\"))\n",
    "            display(Latex(r\"$\\Large \\text{What does the left side reduce to?}$\"))\n",
    "        \n",
    "            reduc = str(input())\n",
    "            ## if correct\n",
    "            case1 = str(a)+\"x\"\n",
    "            case2 = str(a)+\"x\"\n",
    "            if a == \"-1\":\n",
    "                case1 = \"-x\"\n",
    "            if a == \"1\":\n",
    "                case2 = \"x\"\n",
    "            \n",
    "            \n",
    "            if(reduc == str(a)+\"x\" or reduc == case1 or reduc == case2):\n",
    "                display(Latex(r\"$\\Huge \\color{green}{Good!}$\"))   \n",
    "                display(Latex(r\"$\\Huge \\begin{align}\"+ str(a)+r\"x & =\"+str(c)+r\" \\\\ \\color{white}{+\"+add+r\"} & \\color{white}=  \\color{blue}{+\"+add+ r\"}  \\end{align}$\"))    \n",
    "                nextstep == True      \n",
    "                break\n",
    "                        \n",
    "            ## if wrong            \n",
    "            else:\n",
    "                display(Latex(r\"$\\Huge \\text{Try again}$\"))\n",
    "        \n",
    "        #for reducing right hand side\n",
    "        \n",
    "        while nextstep == False:    \n",
    "            display(Latex(r\"$\\Huge  \\; \\; \\; \\; \\; \\; \\; \\; \\; \\; \\; \\; \\; \\; \\; \\; \\; \\; \\; \\; \\; \\; \\; \\;\\uparrow$\"))\n",
    "            display(Latex(r\"$\\Large \\text{What does the right side reduce to?}$\"))\n",
    "        \n",
    "            reducright = str(input())\n",
    "            ## if correct\n",
    "            right = (int(c) + int(add))\n",
    "            \n",
    "            if(reducright  == str(right)):\n",
    "                display(Latex(r\"$\\Huge \\color{green}{Good!}$\"))   \n",
    "                display(Latex(r\"$\\Huge \\begin{align}\"+ str(a)+r\"x & =\"+reducright + \" \\end{align}$\"))    \n",
    "                nextstep == True      \n",
    "                break\n",
    "                        \n",
    "            ## if wrong            \n",
    "            else:\n",
    "                display(Latex(r\"$\\Huge \\text{Try again}$\"))\n",
    "                display(Latex(r\"$\\Huge \\begin{align}\"+ str(a)+r\"x & =\"+str(c)+r\" \\\\ \\color{white}{+\"+add+r\"} & \\color{white}=  \\color{blue}{+\"+add+ r\"}  \\end{align}$\"))    \n",
    "\n",
    "                \n",
    "        \n",
    "        \n",
    "        #if the coefficient to x is 1 then user is done\n",
    "        if str(a) == \"1\":\n",
    "            display(Latex(r\"$\\Huge \\begin{align}\"+str(a)+r\"x & =\"+reducright + r\" \\end{align}$\"))\n",
    "            display(Latex(r\"$\\Large \\text{Ok you have isolated x in the equation}$\"))\n",
    "            display(Latex(r\"$\\Large \\text{What number is x?}$\"))\n",
    "\n",
    "            correct = False\n",
    "            while correct == False:\n",
    "                xis = str(input())\n",
    "                if (xis == reducright):\n",
    "                    display(Latex(r\"$\\Large \\text{You Solved the equation!}$\"))\n",
    "                    display(Latex(r\"$\\Large \\text{Lets try another problem!}$\"))\n",
    "                    input()\n",
    "                    correct = True\n",
    "                else:\n",
    "                    display(Latex(r\"$\\Large \\text{Try again!}$\"))\n",
    "                    display(Latex(r\"$\\Huge \\begin{align}\"+str(a)+r\"x & =\"+reducright + r\" \\end{align}$\"))\n",
    "                    \n",
    "            continue\n",
    "        else:\n",
    "            #Now it is one step equation\n",
    "            display(Latex(r\"$\\Large \\text{Ok what do you want to do next? }$\"))  \n",
    "            display(Latex(r\"$ \\Large \\text{a) multiply} $\"))\n",
    "            display(Latex(r\"$ \\Large \\text{b) divide} $\"))\n",
    "            step = str(input())\n",
    "            step = step.lower()\n",
    "\n",
    "            #if user pushes wrong button \n",
    "            while step != \"a\" or step != \"b\":\n",
    "                if step == \"a\" or step == \"b\":\n",
    "                    break\n",
    "                display(Latex(r\"$\\Large \\text{Sorry you have to choose between a) or b)}$\"))\n",
    "                step = str(input())\n",
    "                step = step.lower()\n",
    "\n",
    "\n",
    "\n",
    "            #for multiplication\n",
    "            if step == \"a\":  \n",
    "                #if the coefficient to x is not 1\n",
    "                display(Latex(r\"$\\Large \\text{Ok what do you want to multiply by? }$\"))\n",
    "                display(Latex(r\"$\\Huge \\begin{align}\"+r\"\\color{blue}{?}*\" +str(a)+r\"x & =\"+r\"\\color{blue}{?}*\"+reducright + r\" \\end{align}$\"))        \n",
    "                correct = False\n",
    "                while correct == False:\n",
    "\n",
    "                    div = str(input())\n",
    "\n",
    "\n",
    "                    if div == str(\"1/\"+str(a)) or div == str(\"-1/\"+str(-1*a)):\n",
    "                        correct = True\n",
    "                        display(Latex(r\"$\\Large \\color{green}{Good!}$\"))\n",
    "\n",
    "                    else:\n",
    "                        display(Latex(r\"$\\Large \\text{try again! }$\"))             \n",
    "                        display(Latex(r\"$\\Huge \\begin{align}\"+r\"\\color{blue}{?}*\" +str(a)+r\"x & =\"+r\"\\color{blue}{?}*\"+reducright + r\" \\end{align}$\"))        \n",
    "\n",
    "                        display(Latex(r\"$ \\text{***Hint we are trying to cancel the coefficient in front of the x}$\"))\n",
    "\n",
    "                #asks how to reduce the left hand side\n",
    "                input()\n",
    "                display(Latex(r\"$\\Huge \\begin{align}\"+r\"\\frac{1}{\"+str(a)+\"}*\" +str(a)+r\"x & =\"+r\"\\frac{1}{\"+str(a)+r\"}*\"+reducright + r\"\\end{align}$\"))\n",
    "                display(Latex(r\"$\\Huge \\; \\; \\; \\uparrow$\"))\n",
    "                display(Latex(r\"$\\text{what does the left side reduce to?}$\"))\n",
    "\n",
    "                #checking for reduced left side answer\n",
    "\n",
    "                correct = False\n",
    "                while correct == False:\n",
    "                    div = str(input())\n",
    "                    if div == \"x\" or div == \"1x\":\n",
    "                        correct = True\n",
    "                        display(Latex(r\"$\\Large \\color{green}{Good!}$\")) \n",
    "                    else:\n",
    "                        display(Latex(r\"$\\Large \\text{Try again!}$\"))\n",
    "                        display(Latex(r\"$\\Huge \\begin{align}\"+r\"\\frac{1}{\"+str(a)+\"}*\" +str(a)+r\"x & =\"+r\"\\frac{1}{\"+str(a)+r\"}*\"+reducright + r\"\\end{align}$\"))\n",
    "                        display(Latex(r\"$ \\text{**Hint what happens when the numerator and denominator of fraction are the same? Something cancels}$\"))\n",
    "\n",
    "                #asks how to reduce the right hand side\n",
    "                display(Latex(r\"$\\Huge \\begin{align} x & =\"+r\"\\frac{1}{\"+str(a)+r\"}*\"+reducright + r\"\\end{align}$\"))\n",
    "                display(Latex(r\"$\\Huge \\; \\; \\; \\; \\; \\; \\; \\; \\; \\; \\; \\; \\; \\; \\; \\uparrow$\"))\n",
    "                display(Latex(r\"$\\text{what does the right side reduce to?}$\"))\n",
    "\n",
    "                #if the answer is a whole number\n",
    "                if (int(reducright) % int(a)) == 0:\n",
    "                    display(Latex(r\"$\\text{It's a whole number}$\"))\n",
    "                #if the answer is a fraction\n",
    "                else:\n",
    "                    display(Latex(r\"$\\text{It will be a fraction!}$\"))\n",
    "\n",
    "                #checking for reduced right side answer\n",
    "                correct = False\n",
    "\n",
    "                #wait for correct answers (fractional or whole number)\n",
    "                while correct == False:\n",
    "                    #if answer whole number\n",
    "                    if (int(reducright) % int(a)) == 0:\n",
    "                        rightside = int(input())\n",
    "                        #if they got it correct\n",
    "                        if rightside == int(int(reducright)/int(a)):\n",
    "                            display(Latex(r\"$\\Large \\color{green}{Good!}$\"))\n",
    "                            display(Latex(r\"$\\Huge x =\"+str(int(int(reducright)/int(a)))+r\"$\"))\n",
    "                            display(Latex(r\"$\\Large \\text{ is the solution! }$\"))\n",
    "                            display(Latex(r\"$\\Large \\text{Lets try another problem! }$\"))\n",
    "                            input()\n",
    "                            correct = True\n",
    "                        #if they got it wrong\n",
    "                        else:\n",
    "                            display(Latex(r\"$\\Large \\text{Try again!}$\"))\n",
    "                            display(Latex(r\"$\\Huge \\begin{align} x & =\"+r\"\\frac{1}{\"+str(a)+r\"}*\"+reducright + r\"\\end{align}$\"))\n",
    "\n",
    "                    #if the answer is a fraction\n",
    "                    else:\n",
    "                        rightside = input()\n",
    "\n",
    "                        #if they got it correct\n",
    "                        if convert_to_float(rightside) == float(int(reducright)/int(a)): \n",
    "                            display(Latex(r\"$\\Large \\color{green}{Good!}$\"))\n",
    "                            correct = True\n",
    "                            display(Latex(r\"$\\Huge \\begin{align} x & =\"+r\"\\frac{\"+reducright+r\"}{\"+str(a)+r\"} \\end{align}$\"))\n",
    "                            display(Latex(r\"$\\Large \\text{is the solution! }$\"))\n",
    "                            display(Latex(r\"$\\Large \\text{Lets try another problem! }$\"))\n",
    "                            input()\n",
    "\n",
    "                        #if they got it incorrect\n",
    "                        else:\n",
    "                            display(Latex(r\"$\\Large \\text{Try again!}$\"))\n",
    "                            display(Latex(r\"$\\Huge \\begin{align} x & =\"+r\"(\\frac{1}{\"+str(a)+r\"})*\"+reducright + r\"\\end{align} $\"))\n",
    "                            display(Latex(r\"$\\Huge \\; \\; \\; \\;\\; \\; \\; \\; \\; \\; \\; \\; \\; \\; \\; \\; \\; \\; \\; \\uparrow$\"))\n",
    "                            display(Latex(r\"$ \\Large \\text{what does the right side reduce to?}$\"))\n",
    "        \n",
    "        \n",
    "        \n",
    "        #for division\n",
    "            if step == \"b\":\n",
    "                \n",
    "                #if the coefficient to x is not 1\n",
    "                display(Latex(r\"$\\Large \\text{Ok what do you want to divide by? }$\"))\n",
    "                \n",
    "                display(Latex(r\"$\\Huge \\begin{align} \\frac{\"+str(a)+r\"x}{\\color{blue}{?}} & = \"+r\"\\frac{\"+reducright+r\"}{\\color{blue}{?}} \\end{align}$\"))\n",
    "                \n",
    "                correct = False\n",
    "                while correct == False:\n",
    "\n",
    "                    div = str(input())\n",
    "\n",
    "\n",
    "                    if div == str(a) or div == str(\"-1\"+str(-1*a)):\n",
    "                        correct = True\n",
    "                        display(Latex(r\"$\\Large \\color{green}{Good!}$\"))\n",
    "\n",
    "                    else:\n",
    "                        display(Latex(r\"$\\Large \\text{try again! }$\"))\n",
    "                        display(Latex(r\"$\\Huge \\begin{align} \\frac{\"+str(a)+r\"x}{\\color{blue}{?}} & = \"+r\"\\frac{\"+reducright+r\"}{\\color{blue}{?}} \\end{align}$\"))\n",
    "                        display(Latex(r\"$\\Large \\text{***Hint we are trying to cancel the coefficient in front of the x}$\"))\n",
    "\n",
    "                #asks how to reduce the left hand side\n",
    "                input()\n",
    "                \n",
    "                \n",
    "                display(Latex(r\"$\\Huge \\begin{align} \\frac{\"+str(a)+r\"x}{\"+str(a)+r\"} & = \"+r\"\\frac{\"+reducright+r\"}{\"+str(a)+r\"} \\end{align}$\"))\n",
    "                display(Latex(r\"$\\Huge \\; \\; \\; \\uparrow$\"))\n",
    "                display(Latex(r\"$\\text{what does the left side reduce to?}$\"))\n",
    "\n",
    "                #checking for reduced left side answer\n",
    "\n",
    "                correct = False\n",
    "                while correct == False:\n",
    "                    div = str(input())\n",
    "                    if div == \"x\" or div == \"1x\":\n",
    "                        correct = True\n",
    "                        display(Latex(r\"$\\Large \\color{green}{Good!}$\")) \n",
    "                    else:\n",
    "                        display(Latex(r\"$\\Large \\text{Try again!}$\"))\n",
    "                        display(Latex(r\"$\\Huge \\begin{align} \\frac{\"+str(a)+r\"x}{\"+str(a)+r\"} & = \"+r\"\\frac{\"+reducright+r\"}{\"+str(a)+r\"} \\end{align}$\"))\n",
    "                        display(Latex(r\"$\\Huge \\; \\; \\; \\uparrow$\"))\n",
    "                        display(Latex(r\"$\\text{what does the left side reduce to?}$\"))\n",
    "                        display(Latex(r\"$\\Large \\text{**Hint what happens when the numerator and denominator of fraction are the same? Something cancels}$\"))\n",
    "\n",
    "                #asks how to reduce the right hand side\n",
    "\n",
    "                display(Latex(r\"$\\Huge \\begin{align} x & =\"+r\"\\frac{\"+reducright+r\"}{\"+str(a)+r\"}\\end{align}$\"))\n",
    "                display(Latex(r\"$\\Huge \\; \\; \\; \\; \\; \\;\\; \\; \\; \\; \\; \\; \\; \\; \\; \\; \\; \\; \\; \\; \\; \\; \\; \\; \\uparrow$\"))\n",
    "                display(Latex(r\"$\\text{what does the right side reduce to?}$\"))\n",
    "\n",
    "                #if the answer is a whole number\n",
    "                if (int(reducright) % int(a)) == 0:\n",
    "                    display(Latex(r\"$\\text{It as a whole number}$\"))\n",
    "                #if the answer is a fraction\n",
    "                else:\n",
    "                    display(Latex(r\"$\\text{It will be a fraction!}$\"))\n",
    "\n",
    "                #checking for reduced right side answer\n",
    "                correct = False\n",
    "\n",
    "                #wait for correct answers (fractional or whole number)\n",
    "                while correct == False:\n",
    "                    #if answer whole number\n",
    "                    if (int(reducright) % int(a)) == 0:\n",
    "                        rightside = int(input())\n",
    "                        #if they got it correct\n",
    "                        if rightside == int(int(reducright)/int(a)):\n",
    "                            display(Latex(r\"$\\Large \\color{green}{Good!}$\"))\n",
    "                            display(Latex(r\"$\\Huge x =\"+str(int(int(reducright)/int(a)))+r\"$\"))\n",
    "                            display(Latex(r\"$\\Large \\text{ is the solution! }$\"))\n",
    "                            display(Latex(r\"$\\Large \\text{Lets try another problem! }$\"))\n",
    "                            input()\n",
    "                            correct = True\n",
    "                        #if they got it wrong\n",
    "                        else:\n",
    "                            display(Latex(r\"$\\Large \\text{Try again!}$\"))\n",
    "                            display(Latex(r\"$\\Huge \\begin{align} x & =\"+r\"\\frac{\"+reducright+r\"}{\"+str(a)+r\"}\\end{align}$\"))\n",
    "                            display(Latex(r\"$\\Huge \\; \\; \\; \\; \\; \\;\\; \\; \\; \\; \\; \\; \\; \\; \\; \\; \\; \\; \\; \\; \\; \\; \\; \\; \\uparrow$\"))\n",
    "                            display(Latex(r\"$\\text{what does the right side reduce to?}$\"))\n",
    "\n",
    "                            \n",
    "                    #if the answer is a fraction\n",
    "                    else:\n",
    "                        rightside = input()\n",
    "\n",
    "                        #if they got it correct\n",
    "                        if convert_to_float(rightside) == float(int(reducright)/int(a)): \n",
    "                            display(Latex(r\"$\\Large \\color{green}{Good!}$\"))\n",
    "                            correct = True\n",
    "                            display(Latex(r\"$\\Huge \\begin{align} x & =\"+r\"\\frac{\"+reducright+r\"}{\"+str(a)+r\"} \\end{align}$\"))\n",
    "                            display(Latex(r\"$\\Large \\text{is the solution! }$\"))\n",
    "                            display(Latex(r\"$\\Large \\text{Lets try another problem! }$\"))\n",
    "                            input()\n",
    "\n",
    "                        #if they got it incorrect\n",
    "                        else:\n",
    "                            display(Latex(r\"$\\Large \\text{Try again!}$\"))\n",
    "                            display(Latex(r\"$\\Huge \\begin{align} x & =\"+r\"(\\frac{1}{\"+str(a)+r\"})*\"+reducright + r\"\\end{align} $\"))\n",
    "                            display(Latex(r\"$\\Huge \\; \\; \\; \\;\\; \\; \\; \\; \\; \\; \\; \\; \\; \\; \\; \\; \\; \\; \\; \\uparrow$\"))\n",
    "                            display(Latex(r\"$ \\Large \\text{what does the right side reduce to?}$\"))\n",
    "        \n",
    "        \n",
    "        \n",
    "        #if they choose subtraction\n",
    "    if \"b\" in step:\n",
    "        \n",
    "        #ok what do you want to subtract from both sides?\n",
    "        display(Latex(r\"$ \\Large \\text{ok what do you want to subtract from both sides?} $\"))\n",
    "        \n",
    "        k=r\"$\\Huge \\begin{align}\"+ str(a)+r\"x + \"+str(b)+r\"& =\"+str(c)+r\"\\\\ \\color{blue}{-?} & \\color{white}=  \\color{blue}{-?}  \\end{align}$\"\n",
    "        display(Latex(k))\n",
    "        \n",
    "        \n",
    "        #asking user what to subtract from both sides\n",
    "        sub = str(input())\n",
    "        nextstep = False\n",
    "        while(nextstep == False):    \n",
    "            if sub == str(b):\n",
    "                nextstep = True\n",
    "                break\n",
    "            \n",
    "            #more advanced feedback later\n",
    "            else:\n",
    "                display(Latex(r\"$ \\Large \\text{Try again! Get rid of the terms furthest from the x} $\"))\n",
    "                t=r\"$\\Huge \\begin{align}\"+ str(a)+r\"x + \"+str(b)+r\"& =\"+str(c)+r\"\\\\ \\color{blue}{-?} & \\color{white}=  \\color{blue}{-?}  \\end{align}$\"\n",
    "                display(Latex(t))\n",
    "                sub = str(input())\n",
    "        \n",
    "        put = str(b)\n",
    "        nextstep = False\n",
    "        display(Latex(r\"$\\Huge \\color{green}{Good!}$\"))\n",
    "        \n",
    "        #for reducing left hand side\n",
    "        while nextstep == False:\n",
    "            display(Latex(r\"$\\Huge \\begin{align}\"+ str(a)+r\"x + \"+str(b)+r\"& =\"+str(c)+r\" \\\\ \\color{blue}{-\"+put+r\"} & \\color{white}=  \\color{blue}{-\"+put+ r\"}  \\end{align}$\"))         \n",
    "            display(Latex(r\"$\\Huge \\ \\ \\uparrow$\"))\n",
    "            display(Latex(r\"$\\Large \\text{What does the left side reduce to?}$\"))\n",
    "        \n",
    "            reduc = str(input())\n",
    "            ## if correct\n",
    "            if(reduc == str(a)+\"x\"):\n",
    "                display(Latex(r\"$\\Huge \\color{green}{Good!}$\"))   \n",
    "                display(Latex(r\"$\\Huge \\begin{align}\"+ str(a)+r\"x & =\"+str(c)+r\" \\\\ \\color{white}{-\"+put+r\"} & \\color{white}=  \\color{blue}{-\"+put+ r\"}  \\end{align}$\"))    \n",
    "                nextstep == True      \n",
    "                break\n",
    "                        \n",
    "            ## if wrong            \n",
    "            else:\n",
    "                display(Latex(r\"$\\Huge \\text{Try again}$\"))\n",
    "        \n",
    "        #for reducing right hand side\n",
    "        \n",
    "        while nextstep == False:\n",
    "            #just commentex this\n",
    "            #display(Latex(r\"$\\Huge \\begin{align}\"+ str(a)+r\"x & =\"+str(c)+r\" \\\\ \\color{white}{-\"+put+r\"} & \\color{white}=  \\color{blue}{-\"+put+ r\"}  \\end{align}$\"))     \n",
    "            display(Latex(r\"$\\Huge  \\; \\; \\; \\; \\; \\; \\; \\; \\; \\; \\; \\; \\; \\; \\; \\; \\; \\; \\; \\; \\; \\; \\; \\;\\uparrow$\"))\n",
    "            display(Latex(r\"$\\Large \\text{What does the right side reduce to?}$\"))\n",
    "        \n",
    "            reducright = str(input())\n",
    "            ## if correct\n",
    "            right = (int(c) - int(put))\n",
    "            \n",
    "            if(reducright  == str(right)):\n",
    "                display(Latex(r\"$\\Huge \\color{green}{Good!}$\"))   \n",
    "                display(Latex(r\"$\\Huge \\begin{align}\"+ str(a)+r\"x & =\"+reducright + \" \\end{align}$\"))    \n",
    "                nextstep == True      \n",
    "                break\n",
    "                        \n",
    "            ## if wrong            \n",
    "            else:\n",
    "                display(Latex(r\"$\\Huge \\text{Try again}$\"))\n",
    "                display(Latex(r\"$\\Huge \\begin{align}\"+ str(a)+r\"x & =\"+str(c)+r\" \\\\ \\color{white}{-\"+put+r\"} & \\color{white}=  \\color{blue}{-\"+put+ r\"}  \\end{align}$\"))    \n",
    "\n",
    "                \n",
    "        \n",
    "        \n",
    "        #if the coefficient to x is 1 then user is done\n",
    "        if str(a) == \"1\":\n",
    "            display(Latex(r\"$\\Huge \\begin{align}\"+str(a)+r\"x & =\"+reducright + r\" \\end{align}$\"))\n",
    "            display(Latex(r\"$\\Large \\text{Ok you have isolated x in the equation}$\"))\n",
    "            display(Latex(r\"$\\Large \\text{What number is x?}$\"))\n",
    "\n",
    "            correct = False\n",
    "            while correct == False:\n",
    "                xis = str(input())\n",
    "                if (xis == reducright):\n",
    "                    display(Latex(r\"$\\Large \\text{You Solved the equation!}$\"))\n",
    "                    display(Latex(r\"$\\Large \\text{Lets try another problem!}$\"))\n",
    "                    correct = True\n",
    "                    input()\n",
    "                else:\n",
    "                    display(Latex(r\"$\\Large \\text{Try again!}$\"))\n",
    "                    display(Latex(r\"$\\Huge \\begin{align}\"+str(a)+r\"x & =\"+reducright + r\" \\end{align}$\"))\n",
    "\n",
    "            continue\n",
    "        \n",
    "        else:\n",
    "            #Now it is one step equation\n",
    "            display(Latex(r\"$\\Large \\text{Ok what do you want to do next? }$\"))  \n",
    "            display(Latex(r\"$ \\Large \\text{a) multiply} $\"))\n",
    "            display(Latex(r\"$ \\Large \\text{b) divide} $\"))\n",
    "            step = str(input())\n",
    "            step = step.lower()\n",
    "\n",
    "            #if user pushes wrong button \n",
    "            while step != \"a\" or step != \"b\":\n",
    "                if step == \"a\" or step == \"b\":\n",
    "                    break\n",
    "                display(Latex(r\"$\\Large \\text{Sorry you have to choose between a) or b)}$\"))\n",
    "                step = str(input())\n",
    "                step = step.lower()\n",
    "\n",
    "            #for multiplication\n",
    "            if step == \"a\":        \n",
    "                #if the coefficient to x is not 1\n",
    "                display(Latex(r\"$\\Large \\text{Ok what do you want to multiply by? }$\"))\n",
    "                display(Latex(r\"$\\Huge \\begin{align}\"+r\"\\color{blue}{?}*\" +str(a)+r\"x & =\"+r\"\\color{blue}{?}*\"+reducright + r\" \\end{align}$\"))        \n",
    "                correct = False\n",
    "                while correct == False:\n",
    "\n",
    "                    div = str(input())\n",
    "\n",
    "\n",
    "                    if div == str(\"1/\"+str(a)) or div == str(\"-1/\"+str(-1*a)):\n",
    "                        correct = True\n",
    "                        display(Latex(r\"$\\Large \\color{green}{Good!}$\"))\n",
    "\n",
    "                    else:\n",
    "                        display(Latex(r\"$\\Large \\text{try again! }$\"))\n",
    "                        display(Latex(r\"$\\Large \\text{Ok what do you want to multiply by? }$\"))\n",
    "                        display(Latex(r\"$\\Huge \\begin{align}\"+r\"\\color{blue}{?}*\" +str(a)+r\"x & =\"+r\"\\color{blue}{?}*\"+reducright + r\" \\end{align}$\"))        \n",
    "                        display(Latex(r\"$\\Large \\text{***Hint we are trying to cancel the coefficient in front of the x}$\"))\n",
    "                        \n",
    "                #asks how to reduce the left hand side\n",
    "                input()\n",
    "                display(Latex(r\"$\\Huge \\begin{align}\"+r\"\\frac{1}{\"+str(a)+\"}*\" +str(a)+r\"x & =\"+r\"\\frac{1}{\"+str(a)+r\"}*\"+reducright + r\"\\end{align}$\"))\n",
    "                display(Latex(r\"$\\Huge \\; \\; \\; \\uparrow$\"))\n",
    "                display(Latex(r\"$\\text{what does the left side reduce to?}$\"))\n",
    "\n",
    "                #checking for reduced left side answer\n",
    "\n",
    "                correct = False\n",
    "                while correct == False:\n",
    "                    div = str(input())\n",
    "                    if div == \"x\" or div == \"1x\":\n",
    "                        correct = True\n",
    "                        display(Latex(r\"$\\Large \\color{green}{Good!}$\")) \n",
    "                    else:\n",
    "                        display(Latex(r\"$\\Large \\text{Try again!}$\")) \n",
    "                        display(Latex(r\"$\\Large \\text{**Hint what happens when the numerator and denominator of fraction are the same? Something cancels}$\"))\n",
    "\n",
    "                #asks how to reduce the right hand side\n",
    "\n",
    "\n",
    "                display(Latex(r\"$\\Huge \\begin{align} x & =\"+r\"\\frac{1}{\"+str(a)+r\"}*\"+reducright + r\"\\end{align}$\"))\n",
    "                display(Latex(r\"$\\Huge \\; \\; \\; \\; \\; \\; \\; \\; \\; \\; \\; \\; \\; \\; \\; \\uparrow$\"))\n",
    "                display(Latex(r\"$\\text{what does the right side reduce to?}$\"))\n",
    "\n",
    "                #if the answer is a whole number\n",
    "                if (int(reducright) % int(a)) == 0:\n",
    "                    display(Latex(r\"$\\text{It as a whole number}$\"))\n",
    "                #if the answer is a fraction\n",
    "                else:\n",
    "                    display(Latex(r\"$\\text{It will be a fraction!}$\"))\n",
    "\n",
    "                #checking for reduced right side answer\n",
    "                correct = False\n",
    "\n",
    "                #wait for correct answers (fractional or whole number)\n",
    "                while correct == False:\n",
    "                    #if answer whole number\n",
    "                    if (int(reducright) % int(a)) == 0:\n",
    "                        rightside = int(input())\n",
    "                        #if they got it correct\n",
    "                        if rightside == int(int(reducright)/int(a)):\n",
    "                            display(Latex(r\"$\\Large \\color{green}{Good!}$\"))\n",
    "                            display(Latex(r\"$\\Huge x =\"+str(int(int(reducright)/int(a)))+r\"$\"))\n",
    "                            display(Latex(r\"$\\Large \\text{ is the solution! }$\"))\n",
    "                            display(Latex(r\"$\\Large \\text{Lets try another problem! }$\"))\n",
    "                            input()\n",
    "                            correct = True\n",
    "                        #if they got it wrong\n",
    "                        else:\n",
    "                            display(Latex(r\"$\\Large \\text{Try again!}$\"))\n",
    "                            display(Latex(r\"$\\Huge \\begin{align} x & =\"+r\"\\frac{1}{\"+str(a)+r\"}*\"+reducright + r\"\\end{align}$\"))\n",
    "                            display(Latex(r\"$\\Huge \\; \\; \\; \\; \\; \\; \\; \\; \\; \\; \\; \\; \\; \\; \\; \\uparrow$\"))\n",
    "                            display(Latex(r\"$\\text{what does the right side reduce to?}$\"))\n",
    "                    \n",
    "                    \n",
    "                    #if the answer is a fraction\n",
    "                    else:\n",
    "                        rightside = input()\n",
    "\n",
    "                        #if they got it correct\n",
    "                        if convert_to_float(rightside) == float(int(reducright)/int(a)): \n",
    "                            display(Latex(r\"$\\Large \\color{green}{Good!}$\"))\n",
    "                            correct = True\n",
    "                            display(Latex(r\"$\\Huge \\begin{align} x & =\"+r\"\\frac{\"+reducright+r\"}{\"+str(a)+r\"} \\end{align}$\"))\n",
    "                            display(Latex(r\"$\\Large \\text{is the solution! }$\"))\n",
    "                            display(Latex(r\"$\\Large \\text{Lets try another problem! }$\"))\n",
    "                            input()\n",
    "\n",
    "                        #if they got it incorrect\n",
    "                        else:\n",
    "                            display(Latex(r\"$\\Large \\text{Try again!}$\"))\n",
    "                            display(Latex(r\"$\\Huge \\begin{align} x & =\"+r\"(\\frac{1}{\"+str(a)+r\"})*\"+reducright + r\"\\end{align} $\"))\n",
    "                            display(Latex(r\"$\\Huge \\; \\; \\; \\;\\; \\; \\; \\; \\; \\; \\; \\; \\; \\; \\; \\; \\; \\; \\; \\uparrow$\"))\n",
    "                            display(Latex(r\"$ \\Large \\text{what does the right side reduce to?}$\"))\n",
    "                \n",
    "        #for division\n",
    "            if step == \"b\":\n",
    "                \n",
    "                #if the coefficient to x is not 1\n",
    "                display(Latex(r\"$\\Large \\text{Ok what do you want to divide by? }$\"))\n",
    "                \n",
    "                display(Latex(r\"$\\Huge \\begin{align} \\frac{\"+str(a)+r\"x}{\\color{blue}{?}} & = \"+r\"\\frac{\"+reducright+r\"}{\\color{blue}{?}} \\end{align}$\"))\n",
    "                \n",
    "                correct = False\n",
    "                while correct == False:\n",
    "\n",
    "                    div = str(input())\n",
    "\n",
    "\n",
    "                    if div == str(a) or div == str(\"-1\"+str(-1*a)):\n",
    "                        correct = True\n",
    "                        display(Latex(r\"$\\Large \\color{green}{Good!}$\"))\n",
    "\n",
    "                    else:\n",
    "                        display(Latex(r\"$\\Large \\text{try again! }$\"))\n",
    "                        display(Latex(r\"$\\Huge \\begin{align} \\frac{\"+str(a)+r\"x}{\\color{blue}{?}} & = \"+r\"\\frac{\"+reducright+r\"}{\\color{blue}{?}} \\end{align}$\"))\n",
    "                        display(Latex(r\"$\\Large \\text{***Hint we are trying to cancel the coefficient in front of the x}$\"))\n",
    "\n",
    "                #asks how to reduce the left hand side\n",
    "                input()\n",
    "                \n",
    "                \n",
    "                display(Latex(r\"$\\Huge \\begin{align} \\frac{\"+str(a)+r\"x}{\"+str(a)+r\"} & = \"+r\"\\frac{\"+reducright+r\"}{\"+str(a)+r\"} \\end{align}$\"))\n",
    "                ###display(Latex(r\"$\\Huge \\begin{align}\"+r\"\\frac{1}{\"+str(a)+\"}*\" +str(a)+r\"x & =\"+r\"\\frac{1}{\"+str(a)+r\"}*\"+reducright + r\"\\end{align}$\"))\n",
    "                display(Latex(r\"$\\Huge \\; \\; \\; \\uparrow$\"))\n",
    "                display(Latex(r\"$\\text{what does the left side reduce to?}$\"))\n",
    "\n",
    "                #checking for reduced left side answer\n",
    "\n",
    "                correct = False\n",
    "                while correct == False:\n",
    "                    div = str(input())\n",
    "                    if div == \"x\" or div == \"1x\":\n",
    "                        correct = True\n",
    "                        display(Latex(r\"$\\Large \\color{green}{Good!}$\")) \n",
    "                    else:\n",
    "                        display(Latex(r\"$\\Large \\text{Try again!}$\"))  \n",
    "                        display(Latex(r\"$\\Huge \\begin{align} \\frac{\"+str(a)+r\"x}{\"+str(a)+r\"} & = \"+r\"\\frac{\"+reducright+r\"}{\"+str(a)+r\"} \\end{align}$\"))\n",
    "                        display(Latex(r\"$\\Huge \\; \\; \\; \\uparrow$\"))\n",
    "                        display(Latex(r\"$\\text{what does the left side reduce to?}$\"))\n",
    "                        display(Latex(r\"$\\Large \\text{**Hint what happens when the numerator and denominator of fraction are the same? Something cancels}$\"))\n",
    "\n",
    "                #asks how to reduce the right hand side\n",
    "\n",
    "                display(Latex(r\"$\\Huge \\begin{align} x & =\"+r\"\\frac{\"+reducright+r\"}{\"+str(a)+r\"}\\end{align}$\"))\n",
    "                display(Latex(r\"$\\Huge \\; \\; \\; \\; \\; \\;\\; \\; \\; \\; \\; \\; \\; \\; \\; \\; \\; \\; \\; \\; \\; \\; \\; \\; \\uparrow$\"))\n",
    "                display(Latex(r\"$\\text{what does the right side reduce to?}$\"))\n",
    "\n",
    "                #if the answer is a whole number\n",
    "                if (int(reducright) % int(a)) == 0:\n",
    "                    display(Latex(r\"$\\text{It as a whole number}$\"))\n",
    "                #if the answer is a fraction\n",
    "                else:\n",
    "                    display(Latex(r\"$\\text{It will be a fraction!}$\"))\n",
    "\n",
    "                #checking for reduced right side answer\n",
    "                correct = False\n",
    "\n",
    "                #wait for correct answers (fractional or whole number)\n",
    "                while correct == False:\n",
    "                    #if answer whole number\n",
    "                    if (int(reducright) % int(a)) == 0:\n",
    "                        rightside = int(input())\n",
    "                        #if they got it correct\n",
    "                        if rightside == int(int(reducright)/int(a)):\n",
    "                            display(Latex(r\"$\\Large \\color{green}{Good!}$\"))\n",
    "                            display(Latex(r\"$\\Huge x =\"+str(int(int(reducright)/int(a)))+r\"$\"))\n",
    "                            display(Latex(r\"$\\Large \\text{ is the solution! }$\"))\n",
    "                            display(Latex(r\"$\\Large \\text{Lets try another problem! }$\"))\n",
    "                            input()\n",
    "                            correct = True\n",
    "                        #if they got it wrong\n",
    "                        else:\n",
    "                            display(Latex(r\"$\\Large \\text{Try again!}$\"))\n",
    "                            display(Latex(r\"$\\Huge \\begin{align} x & =\"+r\"\\frac{\"+reducright+r\"}{\"+str(a)+r\"}\\end{align}$\"))\n",
    "                            display(Latex(r\"$\\Huge \\; \\; \\; \\; \\; \\;\\; \\; \\; \\; \\; \\; \\; \\; \\; \\; \\; \\; \\; \\; \\; \\; \\; \\; \\uparrow$\"))\n",
    "                            display(Latex(r\"$\\text{what does the right side reduce to?}$\"))\n",
    "                    #if the answer is a fraction\n",
    "                    else:\n",
    "                        rightside = input()\n",
    "\n",
    "                        #if they got it correct\n",
    "                        if convert_to_float(rightside) == float(int(reducright)/int(a)): \n",
    "                            display(Latex(r\"$\\Large \\color{green}{Good!}$\"))\n",
    "                            correct = True\n",
    "                            display(Latex(r\"$\\Huge \\begin{align} x & =\"+r\"\\frac{\"+reducright+r\"}{\"+str(a)+r\"} \\end{align}$\"))\n",
    "                            display(Latex(r\"$\\Large \\text{is the solution! }$\"))\n",
    "                            display(Latex(r\"$\\Large \\text{Lets try another problem! }$\"))\n",
    "                            input()\n",
    "\n",
    "                        #if they got it incorrect\n",
    "                        else:\n",
    "                            display(Latex(r\"$\\Large \\text{Try again!}$\"))\n",
    "                            display(Latex(r\"$\\Huge \\begin{align} x & =\"+r\"(\\frac{1}{\"+str(a)+r\"})*\"+reducright + r\"\\end{align} $\"))\n",
    "                            display(Latex(r\"$\\Huge \\; \\; \\; \\;\\; \\; \\; \\; \\; \\; \\; \\; \\; \\; \\; \\; \\; \\; \\; \\uparrow$\"))\n",
    "                            display(Latex(r\"$ \\Large \\text{what does the right side reduce to?}$\"))\n",
    "    if \"c\" in step:\n",
    "        pass\n",
    "    if \"d\" in step:\n",
    "        pass\n",
    "        "
   ],
   "outputs": [
    {
     "output_type": "display_data",
     "data": {
      "text/latex": [
       "$ \\Huge9x+7 = 2$"
      ],
      "text/plain": [
       "<IPython.core.display.Latex object>"
      ]
     },
     "metadata": {}
    },
    {
     "output_type": "display_data",
     "data": {
      "text/latex": [
       "$ \\Large \\text{What do you want to do?} $"
      ],
      "text/plain": [
       "<IPython.core.display.Latex object>"
      ]
     },
     "metadata": {}
    },
    {
     "output_type": "display_data",
     "data": {
      "text/latex": [
       "$ \\Large \\text{a) add} $"
      ],
      "text/plain": [
       "<IPython.core.display.Latex object>"
      ]
     },
     "metadata": {}
    },
    {
     "output_type": "display_data",
     "data": {
      "text/latex": [
       "$ \\Large \\text{b) subtract} $"
      ],
      "text/plain": [
       "<IPython.core.display.Latex object>"
      ]
     },
     "metadata": {}
    },
    {
     "output_type": "display_data",
     "data": {
      "text/latex": [
       "$ \\Large \\text{c) multiply} $"
      ],
      "text/plain": [
       "<IPython.core.display.Latex object>"
      ]
     },
     "metadata": {}
    },
    {
     "output_type": "display_data",
     "data": {
      "text/latex": [
       "$ \\Large \\text{d) divide} $"
      ],
      "text/plain": [
       "<IPython.core.display.Latex object>"
      ]
     },
     "metadata": {}
    },
    {
     "output_type": "stream",
     "name": "stdout",
     "text": [
      "a\n"
     ]
    },
    {
     "output_type": "display_data",
     "data": {
      "text/latex": [
       "$ \\Large \\text{ok what do you want to add to  both sides?} $"
      ],
      "text/plain": [
       "<IPython.core.display.Latex object>"
      ]
     },
     "metadata": {}
    },
    {
     "output_type": "display_data",
     "data": {
      "text/latex": [
       "$\\Huge \\begin{align}9x + 7& =2\\\\ \\color{blue}{+?} & \\color{white}=  \\color{blue}{+?}  \\end{align}$"
      ],
      "text/plain": [
       "<IPython.core.display.Latex object>"
      ]
     },
     "metadata": {}
    },
    {
     "output_type": "stream",
     "name": "stdout",
     "text": [
      "-7\n"
     ]
    },
    {
     "output_type": "display_data",
     "data": {
      "text/latex": [
       "$\\Huge \\color{green}{Good!}$"
      ],
      "text/plain": [
       "<IPython.core.display.Latex object>"
      ]
     },
     "metadata": {}
    },
    {
     "output_type": "display_data",
     "data": {
      "text/latex": [
       "$\\Huge \\begin{align}9x + 7& =2 \\\\ \\color{blue}{+-7} & \\color{white}=  \\color{blue}{+-7}  \\end{align}$"
      ],
      "text/plain": [
       "<IPython.core.display.Latex object>"
      ]
     },
     "metadata": {}
    },
    {
     "output_type": "display_data",
     "data": {
      "text/latex": [
       "$\\Huge \\ \\ \\uparrow$"
      ],
      "text/plain": [
       "<IPython.core.display.Latex object>"
      ]
     },
     "metadata": {}
    },
    {
     "output_type": "display_data",
     "data": {
      "text/latex": [
       "$\\Large \\text{What does the left side reduce to?}$"
      ],
      "text/plain": [
       "<IPython.core.display.Latex object>"
      ]
     },
     "metadata": {}
    },
    {
     "output_type": "stream",
     "name": "stdout",
     "text": [
      "9x+1\n"
     ]
    },
    {
     "output_type": "display_data",
     "data": {
      "text/latex": [
       "$\\Huge \\text{Try again}$"
      ],
      "text/plain": [
       "<IPython.core.display.Latex object>"
      ]
     },
     "metadata": {}
    },
    {
     "output_type": "display_data",
     "data": {
      "text/latex": [
       "$\\Huge \\begin{align}9x + 7& =2 \\\\ \\color{blue}{+-7} & \\color{white}=  \\color{blue}{+-7}  \\end{align}$"
      ],
      "text/plain": [
       "<IPython.core.display.Latex object>"
      ]
     },
     "metadata": {}
    },
    {
     "output_type": "display_data",
     "data": {
      "text/latex": [
       "$\\Huge \\ \\ \\uparrow$"
      ],
      "text/plain": [
       "<IPython.core.display.Latex object>"
      ]
     },
     "metadata": {}
    },
    {
     "output_type": "display_data",
     "data": {
      "text/latex": [
       "$\\Large \\text{What does the left side reduce to?}$"
      ],
      "text/plain": [
       "<IPython.core.display.Latex object>"
      ]
     },
     "metadata": {}
    },
    {
     "output_type": "stream",
     "name": "stdout",
     "text": [
      "9x\n"
     ]
    },
    {
     "output_type": "display_data",
     "data": {
      "text/latex": [
       "$\\Huge \\color{green}{Good!}$"
      ],
      "text/plain": [
       "<IPython.core.display.Latex object>"
      ]
     },
     "metadata": {}
    },
    {
     "output_type": "display_data",
     "data": {
      "text/latex": [
       "$\\Huge \\begin{align}9x & =2 \\\\ \\color{white}{+-7} & \\color{white}=  \\color{blue}{+-7}  \\end{align}$"
      ],
      "text/plain": [
       "<IPython.core.display.Latex object>"
      ]
     },
     "metadata": {}
    },
    {
     "output_type": "display_data",
     "data": {
      "text/latex": [
       "$\\Huge  \\; \\; \\; \\; \\; \\; \\; \\; \\; \\; \\; \\; \\; \\; \\; \\; \\; \\; \\; \\; \\; \\; \\; \\;\\uparrow$"
      ],
      "text/plain": [
       "<IPython.core.display.Latex object>"
      ]
     },
     "metadata": {}
    },
    {
     "output_type": "display_data",
     "data": {
      "text/latex": [
       "$\\Large \\text{What does the right side reduce to?}$"
      ],
      "text/plain": [
       "<IPython.core.display.Latex object>"
      ]
     },
     "metadata": {}
    },
    {
     "output_type": "stream",
     "name": "stdout",
     "text": [
      "1\n"
     ]
    },
    {
     "output_type": "display_data",
     "data": {
      "text/latex": [
       "$\\Huge \\text{Try again}$"
      ],
      "text/plain": [
       "<IPython.core.display.Latex object>"
      ]
     },
     "metadata": {}
    },
    {
     "output_type": "display_data",
     "data": {
      "text/latex": [
       "$\\Huge \\begin{align}9x & =2 \\\\ \\color{white}{+-7} & \\color{white}=  \\color{blue}{+-7}  \\end{align}$"
      ],
      "text/plain": [
       "<IPython.core.display.Latex object>"
      ]
     },
     "metadata": {}
    },
    {
     "output_type": "display_data",
     "data": {
      "text/latex": [
       "$\\Huge  \\; \\; \\; \\; \\; \\; \\; \\; \\; \\; \\; \\; \\; \\; \\; \\; \\; \\; \\; \\; \\; \\; \\; \\;\\uparrow$"
      ],
      "text/plain": [
       "<IPython.core.display.Latex object>"
      ]
     },
     "metadata": {}
    },
    {
     "output_type": "display_data",
     "data": {
      "text/latex": [
       "$\\Large \\text{What does the right side reduce to?}$"
      ],
      "text/plain": [
       "<IPython.core.display.Latex object>"
      ]
     },
     "metadata": {}
    },
    {
     "output_type": "stream",
     "name": "stdout",
     "text": [
      "-5\n"
     ]
    },
    {
     "output_type": "display_data",
     "data": {
      "text/latex": [
       "$\\Huge \\color{green}{Good!}$"
      ],
      "text/plain": [
       "<IPython.core.display.Latex object>"
      ]
     },
     "metadata": {}
    },
    {
     "output_type": "display_data",
     "data": {
      "text/latex": [
       "$\\Huge \\begin{align}9x & =-5 \\end{align}$"
      ],
      "text/plain": [
       "<IPython.core.display.Latex object>"
      ]
     },
     "metadata": {}
    },
    {
     "output_type": "display_data",
     "data": {
      "text/latex": [
       "$\\Large \\text{Ok what do you want to do next? }$"
      ],
      "text/plain": [
       "<IPython.core.display.Latex object>"
      ]
     },
     "metadata": {}
    },
    {
     "output_type": "display_data",
     "data": {
      "text/latex": [
       "$ \\Large \\text{a) multiply} $"
      ],
      "text/plain": [
       "<IPython.core.display.Latex object>"
      ]
     },
     "metadata": {}
    },
    {
     "output_type": "display_data",
     "data": {
      "text/latex": [
       "$ \\Large \\text{b) divide} $"
      ],
      "text/plain": [
       "<IPython.core.display.Latex object>"
      ]
     },
     "metadata": {}
    },
    {
     "output_type": "stream",
     "name": "stdout",
     "text": [
      "a\n"
     ]
    },
    {
     "output_type": "display_data",
     "data": {
      "text/latex": [
       "$\\Large \\text{Ok what do you want to multiply by? }$"
      ],
      "text/plain": [
       "<IPython.core.display.Latex object>"
      ]
     },
     "metadata": {}
    },
    {
     "output_type": "display_data",
     "data": {
      "text/latex": [
       "$\\Huge \\begin{align}\\color{blue}{?}*9x & =\\color{blue}{?}*-5 \\end{align}$"
      ],
      "text/plain": [
       "<IPython.core.display.Latex object>"
      ]
     },
     "metadata": {}
    },
    {
     "output_type": "stream",
     "name": "stdout",
     "text": [
      "-1/9\n"
     ]
    },
    {
     "output_type": "display_data",
     "data": {
      "text/latex": [
       "$\\Large \\text{try again! }$"
      ],
      "text/plain": [
       "<IPython.core.display.Latex object>"
      ]
     },
     "metadata": {}
    },
    {
     "output_type": "display_data",
     "data": {
      "text/latex": [
       "$\\Huge \\begin{align}\\color{blue}{?}*9x & =\\color{blue}{?}*-5 \\end{align}$"
      ],
      "text/plain": [
       "<IPython.core.display.Latex object>"
      ]
     },
     "metadata": {}
    },
    {
     "output_type": "display_data",
     "data": {
      "text/latex": [
       "$ \\text{***Hint we are trying to cancel the coefficient in front of the x}$"
      ],
      "text/plain": [
       "<IPython.core.display.Latex object>"
      ]
     },
     "metadata": {}
    },
    {
     "output_type": "stream",
     "name": "stdout",
     "text": [
      "1/9\n"
     ]
    },
    {
     "output_type": "display_data",
     "data": {
      "text/latex": [
       "$\\Large \\color{green}{Good!}$"
      ],
      "text/plain": [
       "<IPython.core.display.Latex object>"
      ]
     },
     "metadata": {}
    },
    {
     "output_type": "stream",
     "name": "stdout",
     "text": [
      "\n"
     ]
    },
    {
     "output_type": "display_data",
     "data": {
      "text/latex": [
       "$\\Huge \\begin{align}\\frac{1}{9}*9x & =\\frac{1}{9}*-5\\end{align}$"
      ],
      "text/plain": [
       "<IPython.core.display.Latex object>"
      ]
     },
     "metadata": {}
    },
    {
     "output_type": "display_data",
     "data": {
      "text/latex": [
       "$\\Huge \\; \\; \\; \\uparrow$"
      ],
      "text/plain": [
       "<IPython.core.display.Latex object>"
      ]
     },
     "metadata": {}
    },
    {
     "output_type": "display_data",
     "data": {
      "text/latex": [
       "$\\text{what does the left side reduce to?}$"
      ],
      "text/plain": [
       "<IPython.core.display.Latex object>"
      ]
     },
     "metadata": {}
    },
    {
     "output_type": "stream",
     "name": "stdout",
     "text": [
      "1/1x\n"
     ]
    },
    {
     "output_type": "display_data",
     "data": {
      "text/latex": [
       "$\\Large \\text{Try again!}$"
      ],
      "text/plain": [
       "<IPython.core.display.Latex object>"
      ]
     },
     "metadata": {}
    },
    {
     "output_type": "display_data",
     "data": {
      "text/latex": [
       "$\\Huge \\begin{align}\\frac{1}{9}*9x & =\\frac{1}{9}*-5\\end{align}$"
      ],
      "text/plain": [
       "<IPython.core.display.Latex object>"
      ]
     },
     "metadata": {}
    },
    {
     "output_type": "display_data",
     "data": {
      "text/latex": [
       "$ \\text{**Hint what happens when the numerator and denominator of fraction are the same? Something cancels}$"
      ],
      "text/plain": [
       "<IPython.core.display.Latex object>"
      ]
     },
     "metadata": {}
    },
    {
     "output_type": "stream",
     "name": "stdout",
     "text": [
      "x\n"
     ]
    },
    {
     "output_type": "display_data",
     "data": {
      "text/latex": [
       "$\\Large \\color{green}{Good!}$"
      ],
      "text/plain": [
       "<IPython.core.display.Latex object>"
      ]
     },
     "metadata": {}
    },
    {
     "output_type": "display_data",
     "data": {
      "text/latex": [
       "$\\Huge \\begin{align} x & =\\frac{1}{9}*-5\\end{align}$"
      ],
      "text/plain": [
       "<IPython.core.display.Latex object>"
      ]
     },
     "metadata": {}
    },
    {
     "output_type": "display_data",
     "data": {
      "text/latex": [
       "$\\Huge \\; \\; \\; \\; \\; \\; \\; \\; \\; \\; \\; \\; \\; \\; \\; \\uparrow$"
      ],
      "text/plain": [
       "<IPython.core.display.Latex object>"
      ]
     },
     "metadata": {}
    },
    {
     "output_type": "display_data",
     "data": {
      "text/latex": [
       "$\\text{what does the right side reduce to?}$"
      ],
      "text/plain": [
       "<IPython.core.display.Latex object>"
      ]
     },
     "metadata": {}
    },
    {
     "output_type": "display_data",
     "data": {
      "text/latex": [
       "$\\text{It will be a fraction!}$"
      ],
      "text/plain": [
       "<IPython.core.display.Latex object>"
      ]
     },
     "metadata": {}
    },
    {
     "output_type": "stream",
     "name": "stdout",
     "text": [
      "-5/9\n"
     ]
    },
    {
     "output_type": "display_data",
     "data": {
      "text/latex": [
       "$\\Large \\color{green}{Good!}$"
      ],
      "text/plain": [
       "<IPython.core.display.Latex object>"
      ]
     },
     "metadata": {}
    },
    {
     "output_type": "display_data",
     "data": {
      "text/latex": [
       "$\\Huge \\begin{align} x & =\\frac{-5}{9} \\end{align}$"
      ],
      "text/plain": [
       "<IPython.core.display.Latex object>"
      ]
     },
     "metadata": {}
    },
    {
     "output_type": "display_data",
     "data": {
      "text/latex": [
       "$\\Large \\text{is the solution! }$"
      ],
      "text/plain": [
       "<IPython.core.display.Latex object>"
      ]
     },
     "metadata": {}
    },
    {
     "output_type": "display_data",
     "data": {
      "text/latex": [
       "$\\Large \\text{Lets try another problem! }$"
      ],
      "text/plain": [
       "<IPython.core.display.Latex object>"
      ]
     },
     "metadata": {}
    },
    {
     "output_type": "stream",
     "name": "stdout",
     "text": [
      "\n"
     ]
    },
    {
     "output_type": "display_data",
     "data": {
      "text/latex": [
       "$ \\Huge6x+6 = 5$"
      ],
      "text/plain": [
       "<IPython.core.display.Latex object>"
      ]
     },
     "metadata": {}
    },
    {
     "output_type": "display_data",
     "data": {
      "text/latex": [
       "$ \\Large \\text{What do you want to do?} $"
      ],
      "text/plain": [
       "<IPython.core.display.Latex object>"
      ]
     },
     "metadata": {}
    },
    {
     "output_type": "display_data",
     "data": {
      "text/latex": [
       "$ \\Large \\text{a) add} $"
      ],
      "text/plain": [
       "<IPython.core.display.Latex object>"
      ]
     },
     "metadata": {}
    },
    {
     "output_type": "display_data",
     "data": {
      "text/latex": [
       "$ \\Large \\text{b) subtract} $"
      ],
      "text/plain": [
       "<IPython.core.display.Latex object>"
      ]
     },
     "metadata": {}
    },
    {
     "output_type": "display_data",
     "data": {
      "text/latex": [
       "$ \\Large \\text{c) multiply} $"
      ],
      "text/plain": [
       "<IPython.core.display.Latex object>"
      ]
     },
     "metadata": {}
    },
    {
     "output_type": "display_data",
     "data": {
      "text/latex": [
       "$ \\Large \\text{d) divide} $"
      ],
      "text/plain": [
       "<IPython.core.display.Latex object>"
      ]
     },
     "metadata": {}
    },
    {
     "output_type": "stream",
     "name": "stdout",
     "text": [
      "b\n"
     ]
    },
    {
     "output_type": "display_data",
     "data": {
      "text/latex": [
       "$ \\Large \\text{ok what do you want to subtract from both sides?} $"
      ],
      "text/plain": [
       "<IPython.core.display.Latex object>"
      ]
     },
     "metadata": {}
    },
    {
     "output_type": "display_data",
     "data": {
      "text/latex": [
       "$\\Huge \\begin{align}6x + 6& =5\\\\ \\color{blue}{-?} & \\color{white}=  \\color{blue}{-?}  \\end{align}$"
      ],
      "text/plain": [
       "<IPython.core.display.Latex object>"
      ]
     },
     "metadata": {}
    },
    {
     "output_type": "stream",
     "name": "stdout",
     "text": [
      "6\n"
     ]
    },
    {
     "output_type": "display_data",
     "data": {
      "text/latex": [
       "$\\Huge \\color{green}{Good!}$"
      ],
      "text/plain": [
       "<IPython.core.display.Latex object>"
      ]
     },
     "metadata": {}
    },
    {
     "output_type": "display_data",
     "data": {
      "text/latex": [
       "$\\Huge \\begin{align}6x + 6& =5 \\\\ \\color{blue}{-6} & \\color{white}=  \\color{blue}{-6}  \\end{align}$"
      ],
      "text/plain": [
       "<IPython.core.display.Latex object>"
      ]
     },
     "metadata": {}
    },
    {
     "output_type": "display_data",
     "data": {
      "text/latex": [
       "$\\Huge \\ \\ \\uparrow$"
      ],
      "text/plain": [
       "<IPython.core.display.Latex object>"
      ]
     },
     "metadata": {}
    },
    {
     "output_type": "display_data",
     "data": {
      "text/latex": [
       "$\\Large \\text{What does the left side reduce to?}$"
      ],
      "text/plain": [
       "<IPython.core.display.Latex object>"
      ]
     },
     "metadata": {}
    },
    {
     "output_type": "stream",
     "name": "stdout",
     "text": [
      "7x\n"
     ]
    },
    {
     "output_type": "display_data",
     "data": {
      "text/latex": [
       "$\\Huge \\text{Try again}$"
      ],
      "text/plain": [
       "<IPython.core.display.Latex object>"
      ]
     },
     "metadata": {}
    },
    {
     "output_type": "display_data",
     "data": {
      "text/latex": [
       "$\\Huge \\begin{align}6x + 6& =5 \\\\ \\color{blue}{-6} & \\color{white}=  \\color{blue}{-6}  \\end{align}$"
      ],
      "text/plain": [
       "<IPython.core.display.Latex object>"
      ]
     },
     "metadata": {}
    },
    {
     "output_type": "display_data",
     "data": {
      "text/latex": [
       "$\\Huge \\ \\ \\uparrow$"
      ],
      "text/plain": [
       "<IPython.core.display.Latex object>"
      ]
     },
     "metadata": {}
    },
    {
     "output_type": "display_data",
     "data": {
      "text/latex": [
       "$\\Large \\text{What does the left side reduce to?}$"
      ],
      "text/plain": [
       "<IPython.core.display.Latex object>"
      ]
     },
     "metadata": {}
    },
    {
     "output_type": "stream",
     "name": "stdout",
     "text": [
      "6x\n"
     ]
    },
    {
     "output_type": "display_data",
     "data": {
      "text/latex": [
       "$\\Huge \\color{green}{Good!}$"
      ],
      "text/plain": [
       "<IPython.core.display.Latex object>"
      ]
     },
     "metadata": {}
    },
    {
     "output_type": "display_data",
     "data": {
      "text/latex": [
       "$\\Huge \\begin{align}6x & =5 \\\\ \\color{white}{-6} & \\color{white}=  \\color{blue}{-6}  \\end{align}$"
      ],
      "text/plain": [
       "<IPython.core.display.Latex object>"
      ]
     },
     "metadata": {}
    },
    {
     "output_type": "display_data",
     "data": {
      "text/latex": [
       "$\\Huge  \\; \\; \\; \\; \\; \\; \\; \\; \\; \\; \\; \\; \\; \\; \\; \\; \\; \\; \\; \\; \\; \\; \\; \\;\\uparrow$"
      ],
      "text/plain": [
       "<IPython.core.display.Latex object>"
      ]
     },
     "metadata": {}
    },
    {
     "output_type": "display_data",
     "data": {
      "text/latex": [
       "$\\Large \\text{What does the right side reduce to?}$"
      ],
      "text/plain": [
       "<IPython.core.display.Latex object>"
      ]
     },
     "metadata": {}
    },
    {
     "output_type": "stream",
     "name": "stdout",
     "text": [
      "-2\n"
     ]
    },
    {
     "output_type": "display_data",
     "data": {
      "text/latex": [
       "$\\Huge \\text{Try again}$"
      ],
      "text/plain": [
       "<IPython.core.display.Latex object>"
      ]
     },
     "metadata": {}
    },
    {
     "output_type": "display_data",
     "data": {
      "text/latex": [
       "$\\Huge \\begin{align}6x & =5 \\\\ \\color{white}{-6} & \\color{white}=  \\color{blue}{-6}  \\end{align}$"
      ],
      "text/plain": [
       "<IPython.core.display.Latex object>"
      ]
     },
     "metadata": {}
    },
    {
     "output_type": "display_data",
     "data": {
      "text/latex": [
       "$\\Huge  \\; \\; \\; \\; \\; \\; \\; \\; \\; \\; \\; \\; \\; \\; \\; \\; \\; \\; \\; \\; \\; \\; \\; \\;\\uparrow$"
      ],
      "text/plain": [
       "<IPython.core.display.Latex object>"
      ]
     },
     "metadata": {}
    },
    {
     "output_type": "display_data",
     "data": {
      "text/latex": [
       "$\\Large \\text{What does the right side reduce to?}$"
      ],
      "text/plain": [
       "<IPython.core.display.Latex object>"
      ]
     },
     "metadata": {}
    },
    {
     "output_type": "stream",
     "name": "stdout",
     "text": [
      "-4\n"
     ]
    },
    {
     "output_type": "display_data",
     "data": {
      "text/latex": [
       "$\\Huge \\text{Try again}$"
      ],
      "text/plain": [
       "<IPython.core.display.Latex object>"
      ]
     },
     "metadata": {}
    },
    {
     "output_type": "display_data",
     "data": {
      "text/latex": [
       "$\\Huge \\begin{align}6x & =5 \\\\ \\color{white}{-6} & \\color{white}=  \\color{blue}{-6}  \\end{align}$"
      ],
      "text/plain": [
       "<IPython.core.display.Latex object>"
      ]
     },
     "metadata": {}
    },
    {
     "output_type": "display_data",
     "data": {
      "text/latex": [
       "$\\Huge  \\; \\; \\; \\; \\; \\; \\; \\; \\; \\; \\; \\; \\; \\; \\; \\; \\; \\; \\; \\; \\; \\; \\; \\;\\uparrow$"
      ],
      "text/plain": [
       "<IPython.core.display.Latex object>"
      ]
     },
     "metadata": {}
    },
    {
     "output_type": "display_data",
     "data": {
      "text/latex": [
       "$\\Large \\text{What does the right side reduce to?}$"
      ],
      "text/plain": [
       "<IPython.core.display.Latex object>"
      ]
     },
     "metadata": {}
    },
    {
     "output_type": "stream",
     "name": "stdout",
     "text": [
      "-1\n"
     ]
    },
    {
     "output_type": "display_data",
     "data": {
      "text/latex": [
       "$\\Huge \\color{green}{Good!}$"
      ],
      "text/plain": [
       "<IPython.core.display.Latex object>"
      ]
     },
     "metadata": {}
    },
    {
     "output_type": "display_data",
     "data": {
      "text/latex": [
       "$\\Huge \\begin{align}6x & =-1 \\end{align}$"
      ],
      "text/plain": [
       "<IPython.core.display.Latex object>"
      ]
     },
     "metadata": {}
    },
    {
     "output_type": "display_data",
     "data": {
      "text/latex": [
       "$\\Large \\text{Ok what do you want to do next? }$"
      ],
      "text/plain": [
       "<IPython.core.display.Latex object>"
      ]
     },
     "metadata": {}
    },
    {
     "output_type": "display_data",
     "data": {
      "text/latex": [
       "$ \\Large \\text{a) multiply} $"
      ],
      "text/plain": [
       "<IPython.core.display.Latex object>"
      ]
     },
     "metadata": {}
    },
    {
     "output_type": "display_data",
     "data": {
      "text/latex": [
       "$ \\Large \\text{b) divide} $"
      ],
      "text/plain": [
       "<IPython.core.display.Latex object>"
      ]
     },
     "metadata": {}
    },
    {
     "output_type": "stream",
     "name": "stdout",
     "text": [
      "a\n"
     ]
    },
    {
     "output_type": "display_data",
     "data": {
      "text/latex": [
       "$\\Large \\text{Ok what do you want to multiply by? }$"
      ],
      "text/plain": [
       "<IPython.core.display.Latex object>"
      ]
     },
     "metadata": {}
    },
    {
     "output_type": "display_data",
     "data": {
      "text/latex": [
       "$\\Huge \\begin{align}\\color{blue}{?}*6x & =\\color{blue}{?}*-1 \\end{align}$"
      ],
      "text/plain": [
       "<IPython.core.display.Latex object>"
      ]
     },
     "metadata": {}
    },
    {
     "output_type": "stream",
     "name": "stdout",
     "text": [
      "1/6\n"
     ]
    },
    {
     "output_type": "display_data",
     "data": {
      "text/latex": [
       "$\\Large \\color{green}{Good!}$"
      ],
      "text/plain": [
       "<IPython.core.display.Latex object>"
      ]
     },
     "metadata": {}
    },
    {
     "output_type": "stream",
     "name": "stdout",
     "text": [
      "\n"
     ]
    },
    {
     "output_type": "display_data",
     "data": {
      "text/latex": [
       "$\\Huge \\begin{align}\\frac{1}{6}*6x & =\\frac{1}{6}*-1\\end{align}$"
      ],
      "text/plain": [
       "<IPython.core.display.Latex object>"
      ]
     },
     "metadata": {}
    },
    {
     "output_type": "display_data",
     "data": {
      "text/latex": [
       "$\\Huge \\; \\; \\; \\uparrow$"
      ],
      "text/plain": [
       "<IPython.core.display.Latex object>"
      ]
     },
     "metadata": {}
    },
    {
     "output_type": "display_data",
     "data": {
      "text/latex": [
       "$\\text{what does the left side reduce to?}$"
      ],
      "text/plain": [
       "<IPython.core.display.Latex object>"
      ]
     },
     "metadata": {}
    },
    {
     "output_type": "stream",
     "name": "stdout",
     "text": [
      "x\n"
     ]
    },
    {
     "output_type": "display_data",
     "data": {
      "text/latex": [
       "$\\Large \\color{green}{Good!}$"
      ],
      "text/plain": [
       "<IPython.core.display.Latex object>"
      ]
     },
     "metadata": {}
    },
    {
     "output_type": "display_data",
     "data": {
      "text/latex": [
       "$\\Huge \\begin{align} x & =\\frac{1}{6}*-1\\end{align}$"
      ],
      "text/plain": [
       "<IPython.core.display.Latex object>"
      ]
     },
     "metadata": {}
    },
    {
     "output_type": "display_data",
     "data": {
      "text/latex": [
       "$\\Huge \\; \\; \\; \\; \\; \\; \\; \\; \\; \\; \\; \\; \\; \\; \\; \\uparrow$"
      ],
      "text/plain": [
       "<IPython.core.display.Latex object>"
      ]
     },
     "metadata": {}
    },
    {
     "output_type": "display_data",
     "data": {
      "text/latex": [
       "$\\text{what does the right side reduce to?}$"
      ],
      "text/plain": [
       "<IPython.core.display.Latex object>"
      ]
     },
     "metadata": {}
    },
    {
     "output_type": "display_data",
     "data": {
      "text/latex": [
       "$\\text{It will be a fraction!}$"
      ],
      "text/plain": [
       "<IPython.core.display.Latex object>"
      ]
     },
     "metadata": {}
    },
    {
     "output_type": "stream",
     "name": "stdout",
     "text": [
      "1/-6\n"
     ]
    },
    {
     "output_type": "display_data",
     "data": {
      "text/latex": [
       "$\\Large \\color{green}{Good!}$"
      ],
      "text/plain": [
       "<IPython.core.display.Latex object>"
      ]
     },
     "metadata": {}
    },
    {
     "output_type": "display_data",
     "data": {
      "text/latex": [
       "$\\Huge \\begin{align} x & =\\frac{-1}{6} \\end{align}$"
      ],
      "text/plain": [
       "<IPython.core.display.Latex object>"
      ]
     },
     "metadata": {}
    },
    {
     "output_type": "display_data",
     "data": {
      "text/latex": [
       "$\\Large \\text{is the solution! }$"
      ],
      "text/plain": [
       "<IPython.core.display.Latex object>"
      ]
     },
     "metadata": {}
    },
    {
     "output_type": "display_data",
     "data": {
      "text/latex": [
       "$\\Large \\text{Lets try another problem! }$"
      ],
      "text/plain": [
       "<IPython.core.display.Latex object>"
      ]
     },
     "metadata": {}
    },
    {
     "output_type": "stream",
     "name": "stdout",
     "text": [
      "\n"
     ]
    },
    {
     "output_type": "display_data",
     "data": {
      "text/latex": [
       "$ \\Huge7x+7 = 5$"
      ],
      "text/plain": [
       "<IPython.core.display.Latex object>"
      ]
     },
     "metadata": {}
    },
    {
     "output_type": "display_data",
     "data": {
      "text/latex": [
       "$ \\Large \\text{What do you want to do?} $"
      ],
      "text/plain": [
       "<IPython.core.display.Latex object>"
      ]
     },
     "metadata": {}
    },
    {
     "output_type": "display_data",
     "data": {
      "text/latex": [
       "$ \\Large \\text{a) add} $"
      ],
      "text/plain": [
       "<IPython.core.display.Latex object>"
      ]
     },
     "metadata": {}
    },
    {
     "output_type": "display_data",
     "data": {
      "text/latex": [
       "$ \\Large \\text{b) subtract} $"
      ],
      "text/plain": [
       "<IPython.core.display.Latex object>"
      ]
     },
     "metadata": {}
    },
    {
     "output_type": "display_data",
     "data": {
      "text/latex": [
       "$ \\Large \\text{c) multiply} $"
      ],
      "text/plain": [
       "<IPython.core.display.Latex object>"
      ]
     },
     "metadata": {}
    },
    {
     "output_type": "display_data",
     "data": {
      "text/latex": [
       "$ \\Large \\text{d) divide} $"
      ],
      "text/plain": [
       "<IPython.core.display.Latex object>"
      ]
     },
     "metadata": {}
    },
    {
     "output_type": "stream",
     "name": "stdout",
     "text": [
      "b\n"
     ]
    },
    {
     "output_type": "display_data",
     "data": {
      "text/latex": [
       "$ \\Large \\text{ok what do you want to subtract from both sides?} $"
      ],
      "text/plain": [
       "<IPython.core.display.Latex object>"
      ]
     },
     "metadata": {}
    },
    {
     "output_type": "display_data",
     "data": {
      "text/latex": [
       "$\\Huge \\begin{align}7x + 7& =5\\\\ \\color{blue}{-?} & \\color{white}=  \\color{blue}{-?}  \\end{align}$"
      ],
      "text/plain": [
       "<IPython.core.display.Latex object>"
      ]
     },
     "metadata": {}
    },
    {
     "output_type": "stream",
     "name": "stdout",
     "text": [
      "-7\n"
     ]
    },
    {
     "output_type": "display_data",
     "data": {
      "text/latex": [
       "$ \\Large \\text{Try again! Get rid of the terms furthest from the x} $"
      ],
      "text/plain": [
       "<IPython.core.display.Latex object>"
      ]
     },
     "metadata": {}
    },
    {
     "output_type": "display_data",
     "data": {
      "text/latex": [
       "$\\Huge \\begin{align}7x + 7& =5\\\\ \\color{blue}{-?} & \\color{white}=  \\color{blue}{-?}  \\end{align}$"
      ],
      "text/plain": [
       "<IPython.core.display.Latex object>"
      ]
     },
     "metadata": {}
    },
    {
     "output_type": "stream",
     "name": "stdout",
     "text": [
      "7\n"
     ]
    },
    {
     "output_type": "display_data",
     "data": {
      "text/latex": [
       "$\\Huge \\color{green}{Good!}$"
      ],
      "text/plain": [
       "<IPython.core.display.Latex object>"
      ]
     },
     "metadata": {}
    },
    {
     "output_type": "display_data",
     "data": {
      "text/latex": [
       "$\\Huge \\begin{align}7x + 7& =5 \\\\ \\color{blue}{-7} & \\color{white}=  \\color{blue}{-7}  \\end{align}$"
      ],
      "text/plain": [
       "<IPython.core.display.Latex object>"
      ]
     },
     "metadata": {}
    },
    {
     "output_type": "display_data",
     "data": {
      "text/latex": [
       "$\\Huge \\ \\ \\uparrow$"
      ],
      "text/plain": [
       "<IPython.core.display.Latex object>"
      ]
     },
     "metadata": {}
    },
    {
     "output_type": "display_data",
     "data": {
      "text/latex": [
       "$\\Large \\text{What does the left side reduce to?}$"
      ],
      "text/plain": [
       "<IPython.core.display.Latex object>"
      ]
     },
     "metadata": {}
    },
    {
     "output_type": "stream",
     "name": "stdout",
     "text": [
      "7x\n"
     ]
    },
    {
     "output_type": "display_data",
     "data": {
      "text/latex": [
       "$\\Huge \\color{green}{Good!}$"
      ],
      "text/plain": [
       "<IPython.core.display.Latex object>"
      ]
     },
     "metadata": {}
    },
    {
     "output_type": "display_data",
     "data": {
      "text/latex": [
       "$\\Huge \\begin{align}7x & =5 \\\\ \\color{white}{-7} & \\color{white}=  \\color{blue}{-7}  \\end{align}$"
      ],
      "text/plain": [
       "<IPython.core.display.Latex object>"
      ]
     },
     "metadata": {}
    },
    {
     "output_type": "display_data",
     "data": {
      "text/latex": [
       "$\\Huge  \\; \\; \\; \\; \\; \\; \\; \\; \\; \\; \\; \\; \\; \\; \\; \\; \\; \\; \\; \\; \\; \\; \\; \\;\\uparrow$"
      ],
      "text/plain": [
       "<IPython.core.display.Latex object>"
      ]
     },
     "metadata": {}
    },
    {
     "output_type": "display_data",
     "data": {
      "text/latex": [
       "$\\Large \\text{What does the right side reduce to?}$"
      ],
      "text/plain": [
       "<IPython.core.display.Latex object>"
      ]
     },
     "metadata": {}
    },
    {
     "output_type": "stream",
     "name": "stdout",
     "text": [
      "-2\n"
     ]
    },
    {
     "output_type": "display_data",
     "data": {
      "text/latex": [
       "$\\Huge \\color{green}{Good!}$"
      ],
      "text/plain": [
       "<IPython.core.display.Latex object>"
      ]
     },
     "metadata": {}
    },
    {
     "output_type": "display_data",
     "data": {
      "text/latex": [
       "$\\Huge \\begin{align}7x & =-2 \\end{align}$"
      ],
      "text/plain": [
       "<IPython.core.display.Latex object>"
      ]
     },
     "metadata": {}
    },
    {
     "output_type": "display_data",
     "data": {
      "text/latex": [
       "$\\Large \\text{Ok what do you want to do next? }$"
      ],
      "text/plain": [
       "<IPython.core.display.Latex object>"
      ]
     },
     "metadata": {}
    },
    {
     "output_type": "display_data",
     "data": {
      "text/latex": [
       "$ \\Large \\text{a) multiply} $"
      ],
      "text/plain": [
       "<IPython.core.display.Latex object>"
      ]
     },
     "metadata": {}
    },
    {
     "output_type": "display_data",
     "data": {
      "text/latex": [
       "$ \\Large \\text{b) divide} $"
      ],
      "text/plain": [
       "<IPython.core.display.Latex object>"
      ]
     },
     "metadata": {}
    },
    {
     "output_type": "stream",
     "name": "stdout",
     "text": [
      "b\n"
     ]
    },
    {
     "output_type": "display_data",
     "data": {
      "text/latex": [
       "$\\Large \\text{Ok what do you want to divide by? }$"
      ],
      "text/plain": [
       "<IPython.core.display.Latex object>"
      ]
     },
     "metadata": {}
    },
    {
     "output_type": "display_data",
     "data": {
      "text/latex": [
       "$\\Huge \\begin{align} \\frac{7x}{\\color{blue}{?}} & = \\frac{-2}{\\color{blue}{?}} \\end{align}$"
      ],
      "text/plain": [
       "<IPython.core.display.Latex object>"
      ]
     },
     "metadata": {}
    },
    {
     "output_type": "stream",
     "name": "stdout",
     "text": [
      "7\n"
     ]
    },
    {
     "output_type": "display_data",
     "data": {
      "text/latex": [
       "$\\Large \\color{green}{Good!}$"
      ],
      "text/plain": [
       "<IPython.core.display.Latex object>"
      ]
     },
     "metadata": {}
    },
    {
     "output_type": "stream",
     "name": "stdout",
     "text": [
      "\n"
     ]
    },
    {
     "output_type": "display_data",
     "data": {
      "text/latex": [
       "$\\Huge \\begin{align} \\frac{7x}{7} & = \\frac{-2}{7} \\end{align}$"
      ],
      "text/plain": [
       "<IPython.core.display.Latex object>"
      ]
     },
     "metadata": {}
    },
    {
     "output_type": "display_data",
     "data": {
      "text/latex": [
       "$\\Huge \\; \\; \\; \\uparrow$"
      ],
      "text/plain": [
       "<IPython.core.display.Latex object>"
      ]
     },
     "metadata": {}
    },
    {
     "output_type": "display_data",
     "data": {
      "text/latex": [
       "$\\text{what does the left side reduce to?}$"
      ],
      "text/plain": [
       "<IPython.core.display.Latex object>"
      ]
     },
     "metadata": {}
    },
    {
     "output_type": "stream",
     "name": "stdout",
     "text": [
      "x\n"
     ]
    },
    {
     "output_type": "display_data",
     "data": {
      "text/latex": [
       "$\\Large \\color{green}{Good!}$"
      ],
      "text/plain": [
       "<IPython.core.display.Latex object>"
      ]
     },
     "metadata": {}
    },
    {
     "output_type": "display_data",
     "data": {
      "text/latex": [
       "$\\Huge \\begin{align} x & =\\frac{-2}{7}\\end{align}$"
      ],
      "text/plain": [
       "<IPython.core.display.Latex object>"
      ]
     },
     "metadata": {}
    },
    {
     "output_type": "display_data",
     "data": {
      "text/latex": [
       "$\\Huge \\; \\; \\; \\; \\; \\;\\; \\; \\; \\; \\; \\; \\; \\; \\; \\; \\; \\; \\; \\; \\; \\; \\; \\; \\uparrow$"
      ],
      "text/plain": [
       "<IPython.core.display.Latex object>"
      ]
     },
     "metadata": {}
    },
    {
     "output_type": "display_data",
     "data": {
      "text/latex": [
       "$\\text{what does the right side reduce to?}$"
      ],
      "text/plain": [
       "<IPython.core.display.Latex object>"
      ]
     },
     "metadata": {}
    },
    {
     "output_type": "display_data",
     "data": {
      "text/latex": [
       "$\\text{It will be a fraction!}$"
      ],
      "text/plain": [
       "<IPython.core.display.Latex object>"
      ]
     },
     "metadata": {}
    },
    {
     "output_type": "stream",
     "name": "stdout",
     "text": [
      "-2/7\n"
     ]
    },
    {
     "output_type": "display_data",
     "data": {
      "text/latex": [
       "$\\Large \\color{green}{Good!}$"
      ],
      "text/plain": [
       "<IPython.core.display.Latex object>"
      ]
     },
     "metadata": {}
    },
    {
     "output_type": "display_data",
     "data": {
      "text/latex": [
       "$\\Huge \\begin{align} x & =\\frac{-2}{7} \\end{align}$"
      ],
      "text/plain": [
       "<IPython.core.display.Latex object>"
      ]
     },
     "metadata": {}
    },
    {
     "output_type": "display_data",
     "data": {
      "text/latex": [
       "$\\Large \\text{is the solution! }$"
      ],
      "text/plain": [
       "<IPython.core.display.Latex object>"
      ]
     },
     "metadata": {}
    },
    {
     "output_type": "display_data",
     "data": {
      "text/latex": [
       "$\\Large \\text{Lets try another problem! }$"
      ],
      "text/plain": [
       "<IPython.core.display.Latex object>"
      ]
     },
     "metadata": {}
    },
    {
     "output_type": "stream",
     "name": "stdout",
     "text": [
      "\n"
     ]
    },
    {
     "output_type": "display_data",
     "data": {
      "text/latex": [
       "$ \\Huge2x+2 = 9$"
      ],
      "text/plain": [
       "<IPython.core.display.Latex object>"
      ]
     },
     "metadata": {}
    },
    {
     "output_type": "display_data",
     "data": {
      "text/latex": [
       "$ \\Large \\text{What do you want to do?} $"
      ],
      "text/plain": [
       "<IPython.core.display.Latex object>"
      ]
     },
     "metadata": {}
    },
    {
     "output_type": "display_data",
     "data": {
      "text/latex": [
       "$ \\Large \\text{a) add} $"
      ],
      "text/plain": [
       "<IPython.core.display.Latex object>"
      ]
     },
     "metadata": {}
    },
    {
     "output_type": "display_data",
     "data": {
      "text/latex": [
       "$ \\Large \\text{b) subtract} $"
      ],
      "text/plain": [
       "<IPython.core.display.Latex object>"
      ]
     },
     "metadata": {}
    },
    {
     "output_type": "display_data",
     "data": {
      "text/latex": [
       "$ \\Large \\text{c) multiply} $"
      ],
      "text/plain": [
       "<IPython.core.display.Latex object>"
      ]
     },
     "metadata": {}
    },
    {
     "output_type": "display_data",
     "data": {
      "text/latex": [
       "$ \\Large \\text{d) divide} $"
      ],
      "text/plain": [
       "<IPython.core.display.Latex object>"
      ]
     },
     "metadata": {}
    },
    {
     "output_type": "stream",
     "name": "stdout",
     "text": [
      "a\n"
     ]
    },
    {
     "output_type": "display_data",
     "data": {
      "text/latex": [
       "$ \\Large \\text{ok what do you want to add to  both sides?} $"
      ],
      "text/plain": [
       "<IPython.core.display.Latex object>"
      ]
     },
     "metadata": {}
    },
    {
     "output_type": "display_data",
     "data": {
      "text/latex": [
       "$\\Huge \\begin{align}2x + 2& =9\\\\ \\color{blue}{+?} & \\color{white}=  \\color{blue}{+?}  \\end{align}$"
      ],
      "text/plain": [
       "<IPython.core.display.Latex object>"
      ]
     },
     "metadata": {}
    },
    {
     "output_type": "stream",
     "name": "stdout",
     "text": [
      "-2\n"
     ]
    },
    {
     "output_type": "display_data",
     "data": {
      "text/latex": [
       "$\\Huge \\color{green}{Good!}$"
      ],
      "text/plain": [
       "<IPython.core.display.Latex object>"
      ]
     },
     "metadata": {}
    },
    {
     "output_type": "display_data",
     "data": {
      "text/latex": [
       "$\\Huge \\begin{align}2x + 2& =9 \\\\ \\color{blue}{+-2} & \\color{white}=  \\color{blue}{+-2}  \\end{align}$"
      ],
      "text/plain": [
       "<IPython.core.display.Latex object>"
      ]
     },
     "metadata": {}
    },
    {
     "output_type": "display_data",
     "data": {
      "text/latex": [
       "$\\Huge \\ \\ \\uparrow$"
      ],
      "text/plain": [
       "<IPython.core.display.Latex object>"
      ]
     },
     "metadata": {}
    },
    {
     "output_type": "display_data",
     "data": {
      "text/latex": [
       "$\\Large \\text{What does the left side reduce to?}$"
      ],
      "text/plain": [
       "<IPython.core.display.Latex object>"
      ]
     },
     "metadata": {}
    },
    {
     "output_type": "stream",
     "name": "stdout",
     "text": [
      "2x\n"
     ]
    },
    {
     "output_type": "display_data",
     "data": {
      "text/latex": [
       "$\\Huge \\color{green}{Good!}$"
      ],
      "text/plain": [
       "<IPython.core.display.Latex object>"
      ]
     },
     "metadata": {}
    },
    {
     "output_type": "display_data",
     "data": {
      "text/latex": [
       "$\\Huge \\begin{align}2x & =9 \\\\ \\color{white}{+-2} & \\color{white}=  \\color{blue}{+-2}  \\end{align}$"
      ],
      "text/plain": [
       "<IPython.core.display.Latex object>"
      ]
     },
     "metadata": {}
    },
    {
     "output_type": "display_data",
     "data": {
      "text/latex": [
       "$\\Huge  \\; \\; \\; \\; \\; \\; \\; \\; \\; \\; \\; \\; \\; \\; \\; \\; \\; \\; \\; \\; \\; \\; \\; \\;\\uparrow$"
      ],
      "text/plain": [
       "<IPython.core.display.Latex object>"
      ]
     },
     "metadata": {}
    },
    {
     "output_type": "display_data",
     "data": {
      "text/latex": [
       "$\\Large \\text{What does the right side reduce to?}$"
      ],
      "text/plain": [
       "<IPython.core.display.Latex object>"
      ]
     },
     "metadata": {}
    },
    {
     "output_type": "stream",
     "name": "stdout",
     "text": [
      "7\n"
     ]
    },
    {
     "output_type": "display_data",
     "data": {
      "text/latex": [
       "$\\Huge \\color{green}{Good!}$"
      ],
      "text/plain": [
       "<IPython.core.display.Latex object>"
      ]
     },
     "metadata": {}
    },
    {
     "output_type": "display_data",
     "data": {
      "text/latex": [
       "$\\Huge \\begin{align}2x & =7 \\end{align}$"
      ],
      "text/plain": [
       "<IPython.core.display.Latex object>"
      ]
     },
     "metadata": {}
    },
    {
     "output_type": "display_data",
     "data": {
      "text/latex": [
       "$\\Large \\text{Ok what do you want to do next? }$"
      ],
      "text/plain": [
       "<IPython.core.display.Latex object>"
      ]
     },
     "metadata": {}
    },
    {
     "output_type": "display_data",
     "data": {
      "text/latex": [
       "$ \\Large \\text{a) multiply} $"
      ],
      "text/plain": [
       "<IPython.core.display.Latex object>"
      ]
     },
     "metadata": {}
    },
    {
     "output_type": "display_data",
     "data": {
      "text/latex": [
       "$ \\Large \\text{b) divide} $"
      ],
      "text/plain": [
       "<IPython.core.display.Latex object>"
      ]
     },
     "metadata": {}
    },
    {
     "output_type": "stream",
     "name": "stdout",
     "text": [
      "b\n"
     ]
    },
    {
     "output_type": "display_data",
     "data": {
      "text/latex": [
       "$\\Large \\text{Ok what do you want to divide by? }$"
      ],
      "text/plain": [
       "<IPython.core.display.Latex object>"
      ]
     },
     "metadata": {}
    },
    {
     "output_type": "display_data",
     "data": {
      "text/latex": [
       "$\\Huge \\begin{align} \\frac{2x}{\\color{blue}{?}} & = \\frac{7}{\\color{blue}{?}} \\end{align}$"
      ],
      "text/plain": [
       "<IPython.core.display.Latex object>"
      ]
     },
     "metadata": {}
    },
    {
     "output_type": "stream",
     "name": "stdout",
     "text": [
      "3\n"
     ]
    },
    {
     "output_type": "display_data",
     "data": {
      "text/latex": [
       "$\\Large \\text{try again! }$"
      ],
      "text/plain": [
       "<IPython.core.display.Latex object>"
      ]
     },
     "metadata": {}
    },
    {
     "output_type": "display_data",
     "data": {
      "text/latex": [
       "$\\Huge \\begin{align} \\frac{2x}{\\color{blue}{?}} & = \\frac{7}{\\color{blue}{?}} \\end{align}$"
      ],
      "text/plain": [
       "<IPython.core.display.Latex object>"
      ]
     },
     "metadata": {}
    },
    {
     "output_type": "display_data",
     "data": {
      "text/latex": [
       "$\\Large \\text{***Hint we are trying to cancel the coefficient in front of the x}$"
      ],
      "text/plain": [
       "<IPython.core.display.Latex object>"
      ]
     },
     "metadata": {}
    },
    {
     "output_type": "stream",
     "name": "stdout",
     "text": [
      "2\n"
     ]
    },
    {
     "output_type": "display_data",
     "data": {
      "text/latex": [
       "$\\Large \\color{green}{Good!}$"
      ],
      "text/plain": [
       "<IPython.core.display.Latex object>"
      ]
     },
     "metadata": {}
    },
    {
     "output_type": "stream",
     "name": "stdout",
     "text": [
      "\n"
     ]
    },
    {
     "output_type": "display_data",
     "data": {
      "text/latex": [
       "$\\Huge \\begin{align} \\frac{2x}{2} & = \\frac{7}{2} \\end{align}$"
      ],
      "text/plain": [
       "<IPython.core.display.Latex object>"
      ]
     },
     "metadata": {}
    },
    {
     "output_type": "display_data",
     "data": {
      "text/latex": [
       "$\\Huge \\; \\; \\; \\uparrow$"
      ],
      "text/plain": [
       "<IPython.core.display.Latex object>"
      ]
     },
     "metadata": {}
    },
    {
     "output_type": "display_data",
     "data": {
      "text/latex": [
       "$\\text{what does the left side reduce to?}$"
      ],
      "text/plain": [
       "<IPython.core.display.Latex object>"
      ]
     },
     "metadata": {}
    },
    {
     "output_type": "stream",
     "name": "stdout",
     "text": [
      "x\n"
     ]
    },
    {
     "output_type": "display_data",
     "data": {
      "text/latex": [
       "$\\Large \\color{green}{Good!}$"
      ],
      "text/plain": [
       "<IPython.core.display.Latex object>"
      ]
     },
     "metadata": {}
    },
    {
     "output_type": "display_data",
     "data": {
      "text/latex": [
       "$\\Huge \\begin{align} x & =\\frac{7}{2}\\end{align}$"
      ],
      "text/plain": [
       "<IPython.core.display.Latex object>"
      ]
     },
     "metadata": {}
    },
    {
     "output_type": "display_data",
     "data": {
      "text/latex": [
       "$\\Huge \\; \\; \\; \\; \\; \\;\\; \\; \\; \\; \\; \\; \\; \\; \\; \\; \\; \\; \\; \\; \\; \\; \\; \\; \\uparrow$"
      ],
      "text/plain": [
       "<IPython.core.display.Latex object>"
      ]
     },
     "metadata": {}
    },
    {
     "output_type": "display_data",
     "data": {
      "text/latex": [
       "$\\text{what does the right side reduce to?}$"
      ],
      "text/plain": [
       "<IPython.core.display.Latex object>"
      ]
     },
     "metadata": {}
    },
    {
     "output_type": "display_data",
     "data": {
      "text/latex": [
       "$\\text{It will be a fraction!}$"
      ],
      "text/plain": [
       "<IPython.core.display.Latex object>"
      ]
     },
     "metadata": {}
    },
    {
     "output_type": "stream",
     "name": "stdout",
     "text": [
      "7/2\n"
     ]
    },
    {
     "output_type": "display_data",
     "data": {
      "text/latex": [
       "$\\Large \\color{green}{Good!}$"
      ],
      "text/plain": [
       "<IPython.core.display.Latex object>"
      ]
     },
     "metadata": {}
    },
    {
     "output_type": "display_data",
     "data": {
      "text/latex": [
       "$\\Huge \\begin{align} x & =\\frac{7}{2} \\end{align}$"
      ],
      "text/plain": [
       "<IPython.core.display.Latex object>"
      ]
     },
     "metadata": {}
    },
    {
     "output_type": "display_data",
     "data": {
      "text/latex": [
       "$\\Large \\text{is the solution! }$"
      ],
      "text/plain": [
       "<IPython.core.display.Latex object>"
      ]
     },
     "metadata": {}
    },
    {
     "output_type": "display_data",
     "data": {
      "text/latex": [
       "$\\Large \\text{Lets try another problem! }$"
      ],
      "text/plain": [
       "<IPython.core.display.Latex object>"
      ]
     },
     "metadata": {}
    },
    {
     "output_type": "error",
     "ename": "KeyboardInterrupt",
     "evalue": "Interrupted by user",
     "traceback": [
      "\u001b[0;31m---------------------------------------------------------------------------\u001b[0m",
      "\u001b[0;31mKeyboardInterrupt\u001b[0m                         Traceback (most recent call last)",
      "\u001b[0;32m<ipython-input-1-bb832c195fa1>\u001b[0m in \u001b[0;36m<module>\u001b[0;34m\u001b[0m\n\u001b[1;32m    357\u001b[0m                             \u001b[0mdisplay\u001b[0m\u001b[0;34m(\u001b[0m\u001b[0mLatex\u001b[0m\u001b[0;34m(\u001b[0m\u001b[0;34mr\"$\\Large \\text{is the solution! }$\"\u001b[0m\u001b[0;34m)\u001b[0m\u001b[0;34m)\u001b[0m\u001b[0;34m\u001b[0m\u001b[0;34m\u001b[0m\u001b[0m\n\u001b[1;32m    358\u001b[0m                             \u001b[0mdisplay\u001b[0m\u001b[0;34m(\u001b[0m\u001b[0mLatex\u001b[0m\u001b[0;34m(\u001b[0m\u001b[0;34mr\"$\\Large \\text{Lets try another problem! }$\"\u001b[0m\u001b[0;34m)\u001b[0m\u001b[0;34m)\u001b[0m\u001b[0;34m\u001b[0m\u001b[0;34m\u001b[0m\u001b[0m\n\u001b[0;32m--> 359\u001b[0;31m                             \u001b[0minput\u001b[0m\u001b[0;34m(\u001b[0m\u001b[0;34m)\u001b[0m\u001b[0;34m\u001b[0m\u001b[0;34m\u001b[0m\u001b[0m\n\u001b[0m\u001b[1;32m    360\u001b[0m \u001b[0;34m\u001b[0m\u001b[0m\n\u001b[1;32m    361\u001b[0m                         \u001b[0;31m#if they got it incorrect\u001b[0m\u001b[0;34m\u001b[0m\u001b[0;34m\u001b[0m\u001b[0;34m\u001b[0m\u001b[0m\n",
      "\u001b[0;32m~/opt/anaconda3/lib/python3.8/site-packages/ipykernel/kernelbase.py\u001b[0m in \u001b[0;36mraw_input\u001b[0;34m(self, prompt)\u001b[0m\n\u001b[1;32m    858\u001b[0m                 \u001b[0;34m\"raw_input was called, but this frontend does not support input requests.\"\u001b[0m\u001b[0;34m\u001b[0m\u001b[0;34m\u001b[0m\u001b[0m\n\u001b[1;32m    859\u001b[0m             )\n\u001b[0;32m--> 860\u001b[0;31m         return self._input_request(str(prompt),\n\u001b[0m\u001b[1;32m    861\u001b[0m             \u001b[0mself\u001b[0m\u001b[0;34m.\u001b[0m\u001b[0m_parent_ident\u001b[0m\u001b[0;34m,\u001b[0m\u001b[0;34m\u001b[0m\u001b[0;34m\u001b[0m\u001b[0m\n\u001b[1;32m    862\u001b[0m             \u001b[0mself\u001b[0m\u001b[0;34m.\u001b[0m\u001b[0m_parent_header\u001b[0m\u001b[0;34m,\u001b[0m\u001b[0;34m\u001b[0m\u001b[0;34m\u001b[0m\u001b[0m\n",
      "\u001b[0;32m~/opt/anaconda3/lib/python3.8/site-packages/ipykernel/kernelbase.py\u001b[0m in \u001b[0;36m_input_request\u001b[0;34m(self, prompt, ident, parent, password)\u001b[0m\n\u001b[1;32m    902\u001b[0m             \u001b[0;32mexcept\u001b[0m \u001b[0mKeyboardInterrupt\u001b[0m\u001b[0;34m:\u001b[0m\u001b[0;34m\u001b[0m\u001b[0;34m\u001b[0m\u001b[0m\n\u001b[1;32m    903\u001b[0m                 \u001b[0;31m# re-raise KeyboardInterrupt, to truncate traceback\u001b[0m\u001b[0;34m\u001b[0m\u001b[0;34m\u001b[0m\u001b[0;34m\u001b[0m\u001b[0m\n\u001b[0;32m--> 904\u001b[0;31m                 \u001b[0;32mraise\u001b[0m \u001b[0mKeyboardInterrupt\u001b[0m\u001b[0;34m(\u001b[0m\u001b[0;34m\"Interrupted by user\"\u001b[0m\u001b[0;34m)\u001b[0m \u001b[0;32mfrom\u001b[0m \u001b[0;32mNone\u001b[0m\u001b[0;34m\u001b[0m\u001b[0;34m\u001b[0m\u001b[0m\n\u001b[0m\u001b[1;32m    905\u001b[0m             \u001b[0;32mexcept\u001b[0m \u001b[0mException\u001b[0m \u001b[0;32mas\u001b[0m \u001b[0me\u001b[0m\u001b[0;34m:\u001b[0m\u001b[0;34m\u001b[0m\u001b[0;34m\u001b[0m\u001b[0m\n\u001b[1;32m    906\u001b[0m                 \u001b[0mself\u001b[0m\u001b[0;34m.\u001b[0m\u001b[0mlog\u001b[0m\u001b[0;34m.\u001b[0m\u001b[0mwarning\u001b[0m\u001b[0;34m(\u001b[0m\u001b[0;34m\"Invalid Message:\"\u001b[0m\u001b[0;34m,\u001b[0m \u001b[0mexc_info\u001b[0m\u001b[0;34m=\u001b[0m\u001b[0;32mTrue\u001b[0m\u001b[0;34m)\u001b[0m\u001b[0;34m\u001b[0m\u001b[0;34m\u001b[0m\u001b[0m\n",
      "\u001b[0;31mKeyboardInterrupt\u001b[0m: Interrupted by user"
     ]
    }
   ],
   "metadata": {
    "scrolled": false
   }
  },
  {
   "cell_type": "code",
   "execution_count": null,
   "source": [],
   "outputs": [],
   "metadata": {}
  }
 ],
 "metadata": {
  "interpreter": {
   "hash": "31f2aee4e71d21fbe5cf8b01ff0e069b9275f58929596ceb00d14d90e3e16cd6"
  },
  "kernelspec": {
   "display_name": "Python 3",
   "language": "python",
   "name": "python3"
  },
  "language_info": {
   "codemirror_mode": {
    "name": "ipython",
    "version": 3
   },
   "file_extension": ".py",
   "mimetype": "text/x-python",
   "name": "python",
   "nbconvert_exporter": "python",
   "pygments_lexer": "ipython3",
   "version": "3.8.8"
  }
 },
 "nbformat": 4,
 "nbformat_minor": 4
}