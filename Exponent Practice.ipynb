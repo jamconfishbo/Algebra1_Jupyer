{
 "cells": [
  {
   "cell_type": "code",
   "execution_count": 1,
   "id": "121367ec",
   "metadata": {},
   "outputs": [],
   "source": [
    "from IPython.display import display, Latex\n",
    "import random\n"
   ]
  },
  {
   "cell_type": "code",
   "execution_count": null,
   "id": "a3aeb923",
   "metadata": {},
   "outputs": [],
   "source": [
    "## video x^1*x^2\n",
    "## adding exponents \n",
    "##implicit exponent of 1 in x\n",
    "\n",
    "\n"
   ]
  },
  {
   "cell_type": "code",
   "execution_count": null,
   "id": "949e088f",
   "metadata": {},
   "outputs": [
    {
     "data": {
      "text/latex": [
       "$\\Huge \\text{What does this simplify to?} $"
      ],
      "text/plain": [
       "<IPython.core.display.Latex object>"
      ]
     },
     "metadata": {},
     "output_type": "display_data"
    },
    {
     "data": {
      "text/latex": [
       "$\\Huge \\begin{align}b^{}\\cdot b^{} + z^{3}\\cdot z^{}= \\color{blue}{ ?} \\end{align} $"
      ],
      "text/plain": [
       "<IPython.core.display.Latex object>"
      ]
     },
     "metadata": {},
     "output_type": "display_data"
    },
    {
     "name": "stdout",
     "output_type": "stream",
     "text": [
      "b^2+ z^4\n"
     ]
    },
    {
     "data": {
      "text/latex": [
       "$\\Huge \\text{Good!}$"
      ],
      "text/plain": [
       "<IPython.core.display.Latex object>"
      ]
     },
     "metadata": {},
     "output_type": "display_data"
    },
    {
     "data": {
      "text/latex": [
       "$\\Huge \\begin{align}b^{1}\\cdot b^{1}+z^{3} \\cdot z^{1}=b^{2}+z^{4} \\end{align} $"
      ],
      "text/plain": [
       "<IPython.core.display.Latex object>"
      ]
     },
     "metadata": {},
     "output_type": "display_data"
    },
    {
     "data": {
      "text/latex": [
       "$\\Huge \\text{lets try another problem!}$"
      ],
      "text/plain": [
       "<IPython.core.display.Latex object>"
      ]
     },
     "metadata": {},
     "output_type": "display_data"
    },
    {
     "data": {
      "text/latex": [
       "$\\\\$"
      ],
      "text/plain": [
       "<IPython.core.display.Latex object>"
      ]
     },
     "metadata": {},
     "output_type": "display_data"
    },
    {
     "name": "stdout",
     "output_type": "stream",
     "text": [
      "\n"
     ]
    },
    {
     "data": {
      "text/latex": [
       "$\\Huge \\text{What does this simplify to?} $"
      ],
      "text/plain": [
       "<IPython.core.display.Latex object>"
      ]
     },
     "metadata": {},
     "output_type": "display_data"
    },
    {
     "data": {
      "text/latex": [
       "$\\Huge \\begin{align}b^{3}\\cdot b^{} + x^{}\\cdot x^{2}= \\color{blue}{ ?} \\end{align} $"
      ],
      "text/plain": [
       "<IPython.core.display.Latex object>"
      ]
     },
     "metadata": {},
     "output_type": "display_data"
    },
    {
     "name": "stdout",
     "output_type": "stream",
     "text": [
      "b^4+x^3\n"
     ]
    },
    {
     "data": {
      "text/latex": [
       "$\\Huge \\text{Good!}$"
      ],
      "text/plain": [
       "<IPython.core.display.Latex object>"
      ]
     },
     "metadata": {},
     "output_type": "display_data"
    },
    {
     "data": {
      "text/latex": [
       "$\\Huge \\begin{align}b^{3}\\cdot b^{1}+x^{1} \\cdot x^{2}=b^{4}+x^{3} \\end{align} $"
      ],
      "text/plain": [
       "<IPython.core.display.Latex object>"
      ]
     },
     "metadata": {},
     "output_type": "display_data"
    },
    {
     "data": {
      "text/latex": [
       "$\\Huge \\text{lets try another problem!}$"
      ],
      "text/plain": [
       "<IPython.core.display.Latex object>"
      ]
     },
     "metadata": {},
     "output_type": "display_data"
    },
    {
     "data": {
      "text/latex": [
       "$\\\\$"
      ],
      "text/plain": [
       "<IPython.core.display.Latex object>"
      ]
     },
     "metadata": {},
     "output_type": "display_data"
    },
    {
     "name": "stdout",
     "output_type": "stream",
     "text": [
      "\n"
     ]
    },
    {
     "data": {
      "text/latex": [
       "$\\Huge \\text{What does this simplify to?} $"
      ],
      "text/plain": [
       "<IPython.core.display.Latex object>"
      ]
     },
     "metadata": {},
     "output_type": "display_data"
    },
    {
     "data": {
      "text/latex": [
       "$\\Huge \\begin{align}c^{4}\\cdot c^{3} + z^{4}\\cdot z^{2}= \\color{blue}{ ?} \\end{align} $"
      ],
      "text/plain": [
       "<IPython.core.display.Latex object>"
      ]
     },
     "metadata": {},
     "output_type": "display_data"
    },
    {
     "name": "stdout",
     "output_type": "stream",
     "text": [
      "c^8\n"
     ]
    },
    {
     "data": {
      "text/latex": [
       "$\\Huge \\text{Try again}$"
      ],
      "text/plain": [
       "<IPython.core.display.Latex object>"
      ]
     },
     "metadata": {},
     "output_type": "display_data"
    },
    {
     "data": {
      "text/latex": [
       "$\\Huge \\text{What does this simplify to?} $"
      ],
      "text/plain": [
       "<IPython.core.display.Latex object>"
      ]
     },
     "metadata": {},
     "output_type": "display_data"
    },
    {
     "data": {
      "text/latex": [
       "$\\Huge \\begin{align}c^{4}\\cdot c^{3} +z^{4}\\cdot z^{2} = \\end{align} $"
      ],
      "text/plain": [
       "<IPython.core.display.Latex object>"
      ]
     },
     "metadata": {},
     "output_type": "display_data"
    },
    {
     "name": "stdout",
     "output_type": "stream",
     "text": [
      "c^7+z^6\n"
     ]
    },
    {
     "data": {
      "text/latex": [
       "$\\Huge \\text{Good!}$"
      ],
      "text/plain": [
       "<IPython.core.display.Latex object>"
      ]
     },
     "metadata": {},
     "output_type": "display_data"
    },
    {
     "data": {
      "text/latex": [
       "$\\Huge \\begin{align}c^{4}\\cdot c^{3}+z^{4} \\cdot z^{2}=c^{7}+z^{6} \\end{align} $"
      ],
      "text/plain": [
       "<IPython.core.display.Latex object>"
      ]
     },
     "metadata": {},
     "output_type": "display_data"
    },
    {
     "data": {
      "text/latex": [
       "$\\Huge \\text{lets try another problem!}$"
      ],
      "text/plain": [
       "<IPython.core.display.Latex object>"
      ]
     },
     "metadata": {},
     "output_type": "display_data"
    },
    {
     "data": {
      "text/latex": [
       "$\\\\$"
      ],
      "text/plain": [
       "<IPython.core.display.Latex object>"
      ]
     },
     "metadata": {},
     "output_type": "display_data"
    }
   ],
   "source": [
    "#multiplying two terms \n",
    "##examples of form x^r*x^t + y^s*y^q\n",
    "\n",
    "def runProb():\n",
    "    r = random.randrange(1,5)\n",
    "    t = random.randrange(1,5)\n",
    "    s = random.randrange(1,5)\n",
    "    q = random.randrange(1,5)\n",
    "    \n",
    "    if r == 1:\n",
    "        rstr = \"\"\n",
    "    else:\n",
    "        rstr= str(r)\n",
    "        \n",
    "    if t == 1:\n",
    "        tstr = \"\"\n",
    "    else:\n",
    "        tstr= str(t)\n",
    "        \n",
    "    if s == 1:\n",
    "        sstr = \"\"\n",
    "    else:\n",
    "        sstr= str(s)\n",
    "        \n",
    "    if q == 1:\n",
    "        qstr = \"\"\n",
    "    else:\n",
    "        qstr= str(q)\n",
    "    \n",
    "    \n",
    "    \n",
    "    if r+t == 1:\n",
    "        exp1 = \"\"\n",
    "    else:\n",
    "        exp1 = str(r+t)\n",
    "        \n",
    "    \n",
    "    if s+q == 1:\n",
    "        exp2 = \"\"\n",
    "    else:\n",
    "        exp2 = str(s+q)\n",
    "        \n",
    "        \n",
    "    \n",
    "    vars1 = [\"a\",\"b\",\"c\",\"d\", \"e\"]\n",
    "    index1 = random.randint(0,len(vars1)-1)\n",
    "    vars2 = [\"x\",\"y\",\"z\"]\n",
    "    index2 = random.randint(0,len(vars2)-1)\n",
    "    display(Latex(r\"$\\Huge \\text{What does this simplify to?} $\"))\n",
    "    display(Latex(r\"$\\Huge \\begin{align}\"+str(vars1[index1])+\"^\"+r\"{\"+rstr+r\"}\"+r\"\\cdot \"+str(vars1[index1])+\"^\"+r\"{\"+tstr+r\"}\"+r\" + \"+str(vars2[index2])+r\"^{\"+sstr+r\"}\"+r\"\\cdot \"+str(vars2[index2])+r\"^{\"+qstr+r\"}\"+r\"= \\color{blue}{ ?} \\end{align} $\"))\n",
    "    \n",
    "    correct1 = str(vars1[index1])+r\"^\"+str(r+t)+r\"+\"+str(vars2[index2])+r\"^\"+str(s+q)\n",
    "    correct2 = str(vars1[index1])+r\"^\"+exp1+r\"+\"+str(vars2[index2])+r\"^\"+exp2\n",
    "    \n",
    "    while True:\n",
    "        ans = str(input())\n",
    "        ans = ans.replace(\" \", \"\")\n",
    "        if ans == correct1 or ans == correct2:\n",
    "            \n",
    "            #reformats ans to be latexable\n",
    "            ans = str(vars1[index1])+\"^{\"+exp1+r\"}+\"+str(vars2[index2])+r\"^{\"+exp2+r\"}\"\n",
    "            display(Latex(r\"$\\Huge \\text{Good!}$\"))\n",
    "            display(Latex(r\"$\\Huge \\begin{align}\"+str(vars1[index1])+\"^\"+r\"{\"+str(r)+r\"}\"+r\"\\cdot \"+str(vars1[index1])+\"^\"+r\"{\"+str(t)+r\"}\"+r\"+\"+str(vars2[index2])+\"^{\"+str(s)+r\"} \\cdot \"+str(vars2[index2])+\"^{\"+str(q)+r\"}\"+r\"=\"+ans+r\" \\end{align} $\"))\n",
    "            display(Latex(r\"$\\Huge \\text{lets try another problem!}$\"))\n",
    "            display(Latex(r\"$\\\\$\"))\n",
    "            input()\n",
    "            break\n",
    "\n",
    "        else:\n",
    "            display(Latex(r\"$\\Huge \\text{Try again}$\"))\n",
    "            display(Latex(r\"$\\Huge \\text{What does this simplify to?} $\"))\n",
    "            display(Latex(r\"$\\Huge \\begin{align}\"+str(vars1[index1])+r\"^{\"+str(r)+r\"}\"+r\"\\cdot \"+str(vars1[index1])+\"^{\"+str(t)+r\"}\"+r\" +\"+str(vars2[index2])+r\"^{\"+str(s)+r\"}\"+r\"\\cdot \"+str(vars2[index2])+r\"^{\"+str(q)+r\"}\"+r\" = \\end{align} $\"))\n",
    "    return\n",
    "\n",
    "numprobs = 7\n",
    "\n",
    "for k in range(numprobs):\n",
    "    runProb()\n",
    "\n"
   ]
  },
  {
   "cell_type": "code",
   "execution_count": 14,
   "id": "5630dfd3",
   "metadata": {},
   "outputs": [
    {
     "data": {
      "text/latex": [
       "$5x ^   {100}$"
      ],
      "text/plain": [
       "<IPython.core.display.Latex object>"
      ]
     },
     "metadata": {},
     "output_type": "display_data"
    }
   ],
   "source": [
    "#video of multiplication of exponents\n",
    "# (x^2)^3\n"
   ]
  },
  {
   "cell_type": "code",
   "execution_count": null,
   "id": "e4943443",
   "metadata": {},
   "outputs": [],
   "source": [
    "#practice multiplication of exponents"
   ]
  },
  {
   "cell_type": "code",
   "execution_count": null,
   "id": "cf22745c",
   "metadata": {},
   "outputs": [],
   "source": [
    "#vido of distribution of exponents\n",
    "#(4x^5)^3\n"
   ]
  },
  {
   "cell_type": "code",
   "execution_count": null,
   "id": "bdb4ef86",
   "metadata": {},
   "outputs": [],
   "source": [
    "#practice distribution of exponents"
   ]
  },
  {
   "cell_type": "code",
   "execution_count": null,
   "id": "983f6a39",
   "metadata": {},
   "outputs": [],
   "source": [
    "string = \"5x + 4\"\n",
    "print(string.replace(\" \", \"\"))"
   ]
  },
  {
   "cell_type": "code",
   "execution_count": null,
   "id": "42f82217",
   "metadata": {},
   "outputs": [],
   "source": []
  },
  {
   "cell_type": "code",
   "execution_count": null,
   "id": "58376ad7",
   "metadata": {},
   "outputs": [],
   "source": []
  }
 ],
 "metadata": {
  "kernelspec": {
   "display_name": "Python 3",
   "language": "python",
   "name": "python3"
  },
  "language_info": {
   "codemirror_mode": {
    "name": "ipython",
    "version": 3
   },
   "file_extension": ".py",
   "mimetype": "text/x-python",
   "name": "python",
   "nbconvert_exporter": "python",
   "pygments_lexer": "ipython3",
   "version": "3.8.8"
  }
 },
 "nbformat": 4,
 "nbformat_minor": 5
}
