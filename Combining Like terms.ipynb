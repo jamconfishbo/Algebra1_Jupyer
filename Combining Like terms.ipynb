{
 "cells": [
  {
   "cell_type": "code",
   "execution_count": 3,
   "id": "3f361256",
   "metadata": {},
   "outputs": [
    {
     "data": {
      "text/latex": [
       "$ \\Large \\text{combine the like terms:} $"
      ],
      "text/plain": [
       "<IPython.core.display.Latex object>"
      ]
     },
     "metadata": {},
     "output_type": "display_data"
    },
    {
     "data": {
      "text/latex": [
       "$\\Huge 6x +2x + 0y + 6y= $"
      ],
      "text/plain": [
       "<IPython.core.display.Latex object>"
      ]
     },
     "metadata": {},
     "output_type": "display_data"
    },
    {
     "name": "stdout",
     "output_type": "stream",
     "text": [
      "8x+6y\n"
     ]
    },
    {
     "data": {
      "text/latex": [
       "$\\Huge 6x +2x + 0y + 6y= 8x+6y $"
      ],
      "text/plain": [
       "<IPython.core.display.Latex object>"
      ]
     },
     "metadata": {},
     "output_type": "display_data"
    },
    {
     "data": {
      "text/latex": [
       "$ \\text{Good job! move on to next question.} $"
      ],
      "text/plain": [
       "<IPython.core.display.Latex object>"
      ]
     },
     "metadata": {},
     "output_type": "display_data"
    },
    {
     "data": {
      "text/latex": [
       "$ \\text{push any botton for next problem.} $"
      ],
      "text/plain": [
       "<IPython.core.display.Latex object>"
      ]
     },
     "metadata": {},
     "output_type": "display_data"
    },
    {
     "name": "stdout",
     "output_type": "stream",
     "text": [
      "\n"
     ]
    },
    {
     "data": {
      "text/latex": [
       "$ \\Large \\text{combine the like terms:} $"
      ],
      "text/plain": [
       "<IPython.core.display.Latex object>"
      ]
     },
     "metadata": {},
     "output_type": "display_data"
    },
    {
     "data": {
      "text/latex": [
       "$\\Huge 5x +3x + 6y + 2y= $"
      ],
      "text/plain": [
       "<IPython.core.display.Latex object>"
      ]
     },
     "metadata": {},
     "output_type": "display_data"
    },
    {
     "name": "stdout",
     "output_type": "stream",
     "text": [
      "8x+8y\n"
     ]
    },
    {
     "data": {
      "text/latex": [
       "$\\Huge 5x +3x + 6y + 2y= 8x+8y $"
      ],
      "text/plain": [
       "<IPython.core.display.Latex object>"
      ]
     },
     "metadata": {},
     "output_type": "display_data"
    },
    {
     "data": {
      "text/latex": [
       "$ \\text{Good job! move on to next question.} $"
      ],
      "text/plain": [
       "<IPython.core.display.Latex object>"
      ]
     },
     "metadata": {},
     "output_type": "display_data"
    },
    {
     "data": {
      "text/latex": [
       "$ \\text{push any botton for next problem.} $"
      ],
      "text/plain": [
       "<IPython.core.display.Latex object>"
      ]
     },
     "metadata": {},
     "output_type": "display_data"
    },
    {
     "name": "stdout",
     "output_type": "stream",
     "text": [
      "f\n"
     ]
    },
    {
     "data": {
      "text/latex": [
       "$ \\Large \\text{combine the like terms:} $"
      ],
      "text/plain": [
       "<IPython.core.display.Latex object>"
      ]
     },
     "metadata": {},
     "output_type": "display_data"
    },
    {
     "data": {
      "text/latex": [
       "$\\Huge 6x +1x + 7y + 1y= $"
      ],
      "text/plain": [
       "<IPython.core.display.Latex object>"
      ]
     },
     "metadata": {},
     "output_type": "display_data"
    },
    {
     "name": "stdout",
     "output_type": "stream",
     "text": [
      "8y+7x\n"
     ]
    },
    {
     "data": {
      "text/latex": [
       "$\\Huge 6x +1x + 7y + 1y= 8y+7x $"
      ],
      "text/plain": [
       "<IPython.core.display.Latex object>"
      ]
     },
     "metadata": {},
     "output_type": "display_data"
    },
    {
     "data": {
      "text/latex": [
       "$ \\text{Good job! move on to next question.} $"
      ],
      "text/plain": [
       "<IPython.core.display.Latex object>"
      ]
     },
     "metadata": {},
     "output_type": "display_data"
    },
    {
     "data": {
      "text/latex": [
       "$ \\text{push any botton for next problem.} $"
      ],
      "text/plain": [
       "<IPython.core.display.Latex object>"
      ]
     },
     "metadata": {},
     "output_type": "display_data"
    },
    {
     "name": "stdout",
     "output_type": "stream",
     "text": [
      "\n"
     ]
    },
    {
     "data": {
      "text/latex": [
       "$ \\Large \\text{combine the like terms:} $"
      ],
      "text/plain": [
       "<IPython.core.display.Latex object>"
      ]
     },
     "metadata": {},
     "output_type": "display_data"
    },
    {
     "data": {
      "text/latex": [
       "$\\Huge 2x +8x + 0y + 4y= $"
      ],
      "text/plain": [
       "<IPython.core.display.Latex object>"
      ]
     },
     "metadata": {},
     "output_type": "display_data"
    },
    {
     "name": "stdout",
     "output_type": "stream",
     "text": [
      "9x+4y\n"
     ]
    },
    {
     "data": {
      "text/latex": [
       "$ \\text{oops try again} $"
      ],
      "text/plain": [
       "<IPython.core.display.Latex object>"
      ]
     },
     "metadata": {},
     "output_type": "display_data"
    },
    {
     "name": "stdout",
     "output_type": "stream",
     "text": [
      "10x+5y\n"
     ]
    },
    {
     "data": {
      "text/latex": [
       "$ \\text{oops try again} $"
      ],
      "text/plain": [
       "<IPython.core.display.Latex object>"
      ]
     },
     "metadata": {},
     "output_type": "display_data"
    },
    {
     "name": "stdout",
     "output_type": "stream",
     "text": [
      "10x+4y\n"
     ]
    },
    {
     "data": {
      "text/latex": [
       "$\\Huge 2x +8x + 0y + 4y= 10x+4y $"
      ],
      "text/plain": [
       "<IPython.core.display.Latex object>"
      ]
     },
     "metadata": {},
     "output_type": "display_data"
    },
    {
     "data": {
      "text/latex": [
       "$ \\text{Good job! move on to next question.} $"
      ],
      "text/plain": [
       "<IPython.core.display.Latex object>"
      ]
     },
     "metadata": {},
     "output_type": "display_data"
    },
    {
     "data": {
      "text/latex": [
       "$ \\text{push any botton for next problem.} $"
      ],
      "text/plain": [
       "<IPython.core.display.Latex object>"
      ]
     },
     "metadata": {},
     "output_type": "display_data"
    },
    {
     "name": "stdout",
     "output_type": "stream",
     "text": [
      "\n"
     ]
    },
    {
     "data": {
      "text/latex": [
       "$ \\Large \\text{combine the like terms:} $"
      ],
      "text/plain": [
       "<IPython.core.display.Latex object>"
      ]
     },
     "metadata": {},
     "output_type": "display_data"
    },
    {
     "data": {
      "text/latex": [
       "$\\Huge 8x +2x + 5y + 6y= $"
      ],
      "text/plain": [
       "<IPython.core.display.Latex object>"
      ]
     },
     "metadata": {},
     "output_type": "display_data"
    },
    {
     "name": "stdout",
     "output_type": "stream",
     "text": [
      "10x+11y\n"
     ]
    },
    {
     "data": {
      "text/latex": [
       "$\\Huge 8x +2x + 5y + 6y= 10x+11y $"
      ],
      "text/plain": [
       "<IPython.core.display.Latex object>"
      ]
     },
     "metadata": {},
     "output_type": "display_data"
    },
    {
     "data": {
      "text/latex": [
       "$ \\text{Good job! move on to next question.} $"
      ],
      "text/plain": [
       "<IPython.core.display.Latex object>"
      ]
     },
     "metadata": {},
     "output_type": "display_data"
    },
    {
     "data": {
      "text/latex": [
       "$ \\text{push any botton for next problem.} $"
      ],
      "text/plain": [
       "<IPython.core.display.Latex object>"
      ]
     },
     "metadata": {},
     "output_type": "display_data"
    },
    {
     "name": "stdout",
     "output_type": "stream",
     "text": [
      "s\n"
     ]
    },
    {
     "data": {
      "text/latex": [
       "$ \\Large \\text{combine the like terms:} $"
      ],
      "text/plain": [
       "<IPython.core.display.Latex object>"
      ]
     },
     "metadata": {},
     "output_type": "display_data"
    },
    {
     "data": {
      "text/latex": [
       "$\\Huge 6x +5x + 1y + 6y= $"
      ],
      "text/plain": [
       "<IPython.core.display.Latex object>"
      ]
     },
     "metadata": {},
     "output_type": "display_data"
    },
    {
     "name": "stdout",
     "output_type": "stream",
     "text": [
      "11x+7y\n"
     ]
    },
    {
     "data": {
      "text/latex": [
       "$\\Huge 6x +5x + 1y + 6y= 11x+7y $"
      ],
      "text/plain": [
       "<IPython.core.display.Latex object>"
      ]
     },
     "metadata": {},
     "output_type": "display_data"
    },
    {
     "data": {
      "text/latex": [
       "$ \\text{Good job! move on to next question.} $"
      ],
      "text/plain": [
       "<IPython.core.display.Latex object>"
      ]
     },
     "metadata": {},
     "output_type": "display_data"
    },
    {
     "data": {
      "text/latex": [
       "$ \\text{push any botton for next problem.} $"
      ],
      "text/plain": [
       "<IPython.core.display.Latex object>"
      ]
     },
     "metadata": {},
     "output_type": "display_data"
    },
    {
     "name": "stdout",
     "output_type": "stream",
     "text": [
      "d\n"
     ]
    },
    {
     "data": {
      "text/latex": [
       "$ \\Large \\text{combine the like terms:} $"
      ],
      "text/plain": [
       "<IPython.core.display.Latex object>"
      ]
     },
     "metadata": {},
     "output_type": "display_data"
    },
    {
     "data": {
      "text/latex": [
       "$\\Huge 6x +0x + 5y + 6y= $"
      ],
      "text/plain": [
       "<IPython.core.display.Latex object>"
      ]
     },
     "metadata": {},
     "output_type": "display_data"
    },
    {
     "name": "stdout",
     "output_type": "stream",
     "text": [
      "7x+11y\n"
     ]
    },
    {
     "data": {
      "text/latex": [
       "$ \\text{oops try again} $"
      ],
      "text/plain": [
       "<IPython.core.display.Latex object>"
      ]
     },
     "metadata": {},
     "output_type": "display_data"
    },
    {
     "name": "stdout",
     "output_type": "stream",
     "text": [
      "6x+11y\n"
     ]
    },
    {
     "data": {
      "text/latex": [
       "$\\Huge 6x +0x + 5y + 6y= 6x+11y $"
      ],
      "text/plain": [
       "<IPython.core.display.Latex object>"
      ]
     },
     "metadata": {},
     "output_type": "display_data"
    },
    {
     "data": {
      "text/latex": [
       "$ \\text{Good job! move on to next question.} $"
      ],
      "text/plain": [
       "<IPython.core.display.Latex object>"
      ]
     },
     "metadata": {},
     "output_type": "display_data"
    },
    {
     "data": {
      "text/latex": [
       "$ \\text{push any botton for next problem.} $"
      ],
      "text/plain": [
       "<IPython.core.display.Latex object>"
      ]
     },
     "metadata": {},
     "output_type": "display_data"
    },
    {
     "name": "stdout",
     "output_type": "stream",
     "text": [
      "d\n"
     ]
    }
   ],
   "source": [
    "from IPython.display import display, Latex\n",
    "import random\n",
    "\n",
    "\n",
    "\n",
    "\n",
    "\n",
    "\n",
    "#assigns 7 random problems with positive numbers\n",
    "for i in range(7):\n",
    "    a = random.randrange(10)\n",
    "    b = random.randrange(10)\n",
    "    c = random.randrange(10)\n",
    "    d = random.randrange(10)\n",
    "    term = f'$\\Huge {a}x +{b}x + {c}y + {d}y= $'\n",
    "    display(Latex(r\"$ \\Large \\text{combine the like terms:} $\"))\n",
    "    display(Latex(term))\n",
    "\n",
    "    correct = False\n",
    "    while correct == False:    \n",
    "        t = str(input())\n",
    "        xco = str(a+b)\n",
    "        yco = str(c+d)\n",
    "        \n",
    "            \n",
    "        pos1 = xco+\"x+\"+yco+\"y\"\n",
    "        pos2 = yco+\"y+\"+ xco+\"x\"          \n",
    "        pos3 = xco+\"(x)+\"+yco+\"(y)\"\n",
    "        pos4 = yco+\"(y)+\"+ xco+\"(x)\"\n",
    "        pos5 = \"(\"+xco+\")\"+\"x+\"+\"(\"+yco+\")\"+\"y\"\n",
    "        pos6 = \"(\"+yco+\")\"+\"y+\"+ \"(\"+xco+\")\"+\"x\"\n",
    "            \n",
    "            \n",
    "        if(t == pos1 or t == pos2 or t == pos3 or t == pos4 or t == pos5 or t == pos5):\n",
    "            correct = True\n",
    "            \n",
    "        else:\n",
    "           display(Latex(r\"$ \\text{oops try again} $\")) \n",
    "    \n",
    "    display(Latex(f'$\\Huge {a}x +{b}x + {c}y + {d}y= {t} $'))    \n",
    "    display(Latex(r\"$ \\text{Good job! move on to next question.} $\"))\n",
    "    display(Latex(r\"$ \\text{push any botton for next problem.} $\"))\n",
    "    input()\n",
    "    correct = False\n"
   ]
  },
  {
   "cell_type": "code",
   "execution_count": null,
   "id": "e8316300",
   "metadata": {},
   "outputs": [],
   "source": []
  }
 ],
 "metadata": {
  "kernelspec": {
   "display_name": "Python 3",
   "language": "python",
   "name": "python3"
  },
  "language_info": {
   "codemirror_mode": {
    "name": "ipython",
    "version": 3
   },
   "file_extension": ".py",
   "mimetype": "text/x-python",
   "name": "python",
   "nbconvert_exporter": "python",
   "pygments_lexer": "ipython3",
   "version": "3.8.8"
  }
 },
 "nbformat": 4,
 "nbformat_minor": 5
}
